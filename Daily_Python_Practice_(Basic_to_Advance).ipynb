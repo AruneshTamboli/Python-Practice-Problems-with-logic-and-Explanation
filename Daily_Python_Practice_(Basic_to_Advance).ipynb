{
  "nbformat": 4,
  "nbformat_minor": 0,
  "metadata": {
    "colab": {
      "name": "Daily Python Practice (Basic to Advance).ipynb",
      "provenance": [],
      "collapsed_sections": [
        "M34QIecFpGIe",
        "kxPHJ4xcs0-a",
        "igLZ3QEutw5u",
        "bQXU3iv3wFZG",
        "aODTTHGTTj-n",
        "tgmEd3oEWrgo",
        "qebeaHsldot5",
        "UNm77fHp5Fux",
        "Wcy6150X7jZJ",
        "DG52At1w8xkA",
        "wk6_Lka89y1F",
        "cRPKZyi4-wQ_",
        "CEQO5zeE-3qW",
        "eTDbXRIH_pc1",
        "FgPN34FIFvlC",
        "5xOsdWSeGKZs",
        "Q2TW7pAxZFXI",
        "hIJoGICAjTw2",
        "3kBrL76ikTd_",
        "c_zQg8TussAW",
        "HWPV1K7DOnbV",
        "jWHtP6ocRdwF",
        "C0t7rVgMSnbd",
        "WusoThcvJ_jp",
        "vE2UX_LuKJgA",
        "y0AGWYkhKaLG",
        "Ee96paZkWhxA",
        "9ladFwI2X464",
        "zjxXMmjsmdrm",
        "f8JvPbm6pRXJ",
        "txaPjRGTsQ7m",
        "FKcveZhotwif",
        "7rZ6OryWvz4P",
        "KV_3xiJfwXfo",
        "Y047w7NHxJjl",
        "O7AX_ktzxxBQ",
        "NcXVzmx603Ze",
        "j2X7Ly972-vi",
        "ScHdIXNC-c8W",
        "GEcroAkVFAvP",
        "MP1fcRqGGRDs",
        "miaJPHxMHG18",
        "o6_QiKIrLsaY",
        "1LLx6PHcdJQ3",
        "OjOKJQhHZIFt",
        "W5YJ2iWvZgM0",
        "VxYwFjggamvr",
        "GIJbWGHTbhlc",
        "q4lx4cG4c8tm",
        "JTZCwQzNh1FM",
        "R9eApJrVjpOZ",
        "hetDo9s1uJP2",
        "A27HfCCH8CXw",
        "oTdqFlVeAJ8n",
        "Tbf-L92ZJTiy",
        "dAnPLEDKJTZy",
        "Kc_Twb3rLAIC",
        "eVB4DtCkNNIg",
        "gE9oWLE4Ospv",
        "07FlsRtuQ7E7",
        "DnO2x7zYS6Hw",
        "Vsud12EFUuin",
        "-Z05vp3JYzp5",
        "m6C6PIJxaMaY",
        "a5r7wSuMNJb8",
        "rwL_7ocBSbC_",
        "LaSBDGDVVvrW",
        "2tMUcASNiIQf",
        "QhMc6n2akX3D",
        "FWOnseAMlgCN",
        "0NbkIHG6qhRE",
        "QiJYNHorsCav",
        "4DhE84EIus54",
        "ymdSDOBfgnjs",
        "SldBhZ6JhnZ8",
        "gkiJkCe0hosO"
      ],
      "mount_file_id": "1nuDWzL1yumhvIU4grGRvdduj5iE7Vb63",
      "authorship_tag": "ABX9TyPtE6DRbl+78MF8hB/0hCAh",
      "include_colab_link": true
    },
    "kernelspec": {
      "name": "python3",
      "display_name": "Python 3"
    },
    "language_info": {
      "name": "python"
    }
  },
  "cells": [
    {
      "cell_type": "markdown",
      "metadata": {
        "id": "view-in-github",
        "colab_type": "text"
      },
      "source": [
        "<a href=\"https://colab.research.google.com/github/AruneshTamboli/Python-Practice-Problems-with-logic-and-Explanation/blob/main/Daily_Python_Practice_(Basic_to_Advance).ipynb\" target=\"_parent\"><img src=\"https://colab.research.google.com/assets/colab-badge.svg\" alt=\"Open In Colab\"/></a>"
      ]
    },
    {
      "cell_type": "code",
      "execution_count": null,
      "metadata": {
        "colab": {
          "base_uri": "https://localhost:8080/"
        },
        "id": "VVuOlkOr2bOV",
        "outputId": "6f1fffa8-8c81-4df8-dbef-6371a56b664c"
      },
      "outputs": [
        {
          "output_type": "stream",
          "name": "stdout",
          "text": [
            "Five is greater than two!\n"
          ]
        }
      ],
      "source": [
        "\n",
        "if 5 > 2: print(\"Five is greater than two!\")"
      ]
    },
    {
      "cell_type": "code",
      "source": [
        "\n",
        "i = 0\n",
        "while i < 6:\n",
        "  i += 1\n",
        "  if i == 3:\n",
        "    continue\n",
        "\n",
        "  print(i)"
      ],
      "metadata": {
        "colab": {
          "base_uri": "https://localhost:8080/"
        },
        "id": "-ONz5SFUC5Sq",
        "outputId": "8e27dd90-353e-4989-a92b-8694b83682ab"
      },
      "execution_count": null,
      "outputs": [
        {
          "output_type": "stream",
          "name": "stdout",
          "text": [
            "1\n",
            "2\n",
            "4\n",
            "5\n",
            "6\n"
          ]
        }
      ]
    },
    {
      "cell_type": "code",
      "source": [
        "def my_function(x):\n",
        "  \n",
        "  return x+5"
      ],
      "metadata": {
        "id": "6SivPtb2C5QE"
      },
      "execution_count": null,
      "outputs": []
    },
    {
      "cell_type": "code",
      "source": [
        "def my_function(*kids):\n",
        "  print(\"The youngest child is \" + kids[2])"
      ],
      "metadata": {
        "id": "X-iL6t8oC5Nl"
      },
      "execution_count": null,
      "outputs": []
    },
    {
      "cell_type": "code",
      "source": [
        "my_function(5kids)"
      ],
      "metadata": {
        "colab": {
          "base_uri": "https://localhost:8080/",
          "height": 130
        },
        "id": "lMsuUQUkGG_5",
        "outputId": "56bde38f-75f2-4fb2-abb9-93e8ab8f30d5"
      },
      "execution_count": null,
      "outputs": [
        {
          "output_type": "error",
          "ename": "SyntaxError",
          "evalue": "ignored",
          "traceback": [
            "\u001b[0;36m  File \u001b[0;32m\"<ipython-input-65-76bd4b01127b>\"\u001b[0;36m, line \u001b[0;32m1\u001b[0m\n\u001b[0;31m    my_function(5kids)\u001b[0m\n\u001b[0m                    ^\u001b[0m\n\u001b[0;31mSyntaxError\u001b[0m\u001b[0;31m:\u001b[0m invalid syntax\n"
          ]
        }
      ]
    },
    {
      "cell_type": "code",
      "source": [
        "class MyClass:\n",
        "  x = 5\n",
        "\n",
        "p1 = MyClass()\n",
        "\n",
        "print(\n",
        "p1\n",
        ")"
      ],
      "metadata": {
        "colab": {
          "base_uri": "https://localhost:8080/"
        },
        "id": "pWAU3qtbGG9U",
        "outputId": "11e381d9-7cd6-4a2c-8991-1b8ebedea4d8"
      },
      "execution_count": null,
      "outputs": [
        {
          "output_type": "stream",
          "name": "stdout",
          "text": [
            "<__main__.MyClass object at 0x7f2a5e267250>\n"
          ]
        }
      ]
    },
    {
      "cell_type": "code",
      "source": [
        "x = float(2.5)"
      ],
      "metadata": {
        "id": "skG-kvDWHZEv"
      },
      "execution_count": null,
      "outputs": []
    },
    {
      "cell_type": "code",
      "source": [
        "x"
      ],
      "metadata": {
        "id": "fsZi5dp8HZCI",
        "outputId": "3e947349-b0d2-43ae-d830-37783dd04de1",
        "colab": {
          "base_uri": "https://localhost:8080/"
        }
      },
      "execution_count": null,
      "outputs": [
        {
          "output_type": "execute_result",
          "data": {
            "text/plain": [
              "2.5"
            ]
          },
          "metadata": {},
          "execution_count": 68
        }
      ]
    },
    {
      "cell_type": "code",
      "source": [
        "previous_num = 0\n",
        "print(\"Printing current and previous number sum in range(10)\")\n",
        "\n",
        "while previous_num < 10:\n",
        "  current_num = previous_sum + 1\n",
        "  Print(f\"Current_number {current_num} Privious number {previous_sum})"
      ],
      "metadata": {
        "id": "GbsbrJcOHY_p",
        "outputId": "6783fef7-743e-4f11-d00b-b9e78e01971e",
        "colab": {
          "base_uri": "https://localhost:8080/",
          "height": 130
        }
      },
      "execution_count": null,
      "outputs": [
        {
          "output_type": "error",
          "ename": "SyntaxError",
          "evalue": "ignored",
          "traceback": [
            "\u001b[0;36m  File \u001b[0;32m\"<ipython-input-84-51dbae9f53ab>\"\u001b[0;36m, line \u001b[0;32m6\u001b[0m\n\u001b[0;31m    Print(f\"Current_number {current_num} Privious number {previous_sum})\u001b[0m\n\u001b[0m                                                                        ^\u001b[0m\n\u001b[0;31mSyntaxError\u001b[0m\u001b[0;31m:\u001b[0m EOL while scanning string literal\n"
          ]
        }
      ]
    },
    {
      "cell_type": "markdown",
      "source": [
        "How do you print only even numbers using a loop?\n",
        "9 / 12"
      ],
      "metadata": {
        "id": "SnS6-4Ty8n9x"
      }
    },
    {
      "cell_type": "code",
      "source": [
        "for i in range(10):\n",
        "  if i % 2 ==0:\n",
        "    print(i)"
      ],
      "metadata": {
        "id": "-OtHakvtHY9c",
        "outputId": "96e6a0fa-6998-40b1-9167-618a5561f6a1",
        "colab": {
          "base_uri": "https://localhost:8080/"
        }
      },
      "execution_count": null,
      "outputs": [
        {
          "output_type": "stream",
          "name": "stdout",
          "text": [
            "0\n",
            "2\n",
            "4\n",
            "6\n",
            "8\n"
          ]
        }
      ]
    },
    {
      "cell_type": "code",
      "source": [
        "for x in range(10):\n",
        "    if x % 2 != 0:\n",
        "        continue\n",
        "    print(x)"
      ],
      "metadata": {
        "id": "Oef7gbOrHY64",
        "outputId": "565df59f-45b4-4edb-cea2-b2872e933b9b",
        "colab": {
          "base_uri": "https://localhost:8080/"
        }
      },
      "execution_count": null,
      "outputs": [
        {
          "output_type": "stream",
          "name": "stdout",
          "text": [
            "0\n",
            "2\n",
            "4\n",
            "6\n",
            "8\n"
          ]
        }
      ]
    },
    {
      "cell_type": "code",
      "source": [
        "def calculate (num1=2, num2=4):\n",
        "  res = num1 * num2\n",
        "  print(res)\n",
        "\n",
        "calculate(10,5)"
      ],
      "metadata": {
        "id": "dfHaLPtFGG63",
        "outputId": "2b87eae5-78a0-4f4b-921b-79ea5ed6deec",
        "colab": {
          "base_uri": "https://localhost:8080/"
        }
      },
      "execution_count": null,
      "outputs": [
        {
          "output_type": "stream",
          "name": "stdout",
          "text": [
            "50\n"
          ]
        }
      ]
    },
    {
      "cell_type": "markdown",
      "source": [
        "# **Exercise 3: Print characters from a string that are present at an even index number**\n",
        "Write a program to accept a string from the user and display characters that are present at an even index number."
      ],
      "metadata": {
        "id": "2QuCWCQpm02P"
      }
    },
    {
      "cell_type": "code",
      "source": [
        "global str\n"
      ],
      "metadata": {
        "id": "93hE-LOUBoBb"
      },
      "execution_count": null,
      "outputs": []
    },
    {
      "cell_type": "code",
      "source": [
        "#I made this code from sktretch\n",
        "\n",
        "user_inputt = input(\"Original string is: \")\n",
        "output = user_inputt[::2]\n",
        "print(f\"printing only even index characters: {output}\")\n"
      ],
      "metadata": {
        "id": "QHbu4Qi6GG4G",
        "colab": {
          "base_uri": "https://localhost:8080/"
        },
        "outputId": "91eeb4b7-6eea-4b2b-ae73-a8e9e99402f8"
      },
      "execution_count": null,
      "outputs": [
        {
          "output_type": "stream",
          "name": "stdout",
          "text": [
            "Original string is: hey hi\n",
            "printing only even index characters: hyh\n"
          ]
        }
      ]
    },
    {
      "cell_type": "code",
      "source": [
        "#after taking hint\n",
        "\n",
        "user_input = input(\"Original string is: \")\n",
        "word =  user_input[::2]\n",
        "for i in word:\n",
        "  print(i)\n"
      ],
      "metadata": {
        "id": "DuLJUDHbGG0Y",
        "colab": {
          "base_uri": "https://localhost:8080/"
        },
        "outputId": "ce3d623b-d9ad-4165-9b62-891a167398b3"
      },
      "execution_count": null,
      "outputs": [
        {
          "output_type": "stream",
          "name": "stdout",
          "text": [
            "Original string is: hey yy\n",
            "h\n",
            "y\n",
            "y\n"
          ]
        }
      ]
    },
    {
      "cell_type": "markdown",
      "source": [
        "# Exercise 4: Remove first n characters from a string\n",
        "Write a program to remove characters from a string starting from zero up to n and return a new string."
      ],
      "metadata": {
        "id": "M34QIecFpGIe"
      }
    },
    {
      "cell_type": "code",
      "source": [
        "def remove_char(word, n):\n",
        "  output = word[n:]\n",
        "  print(output)"
      ],
      "metadata": {
        "id": "LMv7sXS1ozn7"
      },
      "execution_count": null,
      "outputs": []
    },
    {
      "cell_type": "code",
      "source": [
        "remove_char('datascience',6)"
      ],
      "metadata": {
        "id": "YiFVgrs_qVPy",
        "colab": {
          "base_uri": "https://localhost:8080/"
        },
        "outputId": "3177b354-9d93-4a43-c3c9-6ca01d194b05"
      },
      "execution_count": null,
      "outputs": [
        {
          "output_type": "stream",
          "name": "stdout",
          "text": [
            "ience\n"
          ]
        }
      ]
    },
    {
      "cell_type": "markdown",
      "source": [
        "# Exercise 5: Check if the first and last number of a list is the same\n",
        "Write a function to return True if the first and last number of a given list is same. If numbers are different then return False."
      ],
      "metadata": {
        "id": "kxPHJ4xcs0-a"
      }
    },
    {
      "cell_type": "code",
      "source": [
        "def compare_list(list1):\n",
        "  \n",
        "  if list1[0]==list1[-1]:\n",
        "    return True\n",
        "  else:\n",
        "    return False"
      ],
      "metadata": {
        "id": "cJ-sNn4OozkH"
      },
      "execution_count": null,
      "outputs": []
    },
    {
      "cell_type": "code",
      "source": [
        "compare_list([1,2,3,6,5,4,1\n",
        "              ])"
      ],
      "metadata": {
        "id": "VCUbqsEcoziJ",
        "colab": {
          "base_uri": "https://localhost:8080/"
        },
        "outputId": "26a500bf-d5aa-41da-93be-54549aea192b"
      },
      "execution_count": null,
      "outputs": [
        {
          "output_type": "execute_result",
          "data": {
            "text/plain": [
              "True"
            ]
          },
          "metadata": {},
          "execution_count": 8
        }
      ]
    },
    {
      "cell_type": "markdown",
      "source": [
        "# Exercise 6: Display numbers divisible by 5 from a list\n",
        "Iterate the given list of numbers and print only those numbers which are divisible by 5"
      ],
      "metadata": {
        "id": "igLZ3QEutw5u"
      }
    },
    {
      "cell_type": "code",
      "source": [
        "#I made this code from skretch\n",
        "list1 = [1,2,3,4,5,6,125,25,63,100]\n",
        "\n",
        "for i in list1:\n",
        "  if i%5 == 0:\n",
        "    print(i)\n",
        "  else:\n",
        "    pass"
      ],
      "metadata": {
        "id": "2jgl9Xz_ozfX",
        "colab": {
          "base_uri": "https://localhost:8080/"
        },
        "outputId": "7f6da804-a59b-432a-d29f-597b3a9a2ea3"
      },
      "execution_count": null,
      "outputs": [
        {
          "output_type": "stream",
          "name": "stdout",
          "text": [
            "5\n",
            "125\n",
            "25\n",
            "100\n"
          ]
        }
      ]
    },
    {
      "cell_type": "code",
      "source": [
        "#now one step further - making a function of above code\n",
        "def dev_by_5(list1):\n",
        "  for i in list1:\n",
        "    if i%5 == 0:\n",
        "      print(i)\n",
        "    else:\n",
        "      pass"
      ],
      "metadata": {
        "id": "IC4wKxDnozdl"
      },
      "execution_count": null,
      "outputs": []
    },
    {
      "cell_type": "code",
      "source": [
        "list1 = [1,2,3,4,5,6,125,25,63,100]"
      ],
      "metadata": {
        "id": "s3OZxHC0vnrW"
      },
      "execution_count": null,
      "outputs": []
    },
    {
      "cell_type": "code",
      "source": [
        "dev_by_5(list1)"
      ],
      "metadata": {
        "id": "OXAX-RTcozZ8",
        "colab": {
          "base_uri": "https://localhost:8080/"
        },
        "outputId": "fcf3ebea-148b-4d36-90b8-3dbf76164592"
      },
      "execution_count": null,
      "outputs": [
        {
          "output_type": "stream",
          "name": "stdout",
          "text": [
            "5\n",
            "125\n",
            "25\n",
            "100\n"
          ]
        }
      ]
    },
    {
      "cell_type": "markdown",
      "source": [
        "# Exercise 7: Return the count of a given substring from a string\n",
        "Write a program to find how many times substring “Emma” appears in the given string."
      ],
      "metadata": {
        "id": "bQXU3iv3wFZG"
      }
    },
    {
      "cell_type": "code",
      "source": [
        "sentence = \"Emma is good developer. Emma is a writer\"\n",
        "sub_string = \"Emma\"\n",
        "print(sentence.count(sub_string))\n"
      ],
      "metadata": {
        "id": "bWjVyeaUozYP",
        "colab": {
          "base_uri": "https://localhost:8080/"
        },
        "outputId": "90fec0f2-f626-4db7-e0b1-abaad43060eb"
      },
      "execution_count": null,
      "outputs": [
        {
          "output_type": "stream",
          "name": "stdout",
          "text": [
            "2\n"
          ]
        }
      ]
    },
    {
      "cell_type": "markdown",
      "source": [
        "# Exercise 8: Print the following pattern\n"
      ],
      "metadata": {
        "id": "aODTTHGTTj-n"
      }
    },
    {
      "cell_type": "code",
      "source": [
        "#this is case of nested loop\n",
        "\n",
        "for num in range(6):\n",
        "  for i in range(num):\n",
        "    print(num, end = \" \")\n",
        "  print(\"\\n\")"
      ],
      "metadata": {
        "id": "sb-WZiEdv6KF",
        "colab": {
          "base_uri": "https://localhost:8080/"
        },
        "outputId": "a6d61c0d-ae91-4493-fdef-3eae7ba1360a"
      },
      "execution_count": null,
      "outputs": [
        {
          "output_type": "stream",
          "name": "stdout",
          "text": [
            "\n",
            "\n",
            "1 \n",
            "\n",
            "2 2 \n",
            "\n",
            "3 3 3 \n",
            "\n",
            "4 4 4 4 \n",
            "\n",
            "5 5 5 5 5 \n",
            "\n"
          ]
        }
      ]
    },
    {
      "cell_type": "markdown",
      "source": [
        "# Exercise 9: Check Palindrome Number\n",
        "\n",
        "Write a program to check if the given number is a palindrome number.\n",
        "\n",
        "A palindrome number is a number that is same after reverse. For example 545, is the palindrome numbers\n"
      ],
      "metadata": {
        "id": "tgmEd3oEWrgo"
      }
    },
    {
      "cell_type": "code",
      "source": [
        "user_input = int(input(\"Enter any number: \"))\n",
        "str_input = str(user_input)\n",
        "if str_input[:] == str_input[::-1]:\n",
        "  print(True)\n",
        "else:\n",
        "  print(False)"
      ],
      "metadata": {
        "id": "YObEO--7v6Ih",
        "colab": {
          "base_uri": "https://localhost:8080/"
        },
        "outputId": "251470c9-db7d-47da-8e60-51c45dacd8d5"
      },
      "execution_count": null,
      "outputs": [
        {
          "output_type": "stream",
          "name": "stdout",
          "text": [
            "Enter any number: 564\n",
            "False\n"
          ]
        }
      ]
    },
    {
      "cell_type": "markdown",
      "source": [
        "# Exercise 10: Create a new list from a two list using the following condition\n",
        "\n",
        "Given a two list of numbers, write a program to create a new list such that the new list should contain odd numbers from the first list and even numbers from the second list."
      ],
      "metadata": {
        "id": "qebeaHsldot5"
      }
    },
    {
      "cell_type": "code",
      "source": [
        "'''\n",
        "1. create an empty list.\n",
        "2. start appending list1 and list2 items in it.\n",
        "3. call return_list\n",
        "'''\n",
        "\n",
        "result_list = []\n",
        "\n",
        "def condition_list(list1, list2):\n",
        "\n",
        "  for i in list1:\n",
        "    if i%2 !=0:\n",
        "      result_list.append(i)\n",
        "\n",
        "  for k in list2:\n",
        "    if k%2 ==0:\n",
        "      result_list.append(k)\n",
        "  return result_list\n"
      ],
      "metadata": {
        "id": "cqW4iP8FfqE-"
      },
      "execution_count": null,
      "outputs": []
    },
    {
      "cell_type": "code",
      "source": [
        "#checking out function\n",
        "\n",
        "odd_list = [1,2,3,4]\n",
        "even_list = [11,12,13,45]\n",
        "condition_list(odd_list, even_list)"
      ],
      "metadata": {
        "id": "XucNldhTg_BW",
        "colab": {
          "base_uri": "https://localhost:8080/"
        },
        "outputId": "43c4fceb-fd40-4a55-96e7-69ceb6213c12"
      },
      "execution_count": null,
      "outputs": [
        {
          "output_type": "execute_result",
          "data": {
            "text/plain": [
              "[1, 3, 12]"
            ]
          },
          "metadata": {},
          "execution_count": 17
        }
      ]
    },
    {
      "cell_type": "markdown",
      "source": [
        "# Exercise 11: Write a Program to extract each digit from an integer in the reverse order."
      ],
      "metadata": {
        "id": "UNm77fHp5Fux"
      }
    },
    {
      "cell_type": "code",
      "source": [
        "user_input = int(input())\n",
        "input_str = str(user_input)\n",
        "output_str = input_str[::-1]\n",
        "output = \" \".join(output_str)\n",
        "print(output)"
      ],
      "metadata": {
        "id": "cNonFv3Rv584",
        "colab": {
          "base_uri": "https://localhost:8080/"
        },
        "outputId": "8da14936-7e2b-4152-8f56-912e0b000cd1"
      },
      "execution_count": null,
      "outputs": [
        {
          "output_type": "stream",
          "name": "stdout",
          "text": [
            "445\n",
            "5 4 4\n"
          ]
        }
      ]
    },
    {
      "cell_type": "markdown",
      "source": [
        "# Exercise 13: Print multiplication table form 1 to 10\n"
      ],
      "metadata": {
        "id": "Wcy6150X7jZJ"
      }
    },
    {
      "cell_type": "code",
      "source": [
        "for i in range(1,11):\n",
        "  for k in range(1,11):\n",
        "    print(i*k, end = \" \")\n",
        "  print(\"\\t\\t\")"
      ],
      "metadata": {
        "id": "cLB6l5ubv57W",
        "colab": {
          "base_uri": "https://localhost:8080/"
        },
        "outputId": "a50ed073-cf05-4a6e-d6af-386fe6f07656"
      },
      "execution_count": null,
      "outputs": [
        {
          "output_type": "stream",
          "name": "stdout",
          "text": [
            "1 2 3 4 5 6 7 8 9 10 \t\t\n",
            "2 4 6 8 10 12 14 16 18 20 \t\t\n",
            "3 6 9 12 15 18 21 24 27 30 \t\t\n",
            "4 8 12 16 20 24 28 32 36 40 \t\t\n",
            "5 10 15 20 25 30 35 40 45 50 \t\t\n",
            "6 12 18 24 30 36 42 48 54 60 \t\t\n",
            "7 14 21 28 35 42 49 56 63 70 \t\t\n",
            "8 16 24 32 40 48 56 64 72 80 \t\t\n",
            "9 18 27 36 45 54 63 72 81 90 \t\t\n",
            "10 20 30 40 50 60 70 80 90 100 \t\t\n"
          ]
        }
      ]
    },
    {
      "cell_type": "markdown",
      "source": [
        "# Exercise 14: Print downward Half-Pyramid Pattern with Star (asterisk)"
      ],
      "metadata": {
        "id": "DG52At1w8xkA"
      }
    },
    {
      "cell_type": "code",
      "source": [
        "for i in range(6,0,-1):\n",
        "\n",
        "  print(i*'*')"
      ],
      "metadata": {
        "id": "k9lC0Tdqv54Q",
        "colab": {
          "base_uri": "https://localhost:8080/"
        },
        "outputId": "2ac0d1db-e2bc-4ea7-fb97-777f64917c45"
      },
      "execution_count": null,
      "outputs": [
        {
          "output_type": "stream",
          "name": "stdout",
          "text": [
            "******\n",
            "*****\n",
            "****\n",
            "***\n",
            "**\n",
            "*\n"
          ]
        }
      ]
    },
    {
      "cell_type": "markdown",
      "source": [
        "# Exercise 15: Write a function called exponent(base, exp) that returns an int value of base raises to the power of exp.\n",
        "Note here exp is a non-negative integer, and the base is an integer."
      ],
      "metadata": {
        "id": "wk6_Lka89y1F"
      }
    },
    {
      "cell_type": "code",
      "source": [
        "def exponent(base,exp):\n",
        "  output = base**exp\n",
        "  print(output)"
      ],
      "metadata": {
        "id": "AcYTsMRmv52e"
      },
      "execution_count": null,
      "outputs": []
    },
    {
      "cell_type": "code",
      "source": [
        "exponent(2,5)"
      ],
      "metadata": {
        "id": "jjsnBMQP5IVl",
        "colab": {
          "base_uri": "https://localhost:8080/"
        },
        "outputId": "cec283be-8f38-4670-f163-b9c6a08c67a9"
      },
      "execution_count": null,
      "outputs": [
        {
          "output_type": "stream",
          "name": "stdout",
          "text": [
            "32\n"
          ]
        }
      ]
    },
    {
      "cell_type": "code",
      "source": [
        "exponent(1,1)"
      ],
      "metadata": {
        "id": "Cx8tRv5O5IUC",
        "colab": {
          "base_uri": "https://localhost:8080/"
        },
        "outputId": "2ab6d8a0-2e0a-413c-83a6-8d90e17a9d07"
      },
      "execution_count": null,
      "outputs": [
        {
          "output_type": "stream",
          "name": "stdout",
          "text": [
            "1\n"
          ]
        }
      ]
    },
    {
      "cell_type": "markdown",
      "source": [
        "# **Python Input and Output Exercise - Pynative**"
      ],
      "metadata": {
        "id": "cRPKZyi4-wQ_"
      }
    },
    {
      "cell_type": "markdown",
      "source": [
        "## Exercise 1: Accept numbers from a user\n",
        "Write a program to accept two numbers from the user and calculate multiplication\n",
        "\n",
        "Help: Take user input in Python"
      ],
      "metadata": {
        "id": "CEQO5zeE-3qW"
      }
    },
    {
      "cell_type": "code",
      "source": [
        "input1 = int(input(\"Enter 1st number: \"))\n",
        "input2 = int(input(\"Enter 2nd number: \"))\n",
        "\n",
        "multiplication = input1*input2\n",
        "print(f\"multiplcation is: {multiplication}\")"
      ],
      "metadata": {
        "id": "2iPVNP8R5ILB",
        "colab": {
          "base_uri": "https://localhost:8080/"
        },
        "outputId": "0733dc6b-dea6-4e22-ddcc-cc2c99b6012b"
      },
      "execution_count": null,
      "outputs": [
        {
          "output_type": "stream",
          "name": "stdout",
          "text": [
            "Enter 1st number: 5\n",
            "Enter 2nd number: 3\n",
            "multiplcation is: 15\n"
          ]
        }
      ]
    },
    {
      "cell_type": "markdown",
      "source": [
        "# Exercise 2: Display three string “Name”, “Is”, “James” as “Name**Is**James”\n",
        "Use the print() function to format the given words in the mentioned format. Display the ** separator between each string.\n",
        "\n",
        "Expected Output:\n",
        "\n",
        "For example: print('Name', 'Is', 'James') will display Name**Is**James"
      ],
      "metadata": {
        "id": "eTDbXRIH_pc1"
      }
    },
    {
      "cell_type": "code",
      "source": [
        "print('My', 'Name', 'Is', 'James', sep='**')\n"
      ],
      "metadata": {
        "id": "7FJn_h2A5IGI",
        "colab": {
          "base_uri": "https://localhost:8080/"
        },
        "outputId": "fff8efb5-8ff5-4e10-e46e-fc4b4d9de64e"
      },
      "execution_count": null,
      "outputs": [
        {
          "output_type": "stream",
          "name": "stdout",
          "text": [
            "My**Name**Is**James\n"
          ]
        }
      ]
    },
    {
      "cell_type": "markdown",
      "source": [
        "# Exercise 4: Display float number with 2 decimal places using print()**bold text**"
      ],
      "metadata": {
        "id": "FgPN34FIFvlC"
      }
    },
    {
      "cell_type": "code",
      "source": [
        "num = 458.541315\n",
        "print(round(num,2))"
      ],
      "metadata": {
        "id": "nkOJRkLW5IEh",
        "colab": {
          "base_uri": "https://localhost:8080/"
        },
        "outputId": "a8887f4b-5ed1-40b9-b4fa-53290f63443f"
      },
      "execution_count": null,
      "outputs": [
        {
          "output_type": "stream",
          "name": "stdout",
          "text": [
            "458.54\n"
          ]
        }
      ]
    },
    {
      "cell_type": "markdown",
      "source": [
        "# Exercise 5: Accept a list of 5 float numbers as an input from the user\n"
      ],
      "metadata": {
        "id": "5xOsdWSeGKZs"
      }
    },
    {
      "cell_type": "code",
      "source": [
        "numbers = []\n",
        "for i in range(5):\n",
        "  print(\"Enter number at location\", i, \":\")\n",
        "  output = float(input())\n",
        "  numbers.append(output)\n",
        "print(numbers)"
      ],
      "metadata": {
        "id": "W0L4yP8x5IBg"
      },
      "execution_count": null,
      "outputs": []
    },
    {
      "cell_type": "markdown",
      "source": [
        "# Exercise 7: Accept any three string from one input() call\n",
        "Write a program to take three names as input from a user in the single input() function call.\n",
        "\n",
        "\n"
      ],
      "metadata": {
        "id": "Q2TW7pAxZFXI"
      }
    },
    {
      "cell_type": "code",
      "source": [
        "name,age,gender = input(\"write name:, mention age:,gender:\").split()\n",
        "# print(\"\\n\")\n",
        "print(\"user details: \",name,age,gender)"
      ],
      "metadata": {
        "id": "xv0gIicO5H9A",
        "colab": {
          "base_uri": "https://localhost:8080/"
        },
        "outputId": "777098c5-3ec0-4a0b-da09-ba55585cd8eb"
      },
      "execution_count": null,
      "outputs": [
        {
          "output_type": "stream",
          "name": "stdout",
          "text": [
            "write name:, mention age:,gender:ar 26 m\n",
            "user details:  ar 26 m\n"
          ]
        }
      ]
    },
    {
      "cell_type": "code",
      "source": [
        "list2 = []\n",
        "name, age, gender = input(\"name, age, gender seperated by space:\").split()\n",
        "print(list2.append(name))\n",
        "print(list2.append(age))\n",
        "print(list2.append(gender))\n"
      ],
      "metadata": {
        "id": "UlIoFANs5H2m",
        "colab": {
          "base_uri": "https://localhost:8080/"
        },
        "outputId": "e8f5d05c-24ed-4a78-c88a-6db7e6ff5114"
      },
      "execution_count": null,
      "outputs": [
        {
          "output_type": "stream",
          "name": "stdout",
          "text": [
            "name, age, gender seperated by space:ar 5 m\n",
            "None\n",
            "None\n",
            "None\n"
          ]
        }
      ]
    },
    {
      "cell_type": "code",
      "source": [
        "list3 = []\n",
        "\n",
        "user_input3 = int(input(\"Enter length of list: \"))\n",
        "\n",
        "for i in range(0, user_input3):\n",
        "  item = int(input())\n",
        "  list3.append(item)\n",
        "print(list3)\n"
      ],
      "metadata": {
        "id": "MZYUNTof5HxO",
        "colab": {
          "base_uri": "https://localhost:8080/"
        },
        "outputId": "43434cea-3e78-4348-d1d0-c4905b5d1b65"
      },
      "execution_count": null,
      "outputs": [
        {
          "output_type": "stream",
          "name": "stdout",
          "text": [
            "Enter length of list: 3\n",
            "1\n",
            "2\n",
            "3\n",
            "[1, 2, 3]\n"
          ]
        }
      ]
    },
    {
      "cell_type": "markdown",
      "source": [
        "# Exercise 8: Format variables using a string.format() method.\n",
        "Write a program to use string.format() method to format the following three variables as per the expected output"
      ],
      "metadata": {
        "id": "hIJoGICAjTw2"
      }
    },
    {
      "cell_type": "code",
      "source": [
        " totalMoney = 1000\n",
        "quantity = 3\n",
        "price = 450\n",
        "float_price = float(price)\n",
        "print(\"I have {} dollars so I can buy {} football for {} dollars\".format(totalMoney,quantity,float_price)\n",
        ")"
      ],
      "metadata": {
        "id": "VV2dLRsM5Hqr",
        "colab": {
          "base_uri": "https://localhost:8080/"
        },
        "outputId": "601afb62-48f5-468b-9f72-e9226627929f"
      },
      "execution_count": null,
      "outputs": [
        {
          "output_type": "stream",
          "name": "stdout",
          "text": [
            "I have 1000 dollars so I can buy 3 football for 450.0 dollars\n"
          ]
        }
      ]
    },
    {
      "cell_type": "markdown",
      "source": [
        "# Exercise 9: Check file is empty or not\n",
        "Write a program to check if the given file is empty or not"
      ],
      "metadata": {
        "id": "3kBrL76ikTd_"
      }
    },
    {
      "cell_type": "code",
      "source": [
        "# import os\n",
        "# size = os.stat(\"python practice.txt\").st_size\n",
        "# if size == 0:\n",
        "#   print('file is empty')"
      ],
      "metadata": {
        "id": "D8HEgxoY5Ho-",
        "colab": {
          "base_uri": "https://localhost:8080/",
          "height": 217
        },
        "outputId": "8d5b1767-5bb8-4af0-c25b-32c52800548f"
      },
      "execution_count": null,
      "outputs": [
        {
          "output_type": "error",
          "ename": "FileNotFoundError",
          "evalue": "ignored",
          "traceback": [
            "\u001b[0;31m---------------------------------------------------------------------------\u001b[0m",
            "\u001b[0;31mFileNotFoundError\u001b[0m                         Traceback (most recent call last)",
            "\u001b[0;32m<ipython-input-57-64dbd7df1a71>\u001b[0m in \u001b[0;36m<module>\u001b[0;34m()\u001b[0m\n\u001b[1;32m      1\u001b[0m \u001b[0;32mimport\u001b[0m \u001b[0mos\u001b[0m\u001b[0;34m\u001b[0m\u001b[0;34m\u001b[0m\u001b[0m\n\u001b[0;32m----> 2\u001b[0;31m \u001b[0msize\u001b[0m \u001b[0;34m=\u001b[0m \u001b[0mos\u001b[0m\u001b[0;34m.\u001b[0m\u001b[0mstat\u001b[0m\u001b[0;34m(\u001b[0m\u001b[0;34m\"python practice.txt\"\u001b[0m\u001b[0;34m)\u001b[0m\u001b[0;34m.\u001b[0m\u001b[0mst_size\u001b[0m\u001b[0;34m\u001b[0m\u001b[0;34m\u001b[0m\u001b[0m\n\u001b[0m\u001b[1;32m      3\u001b[0m \u001b[0;32mif\u001b[0m \u001b[0msize\u001b[0m \u001b[0;34m==\u001b[0m \u001b[0;36m0\u001b[0m\u001b[0;34m:\u001b[0m\u001b[0;34m\u001b[0m\u001b[0;34m\u001b[0m\u001b[0m\n\u001b[1;32m      4\u001b[0m   \u001b[0mprint\u001b[0m\u001b[0;34m(\u001b[0m\u001b[0;34m'file is empty'\u001b[0m\u001b[0;34m)\u001b[0m\u001b[0;34m\u001b[0m\u001b[0;34m\u001b[0m\u001b[0m\n",
            "\u001b[0;31mFileNotFoundError\u001b[0m: [Errno 2] No such file or directory: 'python practice.txt'"
          ]
        }
      ]
    },
    {
      "cell_type": "markdown",
      "source": [
        "# Python Pandas Exercise\n",
        "\n",
        "Pandas is a handy and useful data-structure tool for analyzing large and complex data.\n",
        "\n",
        "Practice DataFrame, Data Selection, Group-By, Series, Sorting, Searching, statistics. Practice Data analysis using Pandas."
      ],
      "metadata": {
        "id": "c_zQg8TussAW"
      }
    },
    {
      "cell_type": "code",
      "source": [
        "import pandas as pd\n",
        "df = pd.read_csv(\"/content/drive/MyDrive/Automobile_data.csv\")"
      ],
      "metadata": {
        "id": "uesWce5msrBc"
      },
      "execution_count": null,
      "outputs": []
    },
    {
      "cell_type": "code",
      "source": [
        "df.head()"
      ],
      "metadata": {
        "id": "DNsWJEVxkEz1",
        "colab": {
          "base_uri": "https://localhost:8080/",
          "height": 206
        },
        "outputId": "b28a5a83-2de5-4380-81d1-89dec25db5e0"
      },
      "execution_count": null,
      "outputs": [
        {
          "output_type": "execute_result",
          "data": {
            "text/html": [
              "\n",
              "  <div id=\"df-8cb3a878-e8f5-4195-8d47-d1cdf323885e\">\n",
              "    <div class=\"colab-df-container\">\n",
              "      <div>\n",
              "<style scoped>\n",
              "    .dataframe tbody tr th:only-of-type {\n",
              "        vertical-align: middle;\n",
              "    }\n",
              "\n",
              "    .dataframe tbody tr th {\n",
              "        vertical-align: top;\n",
              "    }\n",
              "\n",
              "    .dataframe thead th {\n",
              "        text-align: right;\n",
              "    }\n",
              "</style>\n",
              "<table border=\"1\" class=\"dataframe\">\n",
              "  <thead>\n",
              "    <tr style=\"text-align: right;\">\n",
              "      <th></th>\n",
              "      <th>index</th>\n",
              "      <th>company</th>\n",
              "      <th>body-style</th>\n",
              "      <th>wheel-base</th>\n",
              "      <th>length</th>\n",
              "      <th>engine-type</th>\n",
              "      <th>num-of-cylinders</th>\n",
              "      <th>horsepower</th>\n",
              "      <th>average-mileage</th>\n",
              "      <th>price</th>\n",
              "    </tr>\n",
              "  </thead>\n",
              "  <tbody>\n",
              "    <tr>\n",
              "      <th>0</th>\n",
              "      <td>0</td>\n",
              "      <td>alfa-romero</td>\n",
              "      <td>convertible</td>\n",
              "      <td>88.6</td>\n",
              "      <td>168.8</td>\n",
              "      <td>dohc</td>\n",
              "      <td>four</td>\n",
              "      <td>111</td>\n",
              "      <td>21</td>\n",
              "      <td>13495.0</td>\n",
              "    </tr>\n",
              "    <tr>\n",
              "      <th>1</th>\n",
              "      <td>1</td>\n",
              "      <td>alfa-romero</td>\n",
              "      <td>convertible</td>\n",
              "      <td>88.6</td>\n",
              "      <td>168.8</td>\n",
              "      <td>dohc</td>\n",
              "      <td>four</td>\n",
              "      <td>111</td>\n",
              "      <td>21</td>\n",
              "      <td>16500.0</td>\n",
              "    </tr>\n",
              "    <tr>\n",
              "      <th>2</th>\n",
              "      <td>2</td>\n",
              "      <td>alfa-romero</td>\n",
              "      <td>hatchback</td>\n",
              "      <td>94.5</td>\n",
              "      <td>171.2</td>\n",
              "      <td>ohcv</td>\n",
              "      <td>six</td>\n",
              "      <td>154</td>\n",
              "      <td>19</td>\n",
              "      <td>16500.0</td>\n",
              "    </tr>\n",
              "    <tr>\n",
              "      <th>3</th>\n",
              "      <td>3</td>\n",
              "      <td>audi</td>\n",
              "      <td>sedan</td>\n",
              "      <td>99.8</td>\n",
              "      <td>176.6</td>\n",
              "      <td>ohc</td>\n",
              "      <td>four</td>\n",
              "      <td>102</td>\n",
              "      <td>24</td>\n",
              "      <td>13950.0</td>\n",
              "    </tr>\n",
              "    <tr>\n",
              "      <th>4</th>\n",
              "      <td>4</td>\n",
              "      <td>audi</td>\n",
              "      <td>sedan</td>\n",
              "      <td>99.4</td>\n",
              "      <td>176.6</td>\n",
              "      <td>ohc</td>\n",
              "      <td>five</td>\n",
              "      <td>115</td>\n",
              "      <td>18</td>\n",
              "      <td>17450.0</td>\n",
              "    </tr>\n",
              "  </tbody>\n",
              "</table>\n",
              "</div>\n",
              "      <button class=\"colab-df-convert\" onclick=\"convertToInteractive('df-8cb3a878-e8f5-4195-8d47-d1cdf323885e')\"\n",
              "              title=\"Convert this dataframe to an interactive table.\"\n",
              "              style=\"display:none;\">\n",
              "        \n",
              "  <svg xmlns=\"http://www.w3.org/2000/svg\" height=\"24px\"viewBox=\"0 0 24 24\"\n",
              "       width=\"24px\">\n",
              "    <path d=\"M0 0h24v24H0V0z\" fill=\"none\"/>\n",
              "    <path d=\"M18.56 5.44l.94 2.06.94-2.06 2.06-.94-2.06-.94-.94-2.06-.94 2.06-2.06.94zm-11 1L8.5 8.5l.94-2.06 2.06-.94-2.06-.94L8.5 2.5l-.94 2.06-2.06.94zm10 10l.94 2.06.94-2.06 2.06-.94-2.06-.94-.94-2.06-.94 2.06-2.06.94z\"/><path d=\"M17.41 7.96l-1.37-1.37c-.4-.4-.92-.59-1.43-.59-.52 0-1.04.2-1.43.59L10.3 9.45l-7.72 7.72c-.78.78-.78 2.05 0 2.83L4 21.41c.39.39.9.59 1.41.59.51 0 1.02-.2 1.41-.59l7.78-7.78 2.81-2.81c.8-.78.8-2.07 0-2.86zM5.41 20L4 18.59l7.72-7.72 1.47 1.35L5.41 20z\"/>\n",
              "  </svg>\n",
              "      </button>\n",
              "      \n",
              "  <style>\n",
              "    .colab-df-container {\n",
              "      display:flex;\n",
              "      flex-wrap:wrap;\n",
              "      gap: 12px;\n",
              "    }\n",
              "\n",
              "    .colab-df-convert {\n",
              "      background-color: #E8F0FE;\n",
              "      border: none;\n",
              "      border-radius: 50%;\n",
              "      cursor: pointer;\n",
              "      display: none;\n",
              "      fill: #1967D2;\n",
              "      height: 32px;\n",
              "      padding: 0 0 0 0;\n",
              "      width: 32px;\n",
              "    }\n",
              "\n",
              "    .colab-df-convert:hover {\n",
              "      background-color: #E2EBFA;\n",
              "      box-shadow: 0px 1px 2px rgba(60, 64, 67, 0.3), 0px 1px 3px 1px rgba(60, 64, 67, 0.15);\n",
              "      fill: #174EA6;\n",
              "    }\n",
              "\n",
              "    [theme=dark] .colab-df-convert {\n",
              "      background-color: #3B4455;\n",
              "      fill: #D2E3FC;\n",
              "    }\n",
              "\n",
              "    [theme=dark] .colab-df-convert:hover {\n",
              "      background-color: #434B5C;\n",
              "      box-shadow: 0px 1px 3px 1px rgba(0, 0, 0, 0.15);\n",
              "      filter: drop-shadow(0px 1px 2px rgba(0, 0, 0, 0.3));\n",
              "      fill: #FFFFFF;\n",
              "    }\n",
              "  </style>\n",
              "\n",
              "      <script>\n",
              "        const buttonEl =\n",
              "          document.querySelector('#df-8cb3a878-e8f5-4195-8d47-d1cdf323885e button.colab-df-convert');\n",
              "        buttonEl.style.display =\n",
              "          google.colab.kernel.accessAllowed ? 'block' : 'none';\n",
              "\n",
              "        async function convertToInteractive(key) {\n",
              "          const element = document.querySelector('#df-8cb3a878-e8f5-4195-8d47-d1cdf323885e');\n",
              "          const dataTable =\n",
              "            await google.colab.kernel.invokeFunction('convertToInteractive',\n",
              "                                                     [key], {});\n",
              "          if (!dataTable) return;\n",
              "\n",
              "          const docLinkHtml = 'Like what you see? Visit the ' +\n",
              "            '<a target=\"_blank\" href=https://colab.research.google.com/notebooks/data_table.ipynb>data table notebook</a>'\n",
              "            + ' to learn more about interactive tables.';\n",
              "          element.innerHTML = '';\n",
              "          dataTable['output_type'] = 'display_data';\n",
              "          await google.colab.output.renderOutput(dataTable, element);\n",
              "          const docLink = document.createElement('div');\n",
              "          docLink.innerHTML = docLinkHtml;\n",
              "          element.appendChild(docLink);\n",
              "        }\n",
              "      </script>\n",
              "    </div>\n",
              "  </div>\n",
              "  "
            ],
            "text/plain": [
              "   index      company   body-style  ...  horsepower  average-mileage    price\n",
              "0      0  alfa-romero  convertible  ...         111               21  13495.0\n",
              "1      1  alfa-romero  convertible  ...         111               21  16500.0\n",
              "2      2  alfa-romero    hatchback  ...         154               19  16500.0\n",
              "3      3         audi        sedan  ...         102               24  13950.0\n",
              "4      4         audi        sedan  ...         115               18  17450.0\n",
              "\n",
              "[5 rows x 10 columns]"
            ]
          },
          "metadata": {},
          "execution_count": 60
        }
      ]
    },
    {
      "cell_type": "code",
      "source": [
        "df.tail()"
      ],
      "metadata": {
        "id": "dkeYbCxgkEvp",
        "colab": {
          "base_uri": "https://localhost:8080/",
          "height": 206
        },
        "outputId": "380d7a2c-503f-483e-ec63-c524ac626b2b"
      },
      "execution_count": null,
      "outputs": [
        {
          "output_type": "execute_result",
          "data": {
            "text/html": [
              "\n",
              "  <div id=\"df-4547cb6f-6bbf-479f-b1fc-03219e78aa3d\">\n",
              "    <div class=\"colab-df-container\">\n",
              "      <div>\n",
              "<style scoped>\n",
              "    .dataframe tbody tr th:only-of-type {\n",
              "        vertical-align: middle;\n",
              "    }\n",
              "\n",
              "    .dataframe tbody tr th {\n",
              "        vertical-align: top;\n",
              "    }\n",
              "\n",
              "    .dataframe thead th {\n",
              "        text-align: right;\n",
              "    }\n",
              "</style>\n",
              "<table border=\"1\" class=\"dataframe\">\n",
              "  <thead>\n",
              "    <tr style=\"text-align: right;\">\n",
              "      <th></th>\n",
              "      <th>index</th>\n",
              "      <th>company</th>\n",
              "      <th>body-style</th>\n",
              "      <th>wheel-base</th>\n",
              "      <th>length</th>\n",
              "      <th>engine-type</th>\n",
              "      <th>num-of-cylinders</th>\n",
              "      <th>horsepower</th>\n",
              "      <th>average-mileage</th>\n",
              "      <th>price</th>\n",
              "    </tr>\n",
              "  </thead>\n",
              "  <tbody>\n",
              "    <tr>\n",
              "      <th>56</th>\n",
              "      <td>81</td>\n",
              "      <td>volkswagen</td>\n",
              "      <td>sedan</td>\n",
              "      <td>97.3</td>\n",
              "      <td>171.7</td>\n",
              "      <td>ohc</td>\n",
              "      <td>four</td>\n",
              "      <td>85</td>\n",
              "      <td>27</td>\n",
              "      <td>7975.0</td>\n",
              "    </tr>\n",
              "    <tr>\n",
              "      <th>57</th>\n",
              "      <td>82</td>\n",
              "      <td>volkswagen</td>\n",
              "      <td>sedan</td>\n",
              "      <td>97.3</td>\n",
              "      <td>171.7</td>\n",
              "      <td>ohc</td>\n",
              "      <td>four</td>\n",
              "      <td>52</td>\n",
              "      <td>37</td>\n",
              "      <td>7995.0</td>\n",
              "    </tr>\n",
              "    <tr>\n",
              "      <th>58</th>\n",
              "      <td>86</td>\n",
              "      <td>volkswagen</td>\n",
              "      <td>sedan</td>\n",
              "      <td>97.3</td>\n",
              "      <td>171.7</td>\n",
              "      <td>ohc</td>\n",
              "      <td>four</td>\n",
              "      <td>100</td>\n",
              "      <td>26</td>\n",
              "      <td>9995.0</td>\n",
              "    </tr>\n",
              "    <tr>\n",
              "      <th>59</th>\n",
              "      <td>87</td>\n",
              "      <td>volvo</td>\n",
              "      <td>sedan</td>\n",
              "      <td>104.3</td>\n",
              "      <td>188.8</td>\n",
              "      <td>ohc</td>\n",
              "      <td>four</td>\n",
              "      <td>114</td>\n",
              "      <td>23</td>\n",
              "      <td>12940.0</td>\n",
              "    </tr>\n",
              "    <tr>\n",
              "      <th>60</th>\n",
              "      <td>88</td>\n",
              "      <td>volvo</td>\n",
              "      <td>wagon</td>\n",
              "      <td>104.3</td>\n",
              "      <td>188.8</td>\n",
              "      <td>ohc</td>\n",
              "      <td>four</td>\n",
              "      <td>114</td>\n",
              "      <td>23</td>\n",
              "      <td>13415.0</td>\n",
              "    </tr>\n",
              "  </tbody>\n",
              "</table>\n",
              "</div>\n",
              "      <button class=\"colab-df-convert\" onclick=\"convertToInteractive('df-4547cb6f-6bbf-479f-b1fc-03219e78aa3d')\"\n",
              "              title=\"Convert this dataframe to an interactive table.\"\n",
              "              style=\"display:none;\">\n",
              "        \n",
              "  <svg xmlns=\"http://www.w3.org/2000/svg\" height=\"24px\"viewBox=\"0 0 24 24\"\n",
              "       width=\"24px\">\n",
              "    <path d=\"M0 0h24v24H0V0z\" fill=\"none\"/>\n",
              "    <path d=\"M18.56 5.44l.94 2.06.94-2.06 2.06-.94-2.06-.94-.94-2.06-.94 2.06-2.06.94zm-11 1L8.5 8.5l.94-2.06 2.06-.94-2.06-.94L8.5 2.5l-.94 2.06-2.06.94zm10 10l.94 2.06.94-2.06 2.06-.94-2.06-.94-.94-2.06-.94 2.06-2.06.94z\"/><path d=\"M17.41 7.96l-1.37-1.37c-.4-.4-.92-.59-1.43-.59-.52 0-1.04.2-1.43.59L10.3 9.45l-7.72 7.72c-.78.78-.78 2.05 0 2.83L4 21.41c.39.39.9.59 1.41.59.51 0 1.02-.2 1.41-.59l7.78-7.78 2.81-2.81c.8-.78.8-2.07 0-2.86zM5.41 20L4 18.59l7.72-7.72 1.47 1.35L5.41 20z\"/>\n",
              "  </svg>\n",
              "      </button>\n",
              "      \n",
              "  <style>\n",
              "    .colab-df-container {\n",
              "      display:flex;\n",
              "      flex-wrap:wrap;\n",
              "      gap: 12px;\n",
              "    }\n",
              "\n",
              "    .colab-df-convert {\n",
              "      background-color: #E8F0FE;\n",
              "      border: none;\n",
              "      border-radius: 50%;\n",
              "      cursor: pointer;\n",
              "      display: none;\n",
              "      fill: #1967D2;\n",
              "      height: 32px;\n",
              "      padding: 0 0 0 0;\n",
              "      width: 32px;\n",
              "    }\n",
              "\n",
              "    .colab-df-convert:hover {\n",
              "      background-color: #E2EBFA;\n",
              "      box-shadow: 0px 1px 2px rgba(60, 64, 67, 0.3), 0px 1px 3px 1px rgba(60, 64, 67, 0.15);\n",
              "      fill: #174EA6;\n",
              "    }\n",
              "\n",
              "    [theme=dark] .colab-df-convert {\n",
              "      background-color: #3B4455;\n",
              "      fill: #D2E3FC;\n",
              "    }\n",
              "\n",
              "    [theme=dark] .colab-df-convert:hover {\n",
              "      background-color: #434B5C;\n",
              "      box-shadow: 0px 1px 3px 1px rgba(0, 0, 0, 0.15);\n",
              "      filter: drop-shadow(0px 1px 2px rgba(0, 0, 0, 0.3));\n",
              "      fill: #FFFFFF;\n",
              "    }\n",
              "  </style>\n",
              "\n",
              "      <script>\n",
              "        const buttonEl =\n",
              "          document.querySelector('#df-4547cb6f-6bbf-479f-b1fc-03219e78aa3d button.colab-df-convert');\n",
              "        buttonEl.style.display =\n",
              "          google.colab.kernel.accessAllowed ? 'block' : 'none';\n",
              "\n",
              "        async function convertToInteractive(key) {\n",
              "          const element = document.querySelector('#df-4547cb6f-6bbf-479f-b1fc-03219e78aa3d');\n",
              "          const dataTable =\n",
              "            await google.colab.kernel.invokeFunction('convertToInteractive',\n",
              "                                                     [key], {});\n",
              "          if (!dataTable) return;\n",
              "\n",
              "          const docLinkHtml = 'Like what you see? Visit the ' +\n",
              "            '<a target=\"_blank\" href=https://colab.research.google.com/notebooks/data_table.ipynb>data table notebook</a>'\n",
              "            + ' to learn more about interactive tables.';\n",
              "          element.innerHTML = '';\n",
              "          dataTable['output_type'] = 'display_data';\n",
              "          await google.colab.output.renderOutput(dataTable, element);\n",
              "          const docLink = document.createElement('div');\n",
              "          docLink.innerHTML = docLinkHtml;\n",
              "          element.appendChild(docLink);\n",
              "        }\n",
              "      </script>\n",
              "    </div>\n",
              "  </div>\n",
              "  "
            ],
            "text/plain": [
              "    index     company body-style  ...  horsepower  average-mileage    price\n",
              "56     81  volkswagen      sedan  ...          85               27   7975.0\n",
              "57     82  volkswagen      sedan  ...          52               37   7995.0\n",
              "58     86  volkswagen      sedan  ...         100               26   9995.0\n",
              "59     87       volvo      sedan  ...         114               23  12940.0\n",
              "60     88       volvo      wagon  ...         114               23  13415.0\n",
              "\n",
              "[5 rows x 10 columns]"
            ]
          },
          "metadata": {},
          "execution_count": 61
        }
      ]
    },
    {
      "cell_type": "code",
      "source": [
        "df.isna()"
      ],
      "metadata": {
        "id": "ckRJLVNvkEt5",
        "colab": {
          "base_uri": "https://localhost:8080/",
          "height": 423
        },
        "outputId": "f0744530-3e14-447e-fb89-459868619e4e"
      },
      "execution_count": null,
      "outputs": [
        {
          "output_type": "execute_result",
          "data": {
            "text/html": [
              "\n",
              "  <div id=\"df-c5d4513b-fda7-4462-8fc5-08a02d103989\">\n",
              "    <div class=\"colab-df-container\">\n",
              "      <div>\n",
              "<style scoped>\n",
              "    .dataframe tbody tr th:only-of-type {\n",
              "        vertical-align: middle;\n",
              "    }\n",
              "\n",
              "    .dataframe tbody tr th {\n",
              "        vertical-align: top;\n",
              "    }\n",
              "\n",
              "    .dataframe thead th {\n",
              "        text-align: right;\n",
              "    }\n",
              "</style>\n",
              "<table border=\"1\" class=\"dataframe\">\n",
              "  <thead>\n",
              "    <tr style=\"text-align: right;\">\n",
              "      <th></th>\n",
              "      <th>index</th>\n",
              "      <th>company</th>\n",
              "      <th>body-style</th>\n",
              "      <th>wheel-base</th>\n",
              "      <th>length</th>\n",
              "      <th>engine-type</th>\n",
              "      <th>num-of-cylinders</th>\n",
              "      <th>horsepower</th>\n",
              "      <th>average-mileage</th>\n",
              "      <th>price</th>\n",
              "    </tr>\n",
              "  </thead>\n",
              "  <tbody>\n",
              "    <tr>\n",
              "      <th>0</th>\n",
              "      <td>False</td>\n",
              "      <td>False</td>\n",
              "      <td>False</td>\n",
              "      <td>False</td>\n",
              "      <td>False</td>\n",
              "      <td>False</td>\n",
              "      <td>False</td>\n",
              "      <td>False</td>\n",
              "      <td>False</td>\n",
              "      <td>False</td>\n",
              "    </tr>\n",
              "    <tr>\n",
              "      <th>1</th>\n",
              "      <td>False</td>\n",
              "      <td>False</td>\n",
              "      <td>False</td>\n",
              "      <td>False</td>\n",
              "      <td>False</td>\n",
              "      <td>False</td>\n",
              "      <td>False</td>\n",
              "      <td>False</td>\n",
              "      <td>False</td>\n",
              "      <td>False</td>\n",
              "    </tr>\n",
              "    <tr>\n",
              "      <th>2</th>\n",
              "      <td>False</td>\n",
              "      <td>False</td>\n",
              "      <td>False</td>\n",
              "      <td>False</td>\n",
              "      <td>False</td>\n",
              "      <td>False</td>\n",
              "      <td>False</td>\n",
              "      <td>False</td>\n",
              "      <td>False</td>\n",
              "      <td>False</td>\n",
              "    </tr>\n",
              "    <tr>\n",
              "      <th>3</th>\n",
              "      <td>False</td>\n",
              "      <td>False</td>\n",
              "      <td>False</td>\n",
              "      <td>False</td>\n",
              "      <td>False</td>\n",
              "      <td>False</td>\n",
              "      <td>False</td>\n",
              "      <td>False</td>\n",
              "      <td>False</td>\n",
              "      <td>False</td>\n",
              "    </tr>\n",
              "    <tr>\n",
              "      <th>4</th>\n",
              "      <td>False</td>\n",
              "      <td>False</td>\n",
              "      <td>False</td>\n",
              "      <td>False</td>\n",
              "      <td>False</td>\n",
              "      <td>False</td>\n",
              "      <td>False</td>\n",
              "      <td>False</td>\n",
              "      <td>False</td>\n",
              "      <td>False</td>\n",
              "    </tr>\n",
              "    <tr>\n",
              "      <th>...</th>\n",
              "      <td>...</td>\n",
              "      <td>...</td>\n",
              "      <td>...</td>\n",
              "      <td>...</td>\n",
              "      <td>...</td>\n",
              "      <td>...</td>\n",
              "      <td>...</td>\n",
              "      <td>...</td>\n",
              "      <td>...</td>\n",
              "      <td>...</td>\n",
              "    </tr>\n",
              "    <tr>\n",
              "      <th>56</th>\n",
              "      <td>False</td>\n",
              "      <td>False</td>\n",
              "      <td>False</td>\n",
              "      <td>False</td>\n",
              "      <td>False</td>\n",
              "      <td>False</td>\n",
              "      <td>False</td>\n",
              "      <td>False</td>\n",
              "      <td>False</td>\n",
              "      <td>False</td>\n",
              "    </tr>\n",
              "    <tr>\n",
              "      <th>57</th>\n",
              "      <td>False</td>\n",
              "      <td>False</td>\n",
              "      <td>False</td>\n",
              "      <td>False</td>\n",
              "      <td>False</td>\n",
              "      <td>False</td>\n",
              "      <td>False</td>\n",
              "      <td>False</td>\n",
              "      <td>False</td>\n",
              "      <td>False</td>\n",
              "    </tr>\n",
              "    <tr>\n",
              "      <th>58</th>\n",
              "      <td>False</td>\n",
              "      <td>False</td>\n",
              "      <td>False</td>\n",
              "      <td>False</td>\n",
              "      <td>False</td>\n",
              "      <td>False</td>\n",
              "      <td>False</td>\n",
              "      <td>False</td>\n",
              "      <td>False</td>\n",
              "      <td>False</td>\n",
              "    </tr>\n",
              "    <tr>\n",
              "      <th>59</th>\n",
              "      <td>False</td>\n",
              "      <td>False</td>\n",
              "      <td>False</td>\n",
              "      <td>False</td>\n",
              "      <td>False</td>\n",
              "      <td>False</td>\n",
              "      <td>False</td>\n",
              "      <td>False</td>\n",
              "      <td>False</td>\n",
              "      <td>False</td>\n",
              "    </tr>\n",
              "    <tr>\n",
              "      <th>60</th>\n",
              "      <td>False</td>\n",
              "      <td>False</td>\n",
              "      <td>False</td>\n",
              "      <td>False</td>\n",
              "      <td>False</td>\n",
              "      <td>False</td>\n",
              "      <td>False</td>\n",
              "      <td>False</td>\n",
              "      <td>False</td>\n",
              "      <td>False</td>\n",
              "    </tr>\n",
              "  </tbody>\n",
              "</table>\n",
              "<p>61 rows × 10 columns</p>\n",
              "</div>\n",
              "      <button class=\"colab-df-convert\" onclick=\"convertToInteractive('df-c5d4513b-fda7-4462-8fc5-08a02d103989')\"\n",
              "              title=\"Convert this dataframe to an interactive table.\"\n",
              "              style=\"display:none;\">\n",
              "        \n",
              "  <svg xmlns=\"http://www.w3.org/2000/svg\" height=\"24px\"viewBox=\"0 0 24 24\"\n",
              "       width=\"24px\">\n",
              "    <path d=\"M0 0h24v24H0V0z\" fill=\"none\"/>\n",
              "    <path d=\"M18.56 5.44l.94 2.06.94-2.06 2.06-.94-2.06-.94-.94-2.06-.94 2.06-2.06.94zm-11 1L8.5 8.5l.94-2.06 2.06-.94-2.06-.94L8.5 2.5l-.94 2.06-2.06.94zm10 10l.94 2.06.94-2.06 2.06-.94-2.06-.94-.94-2.06-.94 2.06-2.06.94z\"/><path d=\"M17.41 7.96l-1.37-1.37c-.4-.4-.92-.59-1.43-.59-.52 0-1.04.2-1.43.59L10.3 9.45l-7.72 7.72c-.78.78-.78 2.05 0 2.83L4 21.41c.39.39.9.59 1.41.59.51 0 1.02-.2 1.41-.59l7.78-7.78 2.81-2.81c.8-.78.8-2.07 0-2.86zM5.41 20L4 18.59l7.72-7.72 1.47 1.35L5.41 20z\"/>\n",
              "  </svg>\n",
              "      </button>\n",
              "      \n",
              "  <style>\n",
              "    .colab-df-container {\n",
              "      display:flex;\n",
              "      flex-wrap:wrap;\n",
              "      gap: 12px;\n",
              "    }\n",
              "\n",
              "    .colab-df-convert {\n",
              "      background-color: #E8F0FE;\n",
              "      border: none;\n",
              "      border-radius: 50%;\n",
              "      cursor: pointer;\n",
              "      display: none;\n",
              "      fill: #1967D2;\n",
              "      height: 32px;\n",
              "      padding: 0 0 0 0;\n",
              "      width: 32px;\n",
              "    }\n",
              "\n",
              "    .colab-df-convert:hover {\n",
              "      background-color: #E2EBFA;\n",
              "      box-shadow: 0px 1px 2px rgba(60, 64, 67, 0.3), 0px 1px 3px 1px rgba(60, 64, 67, 0.15);\n",
              "      fill: #174EA6;\n",
              "    }\n",
              "\n",
              "    [theme=dark] .colab-df-convert {\n",
              "      background-color: #3B4455;\n",
              "      fill: #D2E3FC;\n",
              "    }\n",
              "\n",
              "    [theme=dark] .colab-df-convert:hover {\n",
              "      background-color: #434B5C;\n",
              "      box-shadow: 0px 1px 3px 1px rgba(0, 0, 0, 0.15);\n",
              "      filter: drop-shadow(0px 1px 2px rgba(0, 0, 0, 0.3));\n",
              "      fill: #FFFFFF;\n",
              "    }\n",
              "  </style>\n",
              "\n",
              "      <script>\n",
              "        const buttonEl =\n",
              "          document.querySelector('#df-c5d4513b-fda7-4462-8fc5-08a02d103989 button.colab-df-convert');\n",
              "        buttonEl.style.display =\n",
              "          google.colab.kernel.accessAllowed ? 'block' : 'none';\n",
              "\n",
              "        async function convertToInteractive(key) {\n",
              "          const element = document.querySelector('#df-c5d4513b-fda7-4462-8fc5-08a02d103989');\n",
              "          const dataTable =\n",
              "            await google.colab.kernel.invokeFunction('convertToInteractive',\n",
              "                                                     [key], {});\n",
              "          if (!dataTable) return;\n",
              "\n",
              "          const docLinkHtml = 'Like what you see? Visit the ' +\n",
              "            '<a target=\"_blank\" href=https://colab.research.google.com/notebooks/data_table.ipynb>data table notebook</a>'\n",
              "            + ' to learn more about interactive tables.';\n",
              "          element.innerHTML = '';\n",
              "          dataTable['output_type'] = 'display_data';\n",
              "          await google.colab.output.renderOutput(dataTable, element);\n",
              "          const docLink = document.createElement('div');\n",
              "          docLink.innerHTML = docLinkHtml;\n",
              "          element.appendChild(docLink);\n",
              "        }\n",
              "      </script>\n",
              "    </div>\n",
              "  </div>\n",
              "  "
            ],
            "text/plain": [
              "    index  company  body-style  ...  horsepower  average-mileage  price\n",
              "0   False    False       False  ...       False            False  False\n",
              "1   False    False       False  ...       False            False  False\n",
              "2   False    False       False  ...       False            False  False\n",
              "3   False    False       False  ...       False            False  False\n",
              "4   False    False       False  ...       False            False  False\n",
              "..    ...      ...         ...  ...         ...              ...    ...\n",
              "56  False    False       False  ...       False            False  False\n",
              "57  False    False       False  ...       False            False  False\n",
              "58  False    False       False  ...       False            False  False\n",
              "59  False    False       False  ...       False            False  False\n",
              "60  False    False       False  ...       False            False  False\n",
              "\n",
              "[61 rows x 10 columns]"
            ]
          },
          "metadata": {},
          "execution_count": 62
        }
      ]
    },
    {
      "cell_type": "code",
      "source": [
        "df.isna().sum()"
      ],
      "metadata": {
        "id": "X0ZirMm7kErC",
        "colab": {
          "base_uri": "https://localhost:8080/"
        },
        "outputId": "56faa791-9927-45af-e61d-2a6c5c0104e8"
      },
      "execution_count": null,
      "outputs": [
        {
          "output_type": "execute_result",
          "data": {
            "text/plain": [
              "index               0\n",
              "company             0\n",
              "body-style          0\n",
              "wheel-base          0\n",
              "length              0\n",
              "engine-type         0\n",
              "num-of-cylinders    0\n",
              "horsepower          0\n",
              "average-mileage     0\n",
              "price               3\n",
              "dtype: int64"
            ]
          },
          "metadata": {},
          "execution_count": 65
        }
      ]
    },
    {
      "cell_type": "code",
      "source": [
        "df.fillna"
      ],
      "metadata": {
        "id": "tdn_W6zokEmT",
        "colab": {
          "base_uri": "https://localhost:8080/"
        },
        "outputId": "5af6c48e-e1f2-4628-f975-3a91eb456b86"
      },
      "execution_count": null,
      "outputs": [
        {
          "output_type": "execute_result",
          "data": {
            "text/plain": [
              "<bound method DataFrame.fillna of     index      company   body-style  ...  horsepower  average-mileage    price\n",
              "0       0  alfa-romero  convertible  ...         111               21  13495.0\n",
              "1       1  alfa-romero  convertible  ...         111               21  16500.0\n",
              "2       2  alfa-romero    hatchback  ...         154               19  16500.0\n",
              "3       3         audi        sedan  ...         102               24  13950.0\n",
              "4       4         audi        sedan  ...         115               18  17450.0\n",
              "..    ...          ...          ...  ...         ...              ...      ...\n",
              "56     81   volkswagen        sedan  ...          85               27   7975.0\n",
              "57     82   volkswagen        sedan  ...          52               37   7995.0\n",
              "58     86   volkswagen        sedan  ...         100               26   9995.0\n",
              "59     87        volvo        sedan  ...         114               23  12940.0\n",
              "60     88        volvo        wagon  ...         114               23  13415.0\n",
              "\n",
              "[61 rows x 10 columns]>"
            ]
          },
          "metadata": {},
          "execution_count": 68
        }
      ]
    },
    {
      "cell_type": "markdown",
      "source": [
        "# Example: Print even and odd numbers between 1 to the entered number.\n",
        "\n"
      ],
      "metadata": {
        "id": "HWPV1K7DOnbV"
      }
    },
    {
      "cell_type": "code",
      "source": [
        "user_input1 = int(input(\"Please enter a number: \"))\n",
        "num1 = 1:\n",
        "while num"
      ],
      "metadata": {
        "id": "CXO7RYGcOrTU"
      },
      "execution_count": null,
      "outputs": []
    },
    {
      "cell_type": "code",
      "source": [
        "user_input1 = int(input(\"Please enter a number: \"))\n",
        "while user_input1 >0:\n",
        "  if user_input1 % 2 == 0:\n",
        "    print(f\"{user_input1} is a even number\")\n",
        "  else:\n",
        "    print(f\"{user_input1} is a odd number\")\n",
        "  user_input1 = user_input1-1\n",
        "\n"
      ],
      "metadata": {
        "colab": {
          "base_uri": "https://localhost:8080/"
        },
        "id": "e-G9hvEFOrRi",
        "outputId": "acc6c4e4-ae46-43a9-aaed-94c51f2e5174"
      },
      "execution_count": null,
      "outputs": [
        {
          "output_type": "stream",
          "name": "stdout",
          "text": [
            "Please enter a number: 20\n",
            "20 is a even number\n",
            "19 is a odd number\n",
            "18 is a even number\n",
            "17 is a odd number\n",
            "16 is a even number\n",
            "15 is a odd number\n",
            "14 is a even number\n",
            "13 is a odd number\n",
            "12 is a even number\n",
            "11 is a odd number\n",
            "10 is a even number\n",
            "9 is a odd number\n",
            "8 is a even number\n",
            "7 is a odd number\n",
            "6 is a even number\n",
            "5 is a odd number\n",
            "4 is a even number\n",
            "3 is a odd number\n",
            "2 is a even number\n",
            "1 is a odd number\n"
          ]
        }
      ]
    },
    {
      "cell_type": "code",
      "source": [
        "n = int(input('Please Enter Number '))\n",
        "while n > 0:\n",
        "    # check even and odd\n",
        "    if n % 2 == 0:\n",
        "        print(n, 'is a even number')\n",
        "    else:\n",
        "        print(n, 'is a odd number')\n",
        "    # decrease number by 1 in each iteration\n",
        "    n = n - 1"
      ],
      "metadata": {
        "colab": {
          "base_uri": "https://localhost:8080/"
        },
        "id": "E6bx2e2yOrOX",
        "outputId": "7e22ec2e-e646-4192-8c08-9ad345b25491"
      },
      "execution_count": null,
      "outputs": [
        {
          "output_type": "stream",
          "name": "stdout",
          "text": [
            "Please Enter Number 20\n",
            "20 is a even number\n",
            "19 is a odd number\n",
            "18 is a even number\n",
            "17 is a odd number\n",
            "16 is a even number\n",
            "15 is a odd number\n",
            "14 is a even number\n",
            "13 is a odd number\n",
            "12 is a even number\n",
            "11 is a odd number\n",
            "10 is a even number\n",
            "9 is a odd number\n",
            "8 is a even number\n",
            "7 is a odd number\n",
            "6 is a even number\n",
            "5 is a odd number\n",
            "4 is a even number\n",
            "3 is a odd number\n",
            "2 is a even number\n",
            "1 is a odd number\n"
          ]
        }
      ]
    },
    {
      "cell_type": "markdown",
      "source": [
        "# Example: Write a while loop to display each character from a string and if a character is number then stop the loop."
      ],
      "metadata": {
        "id": "jWHtP6ocRdwF"
      }
    },
    {
      "cell_type": "code",
      "source": [
        "name = \"pynative29yoyo\"\n",
        "size = len(name)\n",
        "i = 0\n",
        "while i <size:\n",
        "  if name[i].isdecimal():\n",
        "    break\n",
        "  print(name[i], end = \"\")\n",
        "  i = i+1"
      ],
      "metadata": {
        "colab": {
          "base_uri": "https://localhost:8080/"
        },
        "id": "AkHDxu0oOrMs",
        "outputId": "ae33150a-f929-4697-e05d-563687e9e1c7"
      },
      "execution_count": null,
      "outputs": [
        {
          "output_type": "stream",
          "name": "stdout",
          "text": [
            "pynative"
          ]
        }
      ]
    },
    {
      "cell_type": "markdown",
      "source": [
        "# Example: Write a while loop to display only alphabets from a string.\n",
        "\n",
        "In this example, we will print only letters from a string by skipping all digits and special symbols"
      ],
      "metadata": {
        "id": "C0t7rVgMSnbd"
      }
    },
    {
      "cell_type": "code",
      "source": [
        "name = 'Jesaa29Roy'\n",
        "\n",
        "size = len(name)\n",
        "i = -1\n",
        "# iterate loop till the last character\n",
        "while i < size - 1:\n",
        "    i = i + 1\n",
        "    # skip while loop body if current character is not alphabet\n",
        "    if not name[i].isalpha():\n",
        "        continue\n",
        "    # print current character\n",
        "    print(name[i], end=' ')"
      ],
      "metadata": {
        "colab": {
          "base_uri": "https://localhost:8080/"
        },
        "id": "q7dpPyYCRfeu",
        "outputId": "5a978c76-d5c0-4968-97d4-3d808d4b0fb0"
      },
      "execution_count": null,
      "outputs": [
        {
          "output_type": "stream",
          "name": "stdout",
          "text": [
            "J e s a a R o y "
          ]
        }
      ]
    },
    {
      "cell_type": "markdown",
      "source": [
        "pass statement"
      ],
      "metadata": {
        "id": "uKF3qWpqTHTf"
      }
    },
    {
      "cell_type": "code",
      "source": [
        "n = 4\n",
        "while n > 0:\n",
        "    n = n - 1\n",
        "    pass"
      ],
      "metadata": {
        "id": "N9slALSeRfbF"
      },
      "execution_count": null,
      "outputs": []
    },
    {
      "cell_type": "markdown",
      "source": [
        "Nested while loops\n"
      ],
      "metadata": {
        "id": "4FY_5o4PUCl-"
      }
    },
    {
      "cell_type": "code",
      "source": [
        "# using while loop inside while loop\n",
        "i = 1\n",
        "while i<5:\n",
        "  j = 0\n",
        "  while j<i:\n",
        "    print('*', end = \" \")\n",
        "    j = j+1\n",
        "  print(\" \")\n",
        "  i = i+1"
      ],
      "metadata": {
        "colab": {
          "base_uri": "https://localhost:8080/"
        },
        "id": "Uref_LGZRfZX",
        "outputId": "f148797b-a38e-47aa-b153-f47db024a0b7"
      },
      "execution_count": null,
      "outputs": [
        {
          "output_type": "stream",
          "name": "stdout",
          "text": [
            "*  \n",
            "* *  \n",
            "* * *  \n",
            "* * * *  \n"
          ]
        }
      ]
    },
    {
      "cell_type": "code",
      "source": [
        "# using for loop inside while loop\n",
        "\n",
        "i = 1\n",
        "while i < 5:\n",
        "  for j in range(1, i):\n",
        "    print('*', end = \" \")\n",
        "  print('*')\n",
        "  i = i+1\n",
        "  "
      ],
      "metadata": {
        "colab": {
          "base_uri": "https://localhost:8080/"
        },
        "id": "-ywBfCZOUgCk",
        "outputId": "e069a791-7ac6-4fd3-c485-4324c199741c"
      },
      "execution_count": null,
      "outputs": [
        {
          "output_type": "stream",
          "name": "stdout",
          "text": [
            "*\n",
            "* *\n",
            "* * *\n",
            "* * * *\n"
          ]
        }
      ]
    },
    {
      "cell_type": "markdown",
      "source": [
        "# 4th exercise of pynative - \n",
        "# Python if else, for loop, and range() Exercises with Solutions"
      ],
      "metadata": {
        "id": "WusoThcvJ_jp"
      }
    },
    {
      "cell_type": "markdown",
      "source": [
        "To decide and control the flow of a program, we have branching and looping techniques in Python. A good understanding of loops and if-else statements is necessary to write efficient programs in Python.\n",
        "\n",
        "\n",
        "This Python loop exercise aims to help Python developers to learn and practice if-else conditions, for loop, range() function, and while loop.\n",
        "\n",
        "\n",
        "### **Use the following tutorials to solve this exercise**\n",
        "\n",
        "* Control flow statements: Use the if-else statements in Python for conditional decision-making\n",
        "\n",
        "* for loop: To iterate over a sequence of elements such as list, string.\n",
        "\n",
        "* range() function: Using a for loop with range(), we can repeat an action a specific number of times\n",
        "\n",
        "* while loop: To repeat a block of code repeatedly, as long as the condition is true.\n",
        "\n",
        "* Break and Continue: To alter the loop’s execution in a certain manner.\n",
        "\n",
        "* Nested loop: loop inside a loop is known as a nested loop"
      ],
      "metadata": {
        "id": "vE2UX_LuKJgA"
      }
    },
    {
      "cell_type": "markdown",
      "source": [
        "# Exercise 1: Print First 10 natural numbers using while loop\n",
        "Help: while loop in Python"
      ],
      "metadata": {
        "id": "y0AGWYkhKaLG"
      }
    },
    {
      "cell_type": "code",
      "source": [
        "num1 = 1\n",
        "while num1 <=10:\n",
        "  print(num1)\n",
        "  num1 = num1+1"
      ],
      "metadata": {
        "id": "wqXhBiXVkEgz",
        "colab": {
          "base_uri": "https://localhost:8080/"
        },
        "outputId": "080c7bce-e494-44bd-f658-5c161107068e"
      },
      "execution_count": null,
      "outputs": [
        {
          "output_type": "stream",
          "name": "stdout",
          "text": [
            "1\n",
            "2\n",
            "3\n",
            "4\n",
            "5\n",
            "6\n",
            "7\n",
            "8\n",
            "9\n",
            "10\n"
          ]
        }
      ]
    },
    {
      "cell_type": "markdown",
      "source": [
        "# Exercise 2: Print the following pattern\n",
        "Write a program to print the following number pattern using a loop.\n",
        "\n"
      ],
      "metadata": {
        "id": "Ee96paZkWhxA"
      }
    },
    {
      "cell_type": "code",
      "source": [
        "i = 1\n",
        "while i<=5:\n",
        "  j = 1\n",
        "  while j<i:\n",
        "    print(j,end = \" \")\n",
        "    j =j+1\n",
        "  print(i)\n",
        "  i = i+1"
      ],
      "metadata": {
        "id": "CVcy4xaQkEfO",
        "colab": {
          "base_uri": "https://localhost:8080/"
        },
        "outputId": "2278fe37-39bd-42d8-8754-13f1cb97466f"
      },
      "execution_count": null,
      "outputs": [
        {
          "output_type": "stream",
          "name": "stdout",
          "text": [
            "1\n",
            "1 2\n",
            "1 2 3\n",
            "1 2 3 4\n",
            "1 2 3 4 5\n"
          ]
        }
      ]
    },
    {
      "cell_type": "markdown",
      "source": [
        "# Exercise 3: Calculate the sum of all numbers from 1 to a given number\n",
        "Write a program to accept a number from a user and calculate the sum of all numbers from 1 to a given number"
      ],
      "metadata": {
        "id": "9ladFwI2X464"
      }
    },
    {
      "cell_type": "code",
      "source": [
        "# .by using while loop\n",
        "\n",
        "n = int(input(\"Enter any number: \"))\n",
        "s = 0\n",
        "i = 1\n",
        "while i <= n:\n",
        "  s = i+s\n",
        "  i = i+1\n",
        "  \n",
        "print(s)"
      ],
      "metadata": {
        "colab": {
          "base_uri": "https://localhost:8080/"
        },
        "id": "ZSweKA3oJ7J7",
        "outputId": "7a9af2e1-b219-4200-d90e-1702adcc137a"
      },
      "execution_count": null,
      "outputs": [
        {
          "output_type": "stream",
          "name": "stdout",
          "text": [
            "Enter any number: 10\n",
            "55\n"
          ]
        }
      ]
    },
    {
      "cell_type": "code",
      "source": [
        "# using for loop\n",
        "\n",
        "n = int(input(\"Enter any number: \"))\n",
        "s = 0\n",
        "for i in range(1,n+1):\n",
        "  s = s+i\n",
        "print(s)"
      ],
      "metadata": {
        "colab": {
          "base_uri": "https://localhost:8080/"
        },
        "id": "devmhgXTYQdP",
        "outputId": "cc342c15-f4b5-43b3-81bd-7bbf9adad1e4"
      },
      "execution_count": null,
      "outputs": [
        {
          "output_type": "stream",
          "name": "stdout",
          "text": [
            "Enter any number: 10\n",
            "55\n"
          ]
        }
      ]
    },
    {
      "cell_type": "markdown",
      "source": [
        "using built in sum () function"
      ],
      "metadata": {
        "id": "cujNygKqaIQA"
      }
    },
    {
      "cell_type": "code",
      "source": [
        "n = int(input(\"Enter any number: \"))\n",
        "\n",
        "x = sum(range(1,n+1))\n",
        "print(x)"
      ],
      "metadata": {
        "colab": {
          "base_uri": "https://localhost:8080/"
        },
        "id": "MKXVFtnIZ81p",
        "outputId": "8f5df3ed-27ec-4f5a-b26b-6888b2f0b76f"
      },
      "execution_count": null,
      "outputs": [
        {
          "output_type": "stream",
          "name": "stdout",
          "text": [
            "Enter any number: 10\n",
            "55\n"
          ]
        }
      ]
    },
    {
      "cell_type": "markdown",
      "source": [
        "# Exercise 4: Write a program to print multiplication table of a given number\n",
        "For example, num = 2 so the output should be\n",
        "\n"
      ],
      "metadata": {
        "id": "zjxXMmjsmdrm"
      }
    },
    {
      "cell_type": "code",
      "source": [
        "# using for loop\n",
        "\n",
        "num = 2\n",
        "# last_num = 20\n",
        "for i in range(1, 11):\n",
        "  product = num*i\n",
        "  print(product)\n",
        "\n"
      ],
      "metadata": {
        "colab": {
          "base_uri": "https://localhost:8080/"
        },
        "id": "XUlKuG9aaUPi",
        "outputId": "4806cc54-bd2e-4c8d-d056-07eaad6f64fe"
      },
      "execution_count": null,
      "outputs": [
        {
          "output_type": "stream",
          "name": "stdout",
          "text": [
            "2\n",
            "4\n",
            "6\n",
            "8\n",
            "10\n",
            "12\n",
            "14\n",
            "16\n",
            "18\n",
            "20\n"
          ]
        }
      ]
    },
    {
      "cell_type": "code",
      "source": [
        "#using while loop\n",
        "num =2\n",
        "\n",
        "count = 1\n",
        "\n",
        "while count<=10:\n",
        "  num = num*1\n",
        "  print(count*num)\n",
        "  count = count+1\n"
      ],
      "metadata": {
        "colab": {
          "base_uri": "https://localhost:8080/"
        },
        "id": "7Jhq3OvcnCJB",
        "outputId": "300f7af1-9fbf-411a-8eae-8090c438243e"
      },
      "execution_count": null,
      "outputs": [
        {
          "output_type": "stream",
          "name": "stdout",
          "text": [
            "2\n",
            "4\n",
            "6\n",
            "8\n",
            "10\n",
            "12\n",
            "14\n",
            "16\n",
            "18\n",
            "20\n"
          ]
        }
      ]
    },
    {
      "cell_type": "markdown",
      "source": [
        "# Exercise 5: Display numbers from a list using loop\n",
        "Write a program to display only those numbers from a list that satisfy the following conditions\n",
        "\n",
        "The number must be divisible by five\n",
        "If the number is greater than 150, then skip it and move to the next number\n",
        "If the number is greater than 500, then stop the loop\n"
      ],
      "metadata": {
        "id": "f8JvPbm6pRXJ"
      }
    },
    {
      "cell_type": "code",
      "source": [
        "numbers = [12, 75, 150, 180, 145, 525, 50]\n",
        "\n",
        "for i in numbers:\n",
        "  if i > 500:\n",
        "      break\n",
        "  elif i > 150:\n",
        "      continue\n",
        "  elif i % 5 ==0:\n",
        "      print(i)\n",
        "\n"
      ],
      "metadata": {
        "colab": {
          "base_uri": "https://localhost:8080/"
        },
        "id": "uphax6spnhlc",
        "outputId": "101171ec-52db-4d0d-df3e-295ea16abfb8"
      },
      "execution_count": null,
      "outputs": [
        {
          "output_type": "stream",
          "name": "stdout",
          "text": [
            "75\n",
            "150\n",
            "145\n"
          ]
        }
      ]
    },
    {
      "cell_type": "markdown",
      "source": [
        "# Exercise 6: Count the total number of digits in a number\n",
        "Write a program to count the total number of digits in a number using a while loop.\n",
        "\n",
        "For example, the number is 75869, so the output should be 5."
      ],
      "metadata": {
        "id": "txaPjRGTsQ7m"
      }
    },
    {
      "cell_type": "code",
      "source": [
        "# After converting int into str (i made this code)\n",
        "\n",
        "number3 = int(input(\"Enter any number: \"))\n",
        "str_input = str(number3)\n",
        "\n",
        "i = 0\n",
        "while i <len(str_input):\n",
        "  i =i+1\n",
        "print(i)"
      ],
      "metadata": {
        "colab": {
          "base_uri": "https://localhost:8080/"
        },
        "id": "YrTQ4JvznhgZ",
        "outputId": "17e2dfdb-a84e-4044-efed-1738f089598c"
      },
      "execution_count": null,
      "outputs": [
        {
          "output_type": "stream",
          "name": "stdout",
          "text": [
            "Enter any number: 55445\n",
            "5\n"
          ]
        }
      ]
    },
    {
      "cell_type": "code",
      "source": [
        "# without converting int intro str\n",
        "\n",
        "num = 75869\n",
        "count = 0\n",
        "while num != 0:\n",
        "    # floor division\n",
        "    # to reduce the last digit from number\n",
        "    num = num // 10\n",
        "    print(num)\n",
        "\n",
        "    # increment counter by 1\n",
        "    count = count + 1\n",
        "print(\"Total digits are:\", count)"
      ],
      "metadata": {
        "colab": {
          "base_uri": "https://localhost:8080/"
        },
        "id": "rJK58GdEnhep",
        "outputId": "c2d2db9d-a8bd-4ef0-9423-259113ba301a"
      },
      "execution_count": null,
      "outputs": [
        {
          "output_type": "stream",
          "name": "stdout",
          "text": [
            "7586\n",
            "758\n",
            "75\n",
            "7\n",
            "0\n",
            "Total digits are: 5\n"
          ]
        }
      ]
    },
    {
      "cell_type": "markdown",
      "source": [
        "# Exercise 7: Print the following pattern\n",
        "Write a program to use for loop to print the following reverse number pattern"
      ],
      "metadata": {
        "id": "FKcveZhotwif"
      }
    },
    {
      "cell_type": "code",
      "source": [
        "for i in range(0,6):\n",
        "  for j in range(5-i,0,-1):\n",
        "  \n",
        "  \n",
        "    print(j,end = \" \")\n",
        "\n",
        "  print()\n"
      ],
      "metadata": {
        "colab": {
          "base_uri": "https://localhost:8080/"
        },
        "id": "ez3aD6jytLeq",
        "outputId": "186c41dc-7a33-45d9-80aa-28c7c9937e51"
      },
      "execution_count": null,
      "outputs": [
        {
          "output_type": "stream",
          "name": "stdout",
          "text": [
            "5 4 3 2 1 \n",
            "4 3 2 1 \n",
            "3 2 1 \n",
            "2 1 \n",
            "1 \n",
            "\n"
          ]
        }
      ]
    },
    {
      "cell_type": "markdown",
      "source": [
        "# Exercise 8: Print list in reverse order using a loop\n"
      ],
      "metadata": {
        "id": "7rZ6OryWvz4P"
      }
    },
    {
      "cell_type": "code",
      "source": [
        "list1 = [10, 20, 30, 40, 50]\n",
        "\n",
        "for i in list1[::-1]:\n",
        "  print(i)\n"
      ],
      "metadata": {
        "colab": {
          "base_uri": "https://localhost:8080/"
        },
        "id": "zmYSfykUtLcN",
        "outputId": "d65069ac-5e89-48f7-a2d0-6c4e64075c9c"
      },
      "execution_count": null,
      "outputs": [
        {
          "output_type": "stream",
          "name": "stdout",
          "text": [
            "50\n",
            "40\n",
            "30\n",
            "20\n",
            "10\n"
          ]
        }
      ]
    },
    {
      "cell_type": "code",
      "source": [
        "list1 = [10, 20, 30, 40, 50]\n",
        "\n",
        "list1 = reversed(list1)\n",
        "\n",
        "for i in list1:\n",
        "  print(i)"
      ],
      "metadata": {
        "colab": {
          "base_uri": "https://localhost:8080/"
        },
        "id": "M4AzIpL_wGK0",
        "outputId": "516e1ab0-8078-4a7b-bd51-ec5ee713ff12"
      },
      "execution_count": null,
      "outputs": [
        {
          "output_type": "stream",
          "name": "stdout",
          "text": [
            "50\n",
            "40\n",
            "30\n",
            "20\n",
            "10\n"
          ]
        }
      ]
    },
    {
      "cell_type": "markdown",
      "source": [
        "# Exercise 9: Display numbers from -10 to -1 using for loop\n"
      ],
      "metadata": {
        "id": "KV_3xiJfwXfo"
      }
    },
    {
      "cell_type": "code",
      "source": [
        "#using for loop\n",
        "\n",
        "for i in range(-10,0):\n",
        "  print(i)"
      ],
      "metadata": {
        "colab": {
          "base_uri": "https://localhost:8080/"
        },
        "id": "fslQBUzKwGI9",
        "outputId": "c1ed95e1-5229-47fa-d308-0e590c41b727"
      },
      "execution_count": null,
      "outputs": [
        {
          "output_type": "stream",
          "name": "stdout",
          "text": [
            "-10\n",
            "-9\n",
            "-8\n",
            "-7\n",
            "-6\n",
            "-5\n",
            "-4\n",
            "-3\n",
            "-2\n",
            "-1\n"
          ]
        }
      ]
    },
    {
      "cell_type": "code",
      "source": [
        "#using while loop\n",
        "\n",
        "count = -10\n",
        "while count <= -1:\n",
        "  print(count)\n",
        "  count = count+1"
      ],
      "metadata": {
        "colab": {
          "base_uri": "https://localhost:8080/"
        },
        "id": "UTbfSi5zwGGk",
        "outputId": "a58e9ed2-af5a-4898-b62a-dd4d488f7079"
      },
      "execution_count": null,
      "outputs": [
        {
          "output_type": "stream",
          "name": "stdout",
          "text": [
            "-10\n",
            "-9\n",
            "-8\n",
            "-7\n",
            "-6\n",
            "-5\n",
            "-4\n",
            "-3\n",
            "-2\n",
            "-1\n"
          ]
        }
      ]
    },
    {
      "cell_type": "markdown",
      "source": [
        "# Exercise 10: Use else block to display a message “Done” after successful execution of for loop\n",
        "For example, the following loop will execute without any error."
      ],
      "metadata": {
        "id": "Y047w7NHxJjl"
      }
    },
    {
      "cell_type": "code",
      "source": [
        "for i in range(5):\n",
        "  print(i)\n",
        "else:\n",
        "  print(\"Done!\")"
      ],
      "metadata": {
        "id": "AjUHehCawGE1",
        "colab": {
          "base_uri": "https://localhost:8080/"
        },
        "outputId": "eae8da4a-a565-4136-f73e-0cbfa2d9c8bf"
      },
      "execution_count": null,
      "outputs": [
        {
          "output_type": "stream",
          "name": "stdout",
          "text": [
            "0\n",
            "1\n",
            "2\n",
            "3\n",
            "4\n",
            "Done!\n"
          ]
        }
      ]
    },
    {
      "cell_type": "markdown",
      "source": [
        "# Exercise 11: Write a program to display all **prime** numbers within a range\n",
        "Note: A Prime Number is a number that cannot be made by multiplying other whole numbers. A prime number is a natural number greater than 1 that is not a product of two smaller natural numbers\n",
        "\n",
        "Examples:\n",
        "\n",
        "* 6 is not a prime mumber because it can be made by 2×3 = 6\n",
        "\n",
        "* 37 is a prime number because no other whole numbers multiply together to make it."
      ],
      "metadata": {
        "id": "O7AX_ktzxxBQ"
      }
    },
    {
      "cell_type": "code",
      "source": [
        "# range\n",
        "start = 25\n",
        "end = 50\n",
        "\n",
        "for i in range(start, end+1):\n",
        "  for j in range(2, i):\n",
        "    if i%j == 0:\n",
        "      break\n",
        "  else:\n",
        "    print(i)"
      ],
      "metadata": {
        "id": "klIySeJYw2Ly",
        "colab": {
          "base_uri": "https://localhost:8080/"
        },
        "outputId": "2e955494-361f-439c-a57c-c73fb3867445"
      },
      "execution_count": null,
      "outputs": [
        {
          "output_type": "stream",
          "name": "stdout",
          "text": [
            "29\n",
            "31\n",
            "37\n",
            "41\n",
            "43\n",
            "47\n"
          ]
        }
      ]
    },
    {
      "cell_type": "markdown",
      "source": [
        "# Exercise 12: Display Fibonacci series up to 10 terms\n",
        "The Fibonacci Sequence is a series of numbers. The next number is found by adding up the two numbers before it. The first two numbers are 0 and 1.\n",
        "\n",
        "For example, 0, 1, 1, 2, 3, 5, 8, 13, 21. The next number in this series above is 13+21 = 34."
      ],
      "metadata": {
        "id": "NcXVzmx603Ze"
      }
    },
    {
      "cell_type": "code",
      "source": [
        "num1,num2 = 0,1\n",
        "print(\"fibonaaci Sequence: \")\n",
        "\n",
        "for i in range(10):\n",
        "  print(num1, end = \" \")\n",
        "  res = num1 + num2\n",
        "  num1 = num2\n",
        "  num2 = res\n",
        "\n",
        "\n"
      ],
      "metadata": {
        "id": "_RMl9PuQw2KH",
        "colab": {
          "base_uri": "https://localhost:8080/"
        },
        "outputId": "48b25b82-6256-4c27-dfc2-cb81859dff6a"
      },
      "execution_count": null,
      "outputs": [
        {
          "output_type": "stream",
          "name": "stdout",
          "text": [
            "fibonaaci Sequence: \n",
            "0 1 1 2 3 5 8 13 21 34 "
          ]
        }
      ]
    },
    {
      "cell_type": "markdown",
      "source": [
        "# Exercise 13: Find the factorial of a given number\n",
        "Write a program to use the loop to find the factorial of a given number.\n",
        "\n",
        "The factorial (symbol: !) means to multiply all whole numbers from the chosen number down to 1.\n",
        "\n",
        "* For example: calculate the factorial of 5"
      ],
      "metadata": {
        "id": "j2X7Ly972-vi"
      }
    },
    {
      "cell_type": "code",
      "source": [
        "# 1. importing math\n",
        "# 2. for \n",
        "# 3. while"
      ],
      "metadata": {
        "id": "e7h2sgEow2DM"
      },
      "execution_count": null,
      "outputs": []
    },
    {
      "cell_type": "markdown",
      "source": [
        "if n < 0  -- 0\n",
        "\n",
        "if n = 0 or n = 1 -- 1\n",
        "\n",
        "if n > 1 -- n!\n",
        "\n"
      ],
      "metadata": {
        "id": "pSDpmGFM3Ip4"
      }
    },
    {
      "cell_type": "code",
      "source": [
        "#by importing math module\n",
        "\n",
        "import math\n",
        "math.factorial(5)"
      ],
      "metadata": {
        "id": "bFDoPVUFw2HY",
        "colab": {
          "base_uri": "https://localhost:8080/"
        },
        "outputId": "fc208330-272a-47ed-a476-4d63b5021306"
      },
      "execution_count": null,
      "outputs": [
        {
          "output_type": "execute_result",
          "data": {
            "text/plain": [
              "120"
            ]
          },
          "metadata": {},
          "execution_count": 8
        }
      ]
    },
    {
      "cell_type": "code",
      "source": [
        "#using while loop\n",
        "\n",
        "n = int(input(\"Any number: \"))\n",
        "\n",
        "# i = 1\n",
        "count = 1\n",
        "fact = 1\n",
        "\n",
        "while count <= n:\n",
        "  fact = fact*count\n",
        "  count = count+1\n",
        "print(fact)\n",
        "\n"
      ],
      "metadata": {
        "id": "jKTVZPnXw2Fw",
        "colab": {
          "base_uri": "https://localhost:8080/"
        },
        "outputId": "ba5bdc45-4431-4846-bba9-2793b3602d68"
      },
      "execution_count": null,
      "outputs": [
        {
          "output_type": "stream",
          "name": "stdout",
          "text": [
            "Any number: 5\n",
            "120\n"
          ]
        }
      ]
    },
    {
      "cell_type": "code",
      "source": [
        "# using for loop\n",
        "\n",
        "fact =1\n",
        "for i in range(input1,1,-1):\n",
        "  fact = fact*i\n",
        "print(fact)\n"
      ],
      "metadata": {
        "id": "94qxeJ7HtLah",
        "colab": {
          "base_uri": "https://localhost:8080/"
        },
        "outputId": "5a2d10d8-6a97-4dcf-f65e-16b45503a5f2"
      },
      "execution_count": null,
      "outputs": [
        {
          "output_type": "stream",
          "name": "stdout",
          "text": [
            "120\n"
          ]
        }
      ]
    },
    {
      "cell_type": "markdown",
      "source": [
        "# Exercise 14: Reverse a given integer number\n",
        "Given:\n",
        "\n",
        "76542\n",
        "\n",
        "Expected output:\n",
        "\n",
        "24567"
      ],
      "metadata": {
        "id": "ScHdIXNC-c8W"
      }
    },
    {
      "cell_type": "code",
      "source": [
        "n = 76542\n",
        "p = str(n)\n",
        "k = p[::-1]\n",
        "print(k)"
      ],
      "metadata": {
        "colab": {
          "base_uri": "https://localhost:8080/"
        },
        "id": "gLb1x2R9xBE2",
        "outputId": "4e4db2ca-62c7-415b-cf52-4f98a9329c22"
      },
      "execution_count": null,
      "outputs": [
        {
          "output_type": "stream",
          "name": "stdout",
          "text": [
            "24567\n"
          ]
        }
      ]
    },
    {
      "cell_type": "code",
      "source": [
        "num = 76542\n",
        "reverse_num = 0\n",
        "\n",
        "while num>0:\n",
        "  remainder = num%10\n",
        "  reverse_num = reverse_num*10 + remainder\n",
        "  num = num //10\n",
        "print(f\"reversed number: {reverse_num}\")\n"
      ],
      "metadata": {
        "colab": {
          "base_uri": "https://localhost:8080/"
        },
        "id": "8DfaeXbm9O0n",
        "outputId": "e599aa60-6b49-4058-9c3f-5575e168b773"
      },
      "execution_count": null,
      "outputs": [
        {
          "output_type": "stream",
          "name": "stdout",
          "text": [
            "reversed number: 24567\n"
          ]
        }
      ]
    },
    {
      "cell_type": "markdown",
      "source": [
        "# Exercise 15: Use a loop to display elements from a given list present at odd index positions\n",
        "Given:\n",
        "\n",
        "my_list = [10, 20, 30, 40, 50, 60, 70, 80, 90, 100]"
      ],
      "metadata": {
        "id": "GEcroAkVFAvP"
      }
    },
    {
      "cell_type": "code",
      "source": [
        "my_list = [10, 20, 30, 40, 50, 60, 70, 80, 90, 100]\n",
        "\n",
        "for i in my_list[1::2]:\n",
        "  print(i, end = \" \")"
      ],
      "metadata": {
        "colab": {
          "base_uri": "https://localhost:8080/"
        },
        "id": "OZ-NmGY99Oyw",
        "outputId": "02893092-dfff-4cf6-a79d-b52e9cbcaeff"
      },
      "execution_count": null,
      "outputs": [
        {
          "output_type": "stream",
          "name": "stdout",
          "text": [
            "20 40 60 80 100 "
          ]
        }
      ]
    },
    {
      "cell_type": "markdown",
      "source": [
        "# Exercise 16: Calculate the cube of all numbers from 1 to a given number\n",
        "Write a program to rint the cube of all numbers from 1 to a given number\n",
        "\n",
        "Given:\n",
        "\n",
        "input_number = 6"
      ],
      "metadata": {
        "id": "MP1fcRqGGRDs"
      }
    },
    {
      "cell_type": "code",
      "source": [
        " n = int(input(\"Enter any number: \"))\n",
        "\n",
        " for i in range(1,n+1):\n",
        "   cube = i**3\n",
        "   print(f\"Current number is: {i} and the cube is {cube}\")\n"
      ],
      "metadata": {
        "colab": {
          "base_uri": "https://localhost:8080/"
        },
        "id": "IjuUo2vsAHDs",
        "outputId": "d7b54f11-a10a-4ad1-bb70-99a096e88b1f"
      },
      "execution_count": null,
      "outputs": [
        {
          "output_type": "stream",
          "name": "stdout",
          "text": [
            "Enter any number: 6\n",
            "Current number is: 1 and the cube is 1\n",
            "Current number is: 2 and the cube is 8\n",
            "Current number is: 3 and the cube is 27\n",
            "Current number is: 4 and the cube is 64\n",
            "Current number is: 5 and the cube is 125\n",
            "Current number is: 6 and the cube is 216\n"
          ]
        }
      ]
    },
    {
      "cell_type": "markdown",
      "source": [
        "# Exercise 17: Find the sum of the series upto n terms\n",
        "Write a program to calculate the sum of series up to n term. For example, if n =5 the series will become 2 + 22 + 222 + 2222 + 22222 = 24690"
      ],
      "metadata": {
        "id": "miaJPHxMHG18"
      }
    },
    {
      "cell_type": "code",
      "source": [
        "# number of terms\n",
        "n = 5\n",
        "\n",
        "start = 2\n",
        "sum_seq = 0\n",
        "\n",
        "for i in range(0,n):\n",
        "  print(start,end = \"+\")\n",
        "  sum_seq = sum_seq+start\n",
        "\n",
        "  #calculate the next term\n",
        "  start = start*10 +2\n",
        "print(f\"Sum of above series is: {sum_seq}\")\n"
      ],
      "metadata": {
        "colab": {
          "base_uri": "https://localhost:8080/"
        },
        "id": "ZyPe1YiaAHBt",
        "outputId": "9974932d-c29c-4e2b-ce2e-bf6b8680f16a"
      },
      "execution_count": null,
      "outputs": [
        {
          "output_type": "stream",
          "name": "stdout",
          "text": [
            "2+22+222+2222+22222+Sum of above series is: 24690\n"
          ]
        }
      ]
    },
    {
      "cell_type": "markdown",
      "source": [
        "# Exercise 18: Print the following pattern\n"
      ],
      "metadata": {
        "id": "o6_QiKIrLsaY"
      }
    },
    {
      "cell_type": "code",
      "source": [
        "#i had created thise cdoe from skretch\n",
        "for  i in range(5):\n",
        "  print(i*'*')\n",
        "for i in range(5,1,-1):\n",
        "  print(i*'*')"
      ],
      "metadata": {
        "colab": {
          "base_uri": "https://localhost:8080/"
        },
        "id": "hpA-omiTAG-s",
        "outputId": "0288a124-18a2-4f88-e185-21c030fb8c8b"
      },
      "execution_count": null,
      "outputs": [
        {
          "output_type": "stream",
          "name": "stdout",
          "text": [
            "\n",
            "*\n",
            "**\n",
            "***\n",
            "****\n",
            "*****\n",
            "****\n",
            "***\n",
            "**\n"
          ]
        }
      ]
    },
    {
      "cell_type": "code",
      "source": [
        "#pynative solution  \n",
        "rows = 5\n",
        "for i in range(0, rows):\n",
        "    for j in range(0, i + 1):\n",
        "        print(\"*\", end=' ')\n",
        "    print(\"\\r\")\n",
        "\n",
        "for i in range(rows, 0, -1):\n",
        "    for j in range(0, i - 1):\n",
        "        print(\"*\", end=' ')\n",
        "    print(\"\\r\")"
      ],
      "metadata": {
        "colab": {
          "base_uri": "https://localhost:8080/"
        },
        "id": "r7_N3hVrAG8f",
        "outputId": "f2cb89d3-5965-4c82-c894-f00392416a80"
      },
      "execution_count": null,
      "outputs": [
        {
          "output_type": "stream",
          "name": "stdout",
          "text": [
            "* \r\n",
            "* * \r\n",
            "* * * \r\n",
            "* * * * \r\n",
            "* * * * * \r\n",
            "* * * * \r\n",
            "* * * \r\n",
            "* * \r\n",
            "* \r\n",
            "\r\n"
          ]
        }
      ]
    },
    {
      "cell_type": "markdown",
      "source": [
        "# Home » Python » Python Programs to Print Pattern – Print Number, Pyramid, Star, Triangle, Diamond, and Alphabets Patterns"
      ],
      "metadata": {
        "id": "1LLx6PHcdJQ3"
      }
    },
    {
      "cell_type": "code",
      "source": [
        "n = 6\n",
        "\n",
        "for i in range(n):\n",
        "  for j in range(i):\n",
        "    print(i,end = \" \")\n",
        "  print()"
      ],
      "metadata": {
        "colab": {
          "base_uri": "https://localhost:8080/"
        },
        "id": "l4f2b619AG5u",
        "outputId": "9490da16-f884-4dcc-f87d-f43c29e3c0f0"
      },
      "execution_count": null,
      "outputs": [
        {
          "output_type": "stream",
          "name": "stdout",
          "text": [
            "\n",
            "1 \n",
            "2 2 \n",
            "3 3 3 \n",
            "4 4 4 4 \n"
          ]
        }
      ]
    },
    {
      "cell_type": "code",
      "source": [
        "n =6\n",
        "for i in range(n):\n",
        "  for j in range(1,i+1):\n",
        "    print(j, end = \" \")\n",
        "  print()"
      ],
      "metadata": {
        "colab": {
          "base_uri": "https://localhost:8080/"
        },
        "id": "cd103gNfAG3t",
        "outputId": "9b2aaa68-67f0-4bb8-f84e-115f34a6ef2e"
      },
      "execution_count": null,
      "outputs": [
        {
          "output_type": "stream",
          "name": "stdout",
          "text": [
            "\n",
            "1 \n",
            "1 2 \n",
            "1 2 3 \n",
            "1 2 3 4 \n",
            "1 2 3 4 5 \n"
          ]
        }
      ]
    },
    {
      "cell_type": "code",
      "source": [
        "rows = 5\n",
        "b = 0 \n",
        "for i in range(rows,0,-1):\n",
        "  b=b+1\n",
        "  for j in range(1,i+1):\n",
        "    print(b,end=\" \")\n",
        "  print(\"\\r\")"
      ],
      "metadata": {
        "colab": {
          "base_uri": "https://localhost:8080/"
        },
        "id": "6UDcHV3Ieb1h",
        "outputId": "c2e6f52c-d0cd-4cee-81fd-3c8aad9c5d16"
      },
      "execution_count": null,
      "outputs": [
        {
          "output_type": "stream",
          "name": "stdout",
          "text": [
            "1 1 1 1 1 \r\n",
            "2 2 2 2 \r\n",
            "3 3 3 \r\n",
            "4 4 \r\n",
            "5 \r\n"
          ]
        }
      ]
    },
    {
      "cell_type": "markdown",
      "source": [
        "# Home » Python Exercises » Python Functions Exercise"
      ],
      "metadata": {
        "id": "OjOKJQhHZIFt"
      }
    },
    {
      "cell_type": "markdown",
      "source": [
        "# Exercise 1: Create a function in Python\n",
        "Write a program to create a function that takes two arguments, name and age, and print their value."
      ],
      "metadata": {
        "id": "W5YJ2iWvZgM0"
      }
    },
    {
      "cell_type": "code",
      "source": [
        "def demo(name,age):\n",
        "  print(name,age)"
      ],
      "metadata": {
        "id": "vTZOpohpZCn2"
      },
      "execution_count": null,
      "outputs": []
    },
    {
      "cell_type": "code",
      "source": [
        "demo(\"arun\",25)"
      ],
      "metadata": {
        "colab": {
          "base_uri": "https://localhost:8080/"
        },
        "id": "hV0m4OTMZCl9",
        "outputId": "d8cd47c6-b7a8-414d-e148-61083a692838"
      },
      "execution_count": null,
      "outputs": [
        {
          "output_type": "stream",
          "name": "stdout",
          "text": [
            "arun 25\n"
          ]
        }
      ]
    },
    {
      "cell_type": "markdown",
      "source": [
        "# Exercise 2: Create a function with variable length of arguments\n",
        "Write a program to create function func1() to accept a variable length of arguments and print their value.\n",
        "\n",
        "Note: Create a function in such a way that we can pass any number of arguments to this function and the function should process them and display each argument’s value."
      ],
      "metadata": {
        "id": "VxYwFjggamvr"
      }
    },
    {
      "cell_type": "code",
      "source": [
        "def func1(*numbers):\n",
        "  print(numbers)"
      ],
      "metadata": {
        "id": "5MMd91o1ZCi6"
      },
      "execution_count": null,
      "outputs": []
    },
    {
      "cell_type": "code",
      "source": [
        "func1(25,32)"
      ],
      "metadata": {
        "colab": {
          "base_uri": "https://localhost:8080/"
        },
        "id": "cgbGR6NiZCgb",
        "outputId": "04009501-5fdd-4705-91fa-2ebed6a3c4b3"
      },
      "execution_count": null,
      "outputs": [
        {
          "output_type": "stream",
          "name": "stdout",
          "text": [
            "(25, 32)\n"
          ]
        }
      ]
    },
    {
      "cell_type": "code",
      "source": [
        "func1(82,\"heyy\", 90)"
      ],
      "metadata": {
        "id": "nuor0oYsvEnR",
        "colab": {
          "base_uri": "https://localhost:8080/"
        },
        "outputId": "ae0f3a66-fdab-4568-da88-7366625824fe"
      },
      "execution_count": null,
      "outputs": [
        {
          "output_type": "stream",
          "name": "stdout",
          "text": [
            "(82, 'heyy', 90)\n"
          ]
        }
      ]
    },
    {
      "cell_type": "code",
      "source": [
        "def func1(*args):\n",
        "    for i in args:\n",
        "        print(i)\n",
        "\n",
        "func1(20, 40, 60)\n",
        "func1(80, 100)"
      ],
      "metadata": {
        "colab": {
          "base_uri": "https://localhost:8080/"
        },
        "id": "OjWZ7vIXZBk4",
        "outputId": "54025d09-672f-4acc-9328-da8b89e395f3"
      },
      "execution_count": null,
      "outputs": [
        {
          "output_type": "stream",
          "name": "stdout",
          "text": [
            "20\n",
            "40\n",
            "60\n",
            "80\n",
            "100\n"
          ]
        }
      ]
    },
    {
      "cell_type": "markdown",
      "source": [
        "# Exercise 3: Return multiple values from a function\n",
        "Write a program to create function calculation() such that it can accept two variables and calculate addition and subtraction. Also, it must return both addition and subtraction in a single return call."
      ],
      "metadata": {
        "id": "GIJbWGHTbhlc"
      }
    },
    {
      "cell_type": "code",
      "source": [
        "def calculation(a,b):\n",
        "  addition = a+b\n",
        "  subtraction = a-b\n",
        "  return addition,subtraction"
      ],
      "metadata": {
        "id": "p1-7b8Gtbhcv"
      },
      "execution_count": null,
      "outputs": []
    },
    {
      "cell_type": "code",
      "source": [
        "res = calculation(20,40)"
      ],
      "metadata": {
        "id": "PxHPlVKkbIRM"
      },
      "execution_count": null,
      "outputs": []
    },
    {
      "cell_type": "code",
      "source": [
        "print(res)"
      ],
      "metadata": {
        "colab": {
          "base_uri": "https://localhost:8080/"
        },
        "id": "Yc7SDvypbIO0",
        "outputId": "90e097d3-ae3a-444f-d5a6-46dc768778fb"
      },
      "execution_count": null,
      "outputs": [
        {
          "output_type": "stream",
          "name": "stdout",
          "text": [
            "(60, -20)\n"
          ]
        }
      ]
    },
    {
      "cell_type": "code",
      "source": [
        "# 2nd solution\n",
        "\n",
        "def calculation1(a,b):\n",
        "  return a+b,a-b\n"
      ],
      "metadata": {
        "id": "KYiODf3hbIMG"
      },
      "execution_count": null,
      "outputs": []
    },
    {
      "cell_type": "code",
      "source": [
        "calculation1(20,2)"
      ],
      "metadata": {
        "colab": {
          "base_uri": "https://localhost:8080/"
        },
        "id": "fQnsddd1bIJq",
        "outputId": "82d07f7b-ca83-4b91-9418-a0fca68fa258"
      },
      "execution_count": null,
      "outputs": [
        {
          "output_type": "execute_result",
          "data": {
            "text/plain": [
              "(22, 18)"
            ]
          },
          "metadata": {},
          "execution_count": 32
        }
      ]
    },
    {
      "cell_type": "markdown",
      "source": [
        "# Exercise 4: Create a function with default argument\n",
        "Write a program to create a function show_employee() using the following conditions.\n",
        "\n",
        "It should accept the employee’s name and salary and display both.\n",
        "If the salary is missing in the function call then assign default value 9000 to salary\n"
      ],
      "metadata": {
        "id": "q4lx4cG4c8tm"
      }
    },
    {
      "cell_type": "code",
      "source": [
        "#function with default arguement\n",
        "\n",
        "def show_employee(name,salary = 9000):\n",
        "  return name,salary"
      ],
      "metadata": {
        "id": "ju6nu_oubIGq"
      },
      "execution_count": null,
      "outputs": []
    },
    {
      "cell_type": "code",
      "source": [
        "show_employee('arun')"
      ],
      "metadata": {
        "colab": {
          "base_uri": "https://localhost:8080/"
        },
        "id": "I6v-7pIYbID_",
        "outputId": "b70c8287-b6bc-4d8e-a831-031f1aea369f"
      },
      "execution_count": null,
      "outputs": [
        {
          "output_type": "execute_result",
          "data": {
            "text/plain": [
              "('arun', 9000)"
            ]
          },
          "metadata": {},
          "execution_count": 41
        }
      ]
    },
    {
      "cell_type": "code",
      "source": [
        "def show_employee1(name,salary = 9000):\n",
        "  print(f\"Name: {name} Salary: {salary}\")"
      ],
      "metadata": {
        "id": "l9VAKu0ebH_O"
      },
      "execution_count": null,
      "outputs": []
    },
    {
      "cell_type": "code",
      "source": [
        "show_employee1('arun')"
      ],
      "metadata": {
        "colab": {
          "base_uri": "https://localhost:8080/"
        },
        "id": "WD8GW9LAbH7y",
        "outputId": "8784ccb4-6719-4181-f1fe-ae3f0a563130"
      },
      "execution_count": null,
      "outputs": [
        {
          "output_type": "stream",
          "name": "stdout",
          "text": [
            "Name: arun Salary: 9000\n"
          ]
        }
      ]
    },
    {
      "cell_type": "markdown",
      "source": [
        "# Exercise 5: Create an inner function to calculate the addition in the following way\n",
        "* Create an outer function that will accept two parameters, a and b\n",
        "* Create an inner function inside an outer function that will calculate the addition of a and b\n",
        "* At last, an outer function will add 5 into addition and return it"
      ],
      "metadata": {
        "id": "JTZCwQzNh1FM"
      }
    },
    {
      "cell_type": "code",
      "source": [
        "def outer_fun(a,b):\n",
        "  def inner_fun(a,b):\n",
        "    return a+b\n",
        "\n",
        "  addition = inner_fun(a,b)\n",
        "  \n",
        "  return addition+5"
      ],
      "metadata": {
        "id": "HKYtSgOabH5z"
      },
      "execution_count": null,
      "outputs": []
    },
    {
      "cell_type": "code",
      "source": [
        "outer_fun(5,2)"
      ],
      "metadata": {
        "colab": {
          "base_uri": "https://localhost:8080/"
        },
        "id": "Rr5bVXDEbH3c",
        "outputId": "55519c49-b04d-45f3-cad0-2e1db847b72e"
      },
      "execution_count": null,
      "outputs": [
        {
          "output_type": "execute_result",
          "data": {
            "text/plain": [
              "12"
            ]
          },
          "metadata": {},
          "execution_count": 58
        }
      ]
    },
    {
      "cell_type": "markdown",
      "source": [
        "# Exercise 6: Create a recursive function\n",
        "Write a program to create a recursive function to calculate the sum of numbers from 0 to 10.\n",
        "\n",
        "A recursive function is a function that calls itself, again and again."
      ],
      "metadata": {
        "id": "R9eApJrVjpOZ"
      }
    },
    {
      "cell_type": "code",
      "source": [
        "'''\n",
        "remeber 2 things in recursive function - 1. its importnt to identify which one is base case and which one is recursive case. \n",
        "2. its important to -- after some finite number of recursive callss every recursion function should be terminated\n",
        "'''\n",
        "\n",
        "def recursive_func(num):\n",
        "  if num >0:\n",
        "    #call same function by reducting by 1\n",
        "    return num + recursive_func(num-1)\n",
        "  else:\n",
        "    return 0\n",
        "\n"
      ],
      "metadata": {
        "id": "k4QbQ5TObHv3"
      },
      "execution_count": null,
      "outputs": []
    },
    {
      "cell_type": "code",
      "source": [
        "res = recursive_func(20)\n",
        "print(res)"
      ],
      "metadata": {
        "colab": {
          "base_uri": "https://localhost:8080/"
        },
        "id": "YXdHPS6RbHtF",
        "outputId": "f0cbeb40-faa3-40c3-cd2c-44b84afeeae1"
      },
      "execution_count": null,
      "outputs": [
        {
          "output_type": "stream",
          "name": "stdout",
          "text": [
            "210\n"
          ]
        }
      ]
    },
    {
      "cell_type": "markdown",
      "source": [
        "# Exercise 7: Assign a different name to function and call it through the new name\n",
        "Below is the function display_student(name, age). Assign a new name show_tudent(name, age) to it and call it using the new name."
      ],
      "metadata": {
        "id": "hetDo9s1uJP2"
      }
    },
    {
      "cell_type": "code",
      "source": [
        "#4 lines of code to show difference between print and return\n",
        "\n",
        "def display_student(name, age):\n",
        "  return name,age"
      ],
      "metadata": {
        "id": "cJwnPJRkbHrP"
      },
      "execution_count": null,
      "outputs": []
    },
    {
      "cell_type": "code",
      "source": [
        "return_power = display_student('arun',25)\n",
        "print(return_power)"
      ],
      "metadata": {
        "colab": {
          "base_uri": "https://localhost:8080/"
        },
        "id": "eC2XRqFcbHm3",
        "outputId": "0b14710e-f752-473e-d0f3-1eae57dfe71f"
      },
      "execution_count": null,
      "outputs": [
        {
          "output_type": "stream",
          "name": "stdout",
          "text": [
            "arun 25\n",
            "None\n"
          ]
        }
      ]
    },
    {
      "cell_type": "code",
      "source": [
        "def display_student11(name, age):\n",
        "  print(name,age)"
      ],
      "metadata": {
        "id": "a-mr6ZKZbHk8"
      },
      "execution_count": null,
      "outputs": []
    },
    {
      "cell_type": "code",
      "source": [
        "print_power = display_student11('arun',25)\n",
        "print(print_power)\n"
      ],
      "metadata": {
        "colab": {
          "base_uri": "https://localhost:8080/"
        },
        "id": "dWyxQGfXbHik",
        "outputId": "21f4b86a-6049-4584-c81d-13959b04728b"
      },
      "execution_count": null,
      "outputs": [
        {
          "output_type": "stream",
          "name": "stdout",
          "text": [
            "arun 25\n",
            "None\n"
          ]
        }
      ]
    },
    {
      "cell_type": "code",
      "source": [
        "# back to practice\n",
        "\n",
        "def display_student(name, age):\n",
        "  return name,age\n",
        "\n",
        "show_tudent = display_student\n"
      ],
      "metadata": {
        "id": "AcPTASLgbHW3"
      },
      "execution_count": null,
      "outputs": []
    },
    {
      "cell_type": "code",
      "source": [
        "display_student('heyy',25)"
      ],
      "metadata": {
        "colab": {
          "base_uri": "https://localhost:8080/"
        },
        "id": "NCKsiJEubHVA",
        "outputId": "cb1cdbcc-2e43-43c6-b1c3-de34867e2d63"
      },
      "execution_count": null,
      "outputs": [
        {
          "output_type": "execute_result",
          "data": {
            "text/plain": [
              "('heyy', 25)"
            ]
          },
          "metadata": {},
          "execution_count": 90
        }
      ]
    },
    {
      "cell_type": "code",
      "source": [
        "show_tudent('heyy',25)"
      ],
      "metadata": {
        "colab": {
          "base_uri": "https://localhost:8080/"
        },
        "id": "VMAUZ3zh7pUK",
        "outputId": "8f99485a-a526-45e4-b798-e15cba1cd9f1"
      },
      "execution_count": null,
      "outputs": [
        {
          "output_type": "execute_result",
          "data": {
            "text/plain": [
              "('heyy', 25)"
            ]
          },
          "metadata": {},
          "execution_count": 91
        }
      ]
    },
    {
      "cell_type": "markdown",
      "source": [
        "# Exercise 8: Generate a Python list of all the even numbers between 4 to 30"
      ],
      "metadata": {
        "id": "A27HfCCH8CXw"
      }
    },
    {
      "cell_type": "code",
      "source": [
        ""
      ],
      "metadata": {
        "id": "ffRfg4t9AEG9"
      },
      "execution_count": null,
      "outputs": []
    },
    {
      "cell_type": "code",
      "source": [
        "\n",
        "even_num(4,30)"
      ],
      "metadata": {
        "colab": {
          "base_uri": "https://localhost:8080/"
        },
        "id": "t5doU3k48Ezc",
        "outputId": "6b16805a-d1cc-4983-d16b-b9ceca29d876"
      },
      "execution_count": null,
      "outputs": [
        {
          "output_type": "execute_result",
          "data": {
            "text/plain": [
              "6"
            ]
          },
          "metadata": {},
          "execution_count": 151
        }
      ]
    },
    {
      "cell_type": "code",
      "source": [
        "print(list(range(4, 30, 2)))\n"
      ],
      "metadata": {
        "colab": {
          "base_uri": "https://localhost:8080/"
        },
        "id": "t5yw0UWY8Exe",
        "outputId": "9b9c3740-64c3-4879-efbf-5bb8d4b723c9"
      },
      "execution_count": null,
      "outputs": [
        {
          "output_type": "stream",
          "name": "stdout",
          "text": [
            "[4, 6, 8, 10, 12, 14, 16, 18, 20, 22, 24, 26, 28]\n"
          ]
        }
      ]
    },
    {
      "cell_type": "markdown",
      "source": [
        "# Exercise 9: Find the largest item from a given list\n"
      ],
      "metadata": {
        "id": "oTdqFlVeAJ8n"
      }
    },
    {
      "cell_type": "code",
      "source": [
        "x = [4, 6, 8, 24, 12, 2]\n",
        "print(max(x))"
      ],
      "metadata": {
        "colab": {
          "base_uri": "https://localhost:8080/"
        },
        "id": "qGWHYBEq8Ev9",
        "outputId": "4c2d754b-f389-467b-bbc8-e7c4c2707db0"
      },
      "execution_count": null,
      "outputs": [
        {
          "output_type": "stream",
          "name": "stdout",
          "text": [
            "24\n"
          ]
        }
      ]
    },
    {
      "cell_type": "markdown",
      "source": [
        "# Home » Python Exercises » Python String Exercise with Solutions"
      ],
      "metadata": {
        "id": "Tbf-L92ZJTiy"
      }
    },
    {
      "cell_type": "markdown",
      "source": [
        "# Exercise 1A: Create a string made of the first, middle and last character\n",
        "Write a program to create a new string made of an input string’s first, middle, and last character."
      ],
      "metadata": {
        "id": "dAnPLEDKJTZy"
      }
    },
    {
      "cell_type": "code",
      "source": [
        "# i made this code from skretch\n",
        "\n",
        "str1 = \"James\"\n",
        "first_char = str1[0]\n",
        "last_char = str1[-1]\n",
        "mid_char = str1[int((len(str1)/2))]\n",
        "final = first_char + mid_char+last_char"
      ],
      "metadata": {
        "id": "SMdC6HbXJLhZ"
      },
      "execution_count": null,
      "outputs": []
    },
    {
      "cell_type": "code",
      "source": [
        "final\n"
      ],
      "metadata": {
        "colab": {
          "base_uri": "https://localhost:8080/",
          "height": 35
        },
        "id": "MPIhJdqsJLfp",
        "outputId": "2017a9e4-a5e1-4ddf-ff68-869d4c3e89a2"
      },
      "execution_count": null,
      "outputs": [
        {
          "output_type": "execute_result",
          "data": {
            "application/vnd.google.colaboratory.intrinsic+json": {
              "type": "string"
            },
            "text/plain": [
              "'Jms'"
            ]
          },
          "metadata": {},
          "execution_count": 3
        }
      ]
    },
    {
      "cell_type": "code",
      "source": [
        "print(final)"
      ],
      "metadata": {
        "colab": {
          "base_uri": "https://localhost:8080/"
        },
        "id": "oPo3W_YzJLdD",
        "outputId": "d2763f44-1ed5-4182-8a0a-ff7d426bc31e"
      },
      "execution_count": null,
      "outputs": [
        {
          "output_type": "stream",
          "name": "stdout",
          "text": [
            "Jms\n"
          ]
        }
      ]
    },
    {
      "cell_type": "code",
      "source": [
        "str1 = 'James'\n",
        "print(\"Original String is\", str1)\n",
        "\n",
        "# Get first character\n",
        "res = str1[0]\n",
        "\n",
        "# Get string size\n",
        "l = len(str1)\n",
        "# Get middle index number\n",
        "mi = int(l / 2)\n",
        "# Get middle character and add it to result\n",
        "res = res + str1[mi]\n",
        "\n",
        "# Get last character and add it to result\n",
        "res = res + str1[l - 1]                                               #only this part different from my code\n",
        "\n",
        "print(\"New String:\", res)"
      ],
      "metadata": {
        "colab": {
          "base_uri": "https://localhost:8080/"
        },
        "id": "XIfCBHvQJLaz",
        "outputId": "26f16832-768c-4fcc-a3d6-59a0ee1f28d9"
      },
      "execution_count": null,
      "outputs": [
        {
          "output_type": "stream",
          "name": "stdout",
          "text": [
            "Original String is James\n",
            "New String: Jms\n"
          ]
        }
      ]
    },
    {
      "cell_type": "markdown",
      "source": [
        "# Exercise 1B: Create a string made of the middle three characters\n",
        "Write a program to create a new string made of the middle three characters of an input string."
      ],
      "metadata": {
        "id": "Kc_Twb3rLAIC"
      }
    },
    {
      "cell_type": "code",
      "source": [
        "# my code from sktrtch\n",
        "\n",
        "str1 = \"JhonDipPeta\"\n",
        "print(\"given string is: {str1}\")\n",
        "\n",
        "mid_ch = str1[int(len(str1)/2)]\n",
        "before_mid = str1[int(len(str1)/2) - 1]\n",
        "after_mid = str1[int(len(str1)/2)+1]\n",
        "\n",
        "res = before_mid+mid_ch+after_mid\n",
        "print(res)"
      ],
      "metadata": {
        "colab": {
          "base_uri": "https://localhost:8080/"
        },
        "id": "FRQE3MTfJLXd",
        "outputId": "99c46277-1ec1-4ba9-dd98-0d455075ef9f"
      },
      "execution_count": null,
      "outputs": [
        {
          "output_type": "stream",
          "name": "stdout",
          "text": [
            "given string is: {str1}\n",
            "Dip\n"
          ]
        }
      ]
    },
    {
      "cell_type": "code",
      "source": [
        "# defining func out of it\n",
        "\n",
        "def mid_three_ch(str1):\n",
        "\n",
        "  # first get middle index number\n",
        "  mi = int(len(str1)/2)\n",
        "\n",
        "  res = str1[mi-1:mi+2]\n",
        "  print(f\"mid 3 chars are: {res}\")"
      ],
      "metadata": {
        "id": "GeEet4qfJLVk"
      },
      "execution_count": null,
      "outputs": []
    },
    {
      "cell_type": "code",
      "source": [
        "mid_three_ch(\"pynative\")"
      ],
      "metadata": {
        "colab": {
          "base_uri": "https://localhost:8080/"
        },
        "id": "LFYPunzOJLS1",
        "outputId": "57f709c7-d718-477f-c916-d786b2510e85"
      },
      "execution_count": null,
      "outputs": [
        {
          "output_type": "stream",
          "name": "stdout",
          "text": [
            "mid 3 chars are: ati\n"
          ]
        }
      ]
    },
    {
      "cell_type": "markdown",
      "source": [
        "# Exercise 2: Append new string in the middle of a given string\n",
        "Given two strings, s1 and s2. Write a program to create a new string s3 by appending s2 in the middle of s1."
      ],
      "metadata": {
        "id": "eVB4DtCkNNIg"
      }
    },
    {
      "cell_type": "code",
      "source": [
        "s1 = \"Ault\"\n",
        "s2 = \"Kelly\"\n",
        "\n",
        "\n",
        "#first getting mid index of string\n",
        "mi = int(len(s2)/2)\n",
        "\n",
        "#simply append 2 strings\n",
        "re = s2[:mi]+s1+s2[mi:]\n",
        "print(f\"new string: {re}\")"
      ],
      "metadata": {
        "colab": {
          "base_uri": "https://localhost:8080/"
        },
        "id": "wJeVk1jnJLQk",
        "outputId": "1772c901-2f1f-43db-d281-c8fbddb1a996"
      },
      "execution_count": null,
      "outputs": [
        {
          "output_type": "stream",
          "name": "stdout",
          "text": [
            "new string: KeAultlly\n"
          ]
        }
      ]
    },
    {
      "cell_type": "markdown",
      "source": [
        "# Exercise 3: Create a new string made of the first, middle, and last characters of each input string\n",
        "Given two strings, s1 and s2, write a program to return a new string made of s1 and s2’s first, middle, and last characters."
      ],
      "metadata": {
        "id": "gE9oWLE4Ospv"
      }
    },
    {
      "cell_type": "code",
      "source": [
        "s1 = \"America\"\n",
        "s2 = \"Japan\"\n",
        "\n",
        "res = s1[0]+s2[0]+s1[int(len(s1)/2)] + s2[int(len(s2)/2)]+s1[-1]+s2[-1]\n",
        "print(f\"string will be: {res}\")"
      ],
      "metadata": {
        "colab": {
          "base_uri": "https://localhost:8080/"
        },
        "id": "BP_jGKpbJLNY",
        "outputId": "534812c6-4211-4aab-80a1-cc23a0172a36"
      },
      "execution_count": null,
      "outputs": [
        {
          "output_type": "stream",
          "name": "stdout",
          "text": [
            "string will be: AJrpan\n"
          ]
        }
      ]
    },
    {
      "cell_type": "markdown",
      "source": [
        "# Exercise 4: Arrange string characters such that lowercase letters should come first\n",
        "Given string contains a combination of the lower and upper case letters. Write a program to arrange the characters of a string so that all lowercase letters should come first."
      ],
      "metadata": {
        "id": "07FlsRtuQ7E7"
      }
    },
    {
      "cell_type": "code",
      "source": [
        "str1 = 'PyNaTive'\n",
        "\n",
        "upper = []\n",
        "lower = []\n",
        "\n",
        "for char in str1:\n",
        "  if char.islower():\n",
        "    lower.append(char)\n",
        "  else:\n",
        "    upper.append(char)\n",
        "\n",
        "final_list = ''.join(lower+upper)\n",
        "print(final_list)  "
      ],
      "metadata": {
        "colab": {
          "base_uri": "https://localhost:8080/"
        },
        "id": "Azhz0MEtJLLh",
        "outputId": "3da71edf-6ce7-4012-e902-a1e73e44d04c"
      },
      "execution_count": null,
      "outputs": [
        {
          "output_type": "stream",
          "name": "stdout",
          "text": [
            "yaivePNT\n"
          ]
        }
      ]
    },
    {
      "cell_type": "markdown",
      "source": [
        "# Exercise 5: Count all letters, digits, and special symbols from a given string"
      ],
      "metadata": {
        "id": "DnO2x7zYS6Hw"
      }
    },
    {
      "cell_type": "code",
      "source": [
        "str1 = \"P@#yn26at^&i5ve\"\n",
        "\n",
        "digit_count = 0\n",
        "alpha_count =0\n",
        "symbol_count = 0\n",
        "\n",
        "for char in str1:\n",
        "  if char.isdigit():\n",
        "    digit_count = digit_count+1\n",
        "  elif char.isalpha():\n",
        "    alpha_count = alpha_count+1\n",
        "  else:\n",
        "    symbol_count +=1\n",
        "print(f\"no of digits: {digit_count}\\nno. of alpha: {alpha_count}\\nno. of symbols: {symbol_count}\")"
      ],
      "metadata": {
        "id": "E7spExUs8ErA",
        "colab": {
          "base_uri": "https://localhost:8080/"
        },
        "outputId": "269891c9-ec02-4790-e6d9-e6d9d0cdcc3c"
      },
      "execution_count": null,
      "outputs": [
        {
          "output_type": "stream",
          "name": "stdout",
          "text": [
            "no of digits: 3\n",
            "no. of alpha: 8\n",
            "no. of symbols: 4\n"
          ]
        }
      ]
    },
    {
      "cell_type": "markdown",
      "source": [
        "# Exercise 6: Create a mixed String using the following rules\n",
        "Given two strings, s1 and s2. Write a program to create a new string s3 made of the first char of s1, then the last char of s2, Next, the second char of s1 and second last char of s2, and so on. Any leftover chars go at the end of the result."
      ],
      "metadata": {
        "id": "Vsud12EFUuin"
      }
    },
    {
      "cell_type": "code",
      "source": [
        "s1 = \"Abc\"\n",
        "s2 = \"Xyz\"\n",
        "\n",
        "# get string length\n",
        "s1_length = len(s1)\n",
        "s2_length = len(s2)\n",
        "\n",
        "length = s1_length if s1_length > s2_length else s2_length\n",
        "result = \"\"\n",
        "\n",
        "s2 = s2[::-1]\n",
        "\n",
        "for i in range(length):\n",
        "  if i < s1_length:\n",
        "    result = result+s1[i]\n",
        "  if i < s2_length:\n",
        "    result = result+s2[i]\n",
        "print(result)"
      ],
      "metadata": {
        "id": "TwuKIyy_8Eno",
        "colab": {
          "base_uri": "https://localhost:8080/"
        },
        "outputId": "cb5560ec-bfa7-4737-f713-1748825136fa"
      },
      "execution_count": null,
      "outputs": [
        {
          "output_type": "stream",
          "name": "stdout",
          "text": [
            "AzbycX\n"
          ]
        }
      ]
    },
    {
      "cell_type": "markdown",
      "source": [
        "# Exercise 7: String characters balance Test\n",
        "Write a program to check if two strings are balanced. For example, strings s1 and s2 are balanced if all the characters in the s1 are present in s2. The character’s position doesn’t matter."
      ],
      "metadata": {
        "id": "-Z05vp3JYzp5"
      }
    },
    {
      "cell_type": "code",
      "source": [
        "s1 = \"Yn\"\n",
        "s2 = \"PYnative\"\n",
        "\n",
        "colab = True\n",
        "for i in s1:\n",
        "  if i in s2:\n",
        "    continue\n",
        "  else:\n",
        "    colab = False\n",
        "print(colab)"
      ],
      "metadata": {
        "id": "JFp0MAzD8Ehx",
        "colab": {
          "base_uri": "https://localhost:8080/"
        },
        "outputId": "7ef35291-2221-431c-ce5d-808618a7f4bb"
      },
      "execution_count": null,
      "outputs": [
        {
          "output_type": "stream",
          "name": "stdout",
          "text": [
            "True\n"
          ]
        }
      ]
    },
    {
      "cell_type": "markdown",
      "source": [
        "# Exercise 8: Find all occurrences of a substring in a given string by ignoring the case\n",
        "Write a program to find all occurrences of “USA” in a given string ignoring the case."
      ],
      "metadata": {
        "id": "m6C6PIJxaMaY"
      }
    },
    {
      "cell_type": "code",
      "source": [
        "str1 = \"Welcome to USA. usa awesome, isn't it?\"\n",
        "\n",
        "for i in str1:\n",
        "  if j == 'USA':\n",
        "    i = i+1\n",
        "  if i == 'usa':\n",
        "    i=i+1\n",
        "print(f\"count of USA is: {i}\")"
      ],
      "metadata": {
        "id": "gycQdDgJ8Eff",
        "colab": {
          "base_uri": "https://localhost:8080/",
          "height": 200
        },
        "outputId": "975c0fc0-4411-4553-92d2-5e9b85cd1c4b"
      },
      "execution_count": null,
      "outputs": [
        {
          "output_type": "error",
          "ename": "NameError",
          "evalue": "ignored",
          "traceback": [
            "\u001b[0;31m---------------------------------------------------------------------------\u001b[0m",
            "\u001b[0;31mNameError\u001b[0m                                 Traceback (most recent call last)",
            "\u001b[0;32m<ipython-input-2-9fea2f4ddb0f>\u001b[0m in \u001b[0;36m<module>\u001b[0;34m()\u001b[0m\n\u001b[1;32m      6\u001b[0m   \u001b[0;32mif\u001b[0m \u001b[0mi\u001b[0m \u001b[0;34m==\u001b[0m \u001b[0;34m'usa'\u001b[0m\u001b[0;34m:\u001b[0m\u001b[0;34m\u001b[0m\u001b[0;34m\u001b[0m\u001b[0m\n\u001b[1;32m      7\u001b[0m     \u001b[0mj\u001b[0m\u001b[0;34m=\u001b[0m\u001b[0mj\u001b[0m\u001b[0;34m+\u001b[0m\u001b[0;36m1\u001b[0m\u001b[0;34m\u001b[0m\u001b[0;34m\u001b[0m\u001b[0m\n\u001b[0;32m----> 8\u001b[0;31m \u001b[0mprint\u001b[0m\u001b[0;34m(\u001b[0m\u001b[0;34mf\"count of USA is: {j}\"\u001b[0m\u001b[0;34m)\u001b[0m\u001b[0;34m\u001b[0m\u001b[0;34m\u001b[0m\u001b[0m\n\u001b[0m",
            "\u001b[0;31mNameError\u001b[0m: name 'j' is not defined"
          ]
        }
      ]
    },
    {
      "cell_type": "code",
      "source": [
        "str1 = \"Welcome to USA. usa awesome, isn't it?\"\n",
        "\n",
        "sub_string = 'USA'\n",
        "\n",
        "#creating temp string\n",
        "temp_str = str1.lower()\n",
        "\n",
        "final = temp_str.count(sub_string.lower())\n",
        "print(final)"
      ],
      "metadata": {
        "id": "4ipJ4bDA8EbM",
        "colab": {
          "base_uri": "https://localhost:8080/"
        },
        "outputId": "2a357f4c-e561-4b09-cd24-24fe1d872831"
      },
      "execution_count": null,
      "outputs": [
        {
          "output_type": "stream",
          "name": "stdout",
          "text": [
            "2\n"
          ]
        }
      ]
    },
    {
      "cell_type": "markdown",
      "source": [
        "# Exercise 9: Calculate the sum and average of the digits present in a string\n"
      ],
      "metadata": {
        "id": "a5r7wSuMNJb8"
      }
    },
    {
      "cell_type": "markdown",
      "source": [
        "Given a string s1, write a program to return the sum and average of the digits that appear in the string, ignoring all other characters."
      ],
      "metadata": {
        "id": "CQAdlyY2NOVn"
      }
    },
    {
      "cell_type": "code",
      "source": [
        "str1 = \"PYnative29@#8496\"\n",
        "digit_str = str1.isdigit()"
      ],
      "metadata": {
        "id": "5FSXd4w88EW2"
      },
      "execution_count": null,
      "outputs": []
    },
    {
      "cell_type": "code",
      "source": [
        "digit_str"
      ],
      "metadata": {
        "id": "pSThF8nP8EU6",
        "colab": {
          "base_uri": "https://localhost:8080/"
        },
        "outputId": "7b7abfb6-745f-483e-b6e1-9027657393fb"
      },
      "execution_count": null,
      "outputs": [
        {
          "output_type": "execute_result",
          "data": {
            "text/plain": [
              "False"
            ]
          },
          "metadata": {},
          "execution_count": 13
        }
      ]
    },
    {
      "cell_type": "code",
      "source": [
        "total = 0\n",
        "count = 0\n",
        "for i in str1:\n",
        "  if i.isdigit():\n",
        "    total = total+int(i)\n",
        "    count = count+1\n",
        "avg = total /count\n",
        "print(f\"Sum: {total}\\nAvg: {avg}\")"
      ],
      "metadata": {
        "id": "4YJYLX_YJKRO",
        "colab": {
          "base_uri": "https://localhost:8080/"
        },
        "outputId": "3ed79fdd-31d7-411f-82db-95f0e24f1dae"
      },
      "execution_count": null,
      "outputs": [
        {
          "output_type": "stream",
          "name": "stdout",
          "text": [
            "Sum: 38\n",
            "Avg: 6.333333333333333\n"
          ]
        }
      ]
    },
    {
      "cell_type": "markdown",
      "source": [
        "# Exercise 10: Write a program to count occurrences of all characters within a string\n",
        "Given:\n",
        "\n",
        "str1 = \"Apple\""
      ],
      "metadata": {
        "id": "rwL_7ocBSbC_"
      }
    },
    {
      "cell_type": "code",
      "source": [
        "# to create dictionary\n",
        "str1 = \"Apple\"\n",
        "\n",
        "dict1 = {}\n",
        "\n",
        "for char in str1:\n",
        "  count = str1.count(char)\n",
        "  dict1[char] = count\n",
        "print(f\"result: {dict1}\")"
      ],
      "metadata": {
        "colab": {
          "base_uri": "https://localhost:8080/"
        },
        "id": "tPqv323WUUV4",
        "outputId": "540ae76a-da91-47cb-c196-60751db73420"
      },
      "execution_count": null,
      "outputs": [
        {
          "output_type": "stream",
          "name": "stdout",
          "text": [
            "result: {'A': 1, 'p': 2, 'l': 1, 'e': 1}\n"
          ]
        }
      ]
    },
    {
      "cell_type": "code",
      "source": [
        "# to create list\n",
        "\n",
        "str1 = \"Apple\"\n",
        "int_str = list(str1)\n",
        "\n",
        "lisr1 = []\n",
        "for i in int_str:\n",
        "   lisr1.append(i)\n",
        "print(lisr1)"
      ],
      "metadata": {
        "colab": {
          "base_uri": "https://localhost:8080/"
        },
        "id": "Qw2CRAYRLVdW",
        "outputId": "8bf19341-629b-43a4-9143-f1f8ef9d9d7b"
      },
      "execution_count": null,
      "outputs": [
        {
          "output_type": "stream",
          "name": "stdout",
          "text": [
            "['A', 'p', 'p', 'l', 'e']\n"
          ]
        }
      ]
    },
    {
      "cell_type": "markdown",
      "source": [
        "# Exercise 11: Reverse a given string\n"
      ],
      "metadata": {
        "id": "LaSBDGDVVvrW"
      }
    },
    {
      "cell_type": "code",
      "source": [
        "#1st method - i did it\n",
        "str1 = \"PYnative\"\n",
        "str2 = str1[::-1]\n",
        "print(str2)"
      ],
      "metadata": {
        "colab": {
          "base_uri": "https://localhost:8080/"
        },
        "id": "da89AIJNNQaY",
        "outputId": "05953f89-2f38-404e-979a-29e71a66599f"
      },
      "execution_count": null,
      "outputs": [
        {
          "output_type": "stream",
          "name": "stdout",
          "text": [
            "evitanYP\n"
          ]
        }
      ]
    },
    {
      "cell_type": "code",
      "source": [
        "# 2nd method - reverse method\n",
        "\n",
        "str1 = \"PYnative\"\n",
        "\n",
        "str2 = ''.join(reversed(str1))\n",
        "print(str2)"
      ],
      "metadata": {
        "colab": {
          "base_uri": "https://localhost:8080/"
        },
        "id": "3EUVQLP3NQWw",
        "outputId": "c856f8cb-42e0-4146-8786-18e5808573ce"
      },
      "execution_count": null,
      "outputs": [
        {
          "output_type": "stream",
          "name": "stdout",
          "text": [
            "evitanYP\n"
          ]
        }
      ]
    },
    {
      "cell_type": "markdown",
      "source": [
        "# Exercise 12: Find the last position of a given substring\n",
        "Write a program to find the last position of a substring “Emma” in a given string."
      ],
      "metadata": {
        "id": "2tMUcASNiIQf"
      }
    },
    {
      "cell_type": "code",
      "source": [
        "str1 = \"Emma is a data scientist who knows Python. Emma works at google.\"\n",
        "\n",
        "str1.rfind(\"Emma\")"
      ],
      "metadata": {
        "colab": {
          "base_uri": "https://localhost:8080/"
        },
        "id": "EdVxHhqRNQVG",
        "outputId": "07e6abe4-ca31-4a55-fd07-060b4d73c00d"
      },
      "execution_count": null,
      "outputs": [
        {
          "output_type": "execute_result",
          "data": {
            "text/plain": [
              "43"
            ]
          },
          "metadata": {},
          "execution_count": 57
        }
      ]
    },
    {
      "cell_type": "markdown",
      "source": [
        "# Exercise 13: Split a string on hyphens\n"
      ],
      "metadata": {
        "id": "QhMc6n2akX3D"
      }
    },
    {
      "cell_type": "code",
      "source": [
        "str1 = 'Emma-is-a-data-scientist'\n",
        "str2 = \"\".join(str1)\n",
        "str2"
      ],
      "metadata": {
        "colab": {
          "base_uri": "https://localhost:8080/",
          "height": 35
        },
        "id": "PjqCkZ6VNQQT",
        "outputId": "11e68daf-103e-4c2c-91e2-8d379d98c9d5"
      },
      "execution_count": null,
      "outputs": [
        {
          "output_type": "execute_result",
          "data": {
            "application/vnd.google.colaboratory.intrinsic+json": {
              "type": "string"
            },
            "text/plain": [
              "'Emma-is-a-data-scientist'"
            ]
          },
          "metadata": {},
          "execution_count": 60
        }
      ]
    },
    {
      "cell_type": "code",
      "source": [
        "for char in str1:\n",
        "  char\n",
        "  print(char, end = \"\")"
      ],
      "metadata": {
        "colab": {
          "base_uri": "https://localhost:8080/"
        },
        "id": "YpGS0wyJNQNI",
        "outputId": "0d1a45bf-539e-49fa-d75d-ac275800f18b"
      },
      "execution_count": null,
      "outputs": [
        {
          "output_type": "stream",
          "name": "stdout",
          "text": [
            "E m m a - i s - a - d a t a - s c i e n t i s t "
          ]
        }
      ]
    },
    {
      "cell_type": "code",
      "source": [
        "str1.replace(\"-\",\" \")"
      ],
      "metadata": {
        "colab": {
          "base_uri": "https://localhost:8080/",
          "height": 35
        },
        "id": "GkWiENbiNQLj",
        "outputId": "5e94c2aa-e42f-4b85-ffd2-e8727ad4303e"
      },
      "execution_count": null,
      "outputs": [
        {
          "output_type": "execute_result",
          "data": {
            "application/vnd.google.colaboratory.intrinsic+json": {
              "type": "string"
            },
            "text/plain": [
              "'Emma is a data scientist'"
            ]
          },
          "metadata": {},
          "execution_count": 65
        }
      ]
    },
    {
      "cell_type": "code",
      "source": [
        "str1 = \"Emma-is-a-data-scientist\"\n",
        "print(\"Original String is:\", str1)\n",
        "\n",
        "# split string\n",
        "sub_strings = str1.split(\"-\")\n",
        "\n",
        "# print(sub_strings)\n",
        "print(\"Displaying each substring\")\n",
        "for sub in sub_strings:\n",
        "    print(sub)"
      ],
      "metadata": {
        "colab": {
          "base_uri": "https://localhost:8080/"
        },
        "id": "vLPl9TW4NQII",
        "outputId": "ee4d6bd5-9493-49a2-8388-f35f0af83f7f"
      },
      "execution_count": null,
      "outputs": [
        {
          "output_type": "stream",
          "name": "stdout",
          "text": [
            "Original String is: Emma-is-a-data-scientist\n",
            "Displaying each substring\n",
            "Emma\n",
            "is\n",
            "a\n",
            "data\n",
            "scientist\n"
          ]
        }
      ]
    },
    {
      "cell_type": "markdown",
      "source": [
        "# Exercise 14: Remove empty strings from a list of strings\n"
      ],
      "metadata": {
        "id": "FWOnseAMlgCN"
      }
    },
    {
      "cell_type": "code",
      "source": [
        "# first method\n",
        "\n",
        "str_list = [\"Emma\", \"Jon\", \"\", \"Kelly\", None, \"Eric\", \"\"]\n",
        "str1 = list(filter(None, str_list))\n",
        "print(str1)"
      ],
      "metadata": {
        "colab": {
          "base_uri": "https://localhost:8080/"
        },
        "id": "RjqlzpOyNQGn",
        "outputId": "371cf6de-adc3-41ef-ce72-4bb54e9313f7"
      },
      "execution_count": null,
      "outputs": [
        {
          "output_type": "stream",
          "name": "stdout",
          "text": [
            "['Emma', 'Jon', 'Kelly', 'Eric']\n"
          ]
        }
      ]
    },
    {
      "cell_type": "code",
      "source": [
        "# second method\n",
        "\n",
        "str_list = [\"Emma\", \"Jon\", \"\", \"Kelly\", None, \"Eric\", \"\"]\n",
        "result_list = []\n",
        "\n",
        "for i in str_list:\n",
        "  if i:                                 # checking for emplty list\n",
        "    result_list.append(i)\n",
        "print(result_list)"
      ],
      "metadata": {
        "colab": {
          "base_uri": "https://localhost:8080/"
        },
        "id": "GfSSYFyvNQDe",
        "outputId": "a36bf46d-f128-44ca-c4d2-067e602e17b0"
      },
      "execution_count": null,
      "outputs": [
        {
          "output_type": "stream",
          "name": "stdout",
          "text": [
            "['Emma', 'Jon', 'Kelly', 'Eric']\n"
          ]
        }
      ]
    },
    {
      "cell_type": "markdown",
      "source": [
        "# Exercise 15: Remove special symbols / punctuation from a string\n"
      ],
      "metadata": {
        "id": "0NbkIHG6qhRE"
      }
    },
    {
      "cell_type": "code",
      "source": [
        "import string\n",
        "\n",
        "str1 = \"/*Jon is @developer & musician\"\n",
        "print(\"Original string is \", str1)\n",
        "\n",
        "new_str = str1.translate(str.maketrans('', '', string.punctuation))\n",
        "\n",
        "print(\"New string is \", new_str)"
      ],
      "metadata": {
        "colab": {
          "base_uri": "https://localhost:8080/"
        },
        "id": "G6FkPEWmNP75",
        "outputId": "65a278f1-2186-4423-d5e4-fa3e3f411614"
      },
      "execution_count": null,
      "outputs": [
        {
          "output_type": "stream",
          "name": "stdout",
          "text": [
            "Original string is  /*Jon is @developer & musician\n",
            "New string is  Jon is developer  musician\n"
          ]
        }
      ]
    },
    {
      "cell_type": "code",
      "source": [
        "\n",
        "for i in str1:\n",
        "  if i.isalpha():\n",
        "    print(i,end = \" \")\n"
      ],
      "metadata": {
        "colab": {
          "base_uri": "https://localhost:8080/"
        },
        "id": "2ztHlsWlsQko",
        "outputId": "5ac94162-5ebd-4545-c9c2-93cb9f8d0100"
      },
      "execution_count": null,
      "outputs": [
        {
          "output_type": "stream",
          "name": "stdout",
          "text": [
            "J o n i s d e v e l o p e r m u s i c i a n "
          ]
        }
      ]
    },
    {
      "cell_type": "markdown",
      "source": [
        "# Exercise 16: Removal all characters from a string except integers\n"
      ],
      "metadata": {
        "id": "QiJYNHorsCav"
      }
    },
    {
      "cell_type": "code",
      "source": [
        "str1 = 'I am 25 years and 10 months old'\n",
        "for i in str1:\n",
        "  if i.isdigit():\n",
        "    print(i,end=\"\")"
      ],
      "metadata": {
        "colab": {
          "base_uri": "https://localhost:8080/"
        },
        "id": "GNuo_DMVqjn_",
        "outputId": "3941026d-e5de-453a-dfe5-b53ca742c239"
      },
      "execution_count": null,
      "outputs": [
        {
          "output_type": "stream",
          "name": "stdout",
          "text": [
            "2510"
          ]
        }
      ]
    },
    {
      "cell_type": "markdown",
      "source": [
        "# Exercise 17: Find words with both alphabets and numbers\n",
        "Write a program to find words with both alphabets and numbers from an input string.\n",
        "\n",
        "\n"
      ],
      "metadata": {
        "id": "4DhE84EIus54"
      }
    },
    {
      "cell_type": "code",
      "source": [
        "str1 = \"Emma25 is Data scientist50 and AI Expert\"\n"
      ],
      "metadata": {
        "id": "JWOyOlSqqjmb"
      },
      "execution_count": null,
      "outputs": []
    },
    {
      "cell_type": "code",
      "source": [
        "res = []\n",
        "temp = str1.split()\n",
        "\n",
        "for item in temp:\n",
        "  if any(char.isalpha() for char in item) and any(char.isdigit() for char in item):\n",
        "    res.append(item)\n",
        "\n",
        "for i in res:\n",
        "  print(i)"
      ],
      "metadata": {
        "id": "YHMt6V5zqjjA",
        "colab": {
          "base_uri": "https://localhost:8080/"
        },
        "outputId": "7c8f5730-7349-4bc3-b6d9-ba7b9b7b4770"
      },
      "execution_count": null,
      "outputs": [
        {
          "output_type": "stream",
          "name": "stdout",
          "text": [
            "Emma25\n",
            "scientist50\n"
          ]
        }
      ]
    },
    {
      "cell_type": "code",
      "source": [
        "res = []\n",
        "temp = str1.split()\n",
        "\n",
        "for item in temp:\n",
        "  for char in item:\n",
        "    if char.isalpha():\n",
        "      res.append(item)\n",
        "    if char.isdigit():\n",
        "      res.append(item)\n",
        "for i in res:\n",
        "  print(i)\n"
      ],
      "metadata": {
        "id": "ODnnXRsIqjhP",
        "colab": {
          "base_uri": "https://localhost:8080/"
        },
        "outputId": "71dd0fe1-e33b-4971-c440-768c6f0def7b"
      },
      "execution_count": null,
      "outputs": [
        {
          "output_type": "stream",
          "name": "stdout",
          "text": [
            "Emma25\n",
            "Emma25\n",
            "Emma25\n",
            "Emma25\n",
            "Emma25\n",
            "Emma25\n",
            "is\n",
            "is\n",
            "Data\n",
            "Data\n",
            "Data\n",
            "Data\n",
            "scientist50\n",
            "scientist50\n",
            "scientist50\n",
            "scientist50\n",
            "scientist50\n",
            "scientist50\n",
            "scientist50\n",
            "scientist50\n",
            "scientist50\n",
            "scientist50\n",
            "scientist50\n",
            "and\n",
            "and\n",
            "and\n",
            "AI\n",
            "AI\n",
            "Expert\n",
            "Expert\n",
            "Expert\n",
            "Expert\n",
            "Expert\n",
            "Expert\n"
          ]
        }
      ]
    },
    {
      "cell_type": "markdown",
      "source": [
        "# Exercise 18: Replace each special symbol with # in the following string"
      ],
      "metadata": {
        "id": "ymdSDOBfgnjs"
      }
    },
    {
      "cell_type": "code",
      "source": [
        "str1 = '/*Jon is @developer & musician!!'\n",
        "\n",
        "import string\n",
        "\n",
        "replace_char='#'\n",
        "\n",
        "for char in string.punctuation:\n",
        "  str1 = str1.replace(char,replace_char)\n",
        "print(str1)"
      ],
      "metadata": {
        "id": "Juj6yPplqjd-",
        "colab": {
          "base_uri": "https://localhost:8080/"
        },
        "outputId": "4e1e241c-0c25-4f6e-bbe9-2dbc3a71725d"
      },
      "execution_count": null,
      "outputs": [
        {
          "output_type": "stream",
          "name": "stdout",
          "text": [
            "##Jon is #developer # musician##\n"
          ]
        }
      ]
    },
    {
      "cell_type": "markdown",
      "source": [
        "# Home » Python Exercises » Python Data Structure Exercise for Beginners"
      ],
      "metadata": {
        "id": "SldBhZ6JhnZ8"
      }
    },
    {
      "cell_type": "markdown",
      "source": [
        "# Exercise 1: Create a list by picking an odd-index items from the first list and even index items from the second"
      ],
      "metadata": {
        "id": "gkiJkCe0hosO"
      }
    },
    {
      "cell_type": "markdown",
      "source": [
        "Given two lists, l1 and l2, write a program to create a third list l3 by picking an odd-index element from the list l1 and even index elements from the list l2."
      ],
      "metadata": {
        "id": "VRmHoLlPhxqw"
      }
    },
    {
      "cell_type": "code",
      "source": [
        "l1 = [3, 6, 9, 12, 15, 18, 21]\n",
        "l2 = [4, 8, 12, 16, 20, 24, 28]\n",
        "\n",
        "l3 = []\n",
        "\n",
        "#odd index from first\n",
        "for i in l1[1::2]:\n",
        "  l3.append(i)\n",
        "for i in l2[0::2]:\n",
        "  l3.append(i)\n",
        "print(l3)\n",
        "\n"
      ],
      "metadata": {
        "id": "7bRimqVvqjcj",
        "colab": {
          "base_uri": "https://localhost:8080/"
        },
        "outputId": "3112fdd1-d9d0-425f-cd93-133594e40d06"
      },
      "execution_count": null,
      "outputs": [
        {
          "output_type": "stream",
          "name": "stdout",
          "text": [
            "[6, 12, 18, 4, 12, 20, 28]\n"
          ]
        }
      ]
    },
    {
      "cell_type": "markdown",
      "source": [
        "# Exercise 2: Remove and add item in a list\n",
        "Write a program to remove the item present at index 4 and add it to the 2nd position and at the end of the list."
      ],
      "metadata": {
        "id": "zgOHeMlsjBlq"
      }
    },
    {
      "cell_type": "code",
      "source": [
        "list1 = [54, 44, 27, 79, 91, 41]\n",
        "\n",
        "remove_item = list1.pop(4)\n",
        "print(remove_item)\n",
        "print(f\"List After removing element at index 4  [34, 54, 67, 89, 43, 94]: {list1}\")"
      ],
      "metadata": {
        "id": "aaFOmZUnqjY6",
        "colab": {
          "base_uri": "https://localhost:8080/"
        },
        "outputId": "a609ed61-2838-4200-aee0-682e42fc5354"
      },
      "execution_count": null,
      "outputs": [
        {
          "output_type": "stream",
          "name": "stdout",
          "text": [
            "91\n",
            "List After removing element at index 4  [34, 54, 67, 89, 43, 94]: [54, 44, 27, 79, 41]\n"
          ]
        }
      ]
    },
    {
      "cell_type": "code",
      "source": [
        "list1"
      ],
      "metadata": {
        "id": "4KthKw24qjXG",
        "colab": {
          "base_uri": "https://localhost:8080/"
        },
        "outputId": "7e50731c-53d6-46ea-b87d-8fc119568f1d"
      },
      "execution_count": null,
      "outputs": [
        {
          "output_type": "execute_result",
          "data": {
            "text/plain": [
              "[54, 44, 27, 79, 41]"
            ]
          },
          "metadata": {},
          "execution_count": 16
        }
      ]
    },
    {
      "cell_type": "code",
      "source": [
        "list1.insert(2,remove_item)"
      ],
      "metadata": {
        "id": "L8-wtpDVqjTd"
      },
      "execution_count": null,
      "outputs": []
    },
    {
      "cell_type": "code",
      "source": [
        "list1"
      ],
      "metadata": {
        "id": "4ACusld7qjR3",
        "colab": {
          "base_uri": "https://localhost:8080/"
        },
        "outputId": "f0ff99fe-e16b-468d-a1b4-2be037250435"
      },
      "execution_count": null,
      "outputs": [
        {
          "output_type": "execute_result",
          "data": {
            "text/plain": [
              "[54, 44, 91, 27, 79, 41]"
            ]
          },
          "metadata": {},
          "execution_count": 18
        }
      ]
    },
    {
      "cell_type": "code",
      "source": [
        " list1.append(remove_item)"
      ],
      "metadata": {
        "id": "EtAyksrKqjOi"
      },
      "execution_count": null,
      "outputs": []
    },
    {
      "cell_type": "code",
      "source": [
        "list1"
      ],
      "metadata": {
        "id": "2DfCvkMgqjM2",
        "colab": {
          "base_uri": "https://localhost:8080/"
        },
        "outputId": "fdce19fc-bb60-44ba-af47-df3edb99734c"
      },
      "execution_count": null,
      "outputs": [
        {
          "output_type": "execute_result",
          "data": {
            "text/plain": [
              "[54, 44, 91, 27, 79, 41, 91]"
            ]
          },
          "metadata": {},
          "execution_count": 20
        }
      ]
    },
    {
      "cell_type": "markdown",
      "source": [
        "# Exercise 3: Slice list into 3 equal chunks and reverse each chunk\n"
      ],
      "metadata": {
        "id": "bFALRUT7YEG4"
      }
    },
    {
      "cell_type": "code",
      "source": [
        "sample_list = [11, 45, 8, 23, 14, 12, 78, 45, 89]\n"
      ],
      "metadata": {
        "id": "wKCEeqjuqjJR"
      },
      "execution_count": null,
      "outputs": []
    },
    {
      "cell_type": "code",
      "source": [
        "list1 = len(sample_list)/3\n",
        "list1"
      ],
      "metadata": {
        "id": "1XLlCAlVqjHq",
        "colab": {
          "base_uri": "https://localhost:8080/"
        },
        "outputId": "d0750aee-de8d-4d95-fa8e-46e50e3d8f2d"
      },
      "execution_count": null,
      "outputs": [
        {
          "output_type": "execute_result",
          "data": {
            "text/plain": [
              "3.0"
            ]
          },
          "metadata": {},
          "execution_count": 23
        }
      ]
    },
    {
      "cell_type": "markdown",
      "source": [
        "# Exercise 4: Count the occurrence of each element from a list\n",
        "Write a program to iterate a given list and count the occurrence of each element and create a dictionary to show the count of each element.\n"
      ],
      "metadata": {
        "id": "adTkuMLpY9Jb"
      }
    },
    {
      "cell_type": "code",
      "source": [
        "sample_list = [11, 45, 8, 11, 23, 45, 23, 45, 89]\n",
        "final_dict = {}\n",
        "for item in sample_list:\n",
        "  if item in final_dict:\n",
        "    final_dict[item] = final_dict[item]+1\n",
        "  else:\n",
        "    final_dict[item] = 1\n",
        "print(final_dict)"
      ],
      "metadata": {
        "id": "UEvO_IxSqjEZ",
        "colab": {
          "base_uri": "https://localhost:8080/"
        },
        "outputId": "77abd644-9e47-42ee-8f6a-c8aa5400347f"
      },
      "execution_count": null,
      "outputs": [
        {
          "output_type": "stream",
          "name": "stdout",
          "text": [
            "{11: 2, 45: 3, 8: 1, 23: 2, 89: 1}\n"
          ]
        }
      ]
    },
    {
      "cell_type": "markdown",
      "source": [
        "# Exercise 5: Create a Python set such that it shows the element from both lists in a pair"
      ],
      "metadata": {
        "id": "-YxQFEjJaloR"
      }
    },
    {
      "cell_type": "code",
      "source": [
        "# i made this code but it didnt work\n",
        "\n",
        "first_list = [2, 3, 4, 5, 6, 7, 8]\n",
        "second_list = [4, 9, 16, 25, 36, 49, 64]\n",
        "\n",
        "output_set = set()\n",
        " \n",
        "for item in first_list:\n",
        "  for inner_item in second_list:\n",
        "    if (item)^2 == inner_item:\n",
        "      final_tuple = (item,inner_item)\n",
        "set(final_tuple)\n",
        "\n",
        "# final_tuple\n"
      ],
      "metadata": {
        "id": "TnQNsKUPqjCm",
        "colab": {
          "base_uri": "https://localhost:8080/"
        },
        "outputId": "5318355a-102b-4480-a5e9-a183c2723949"
      },
      "execution_count": null,
      "outputs": [
        {
          "output_type": "execute_result",
          "data": {
            "text/plain": [
              "{4, 6}"
            ]
          },
          "metadata": {},
          "execution_count": 39
        }
      ]
    },
    {
      "cell_type": "code",
      "source": [
        "#pynative solution\n",
        "\n",
        "first_list = [2, 3, 4, 5, 6, 7, 8]\n",
        "second_list = [4, 9, 16, 25, 36, 49, 64]\n",
        "tuples = zip(first_list,second_list)\n",
        "final_result = set(tuples)\n",
        "final_result"
      ],
      "metadata": {
        "id": "p4HJCmtPqi_b",
        "colab": {
          "base_uri": "https://localhost:8080/"
        },
        "outputId": "34e887f5-5d84-4180-bfce-c3f78d01e75b"
      },
      "execution_count": null,
      "outputs": [
        {
          "output_type": "execute_result",
          "data": {
            "text/plain": [
              "{(2, 4), (3, 9), (4, 16), (5, 25), (6, 36), (7, 49), (8, 64)}"
            ]
          },
          "metadata": {},
          "execution_count": 42
        }
      ]
    },
    {
      "cell_type": "markdown",
      "source": [
        "# Exercise 6: Find the intersection (common) of two sets and remove those elements from the first set"
      ],
      "metadata": {
        "id": "InfR97eSfoUf"
      }
    },
    {
      "cell_type": "code",
      "source": [
        "first_set = {23, 42, 65, 57, 78, 83, 29}\n",
        "second_set = {57, 83, 29, 67, 73, 43, 48}\n",
        "\n",
        "intersection = first_set.intersection(second_set)\n",
        "print(intersection)\n",
        "\n",
        "for i in intersection:\n",
        "  if  i in second_set:\n",
        "    first_set.remove(i)\n",
        "\n",
        "first_set\n"
      ],
      "metadata": {
        "id": "LO0d8j3tqi9o",
        "colab": {
          "base_uri": "https://localhost:8080/"
        },
        "outputId": "e10302aa-6000-4e69-d5e3-d5ed395fc359"
      },
      "execution_count": null,
      "outputs": [
        {
          "output_type": "stream",
          "name": "stdout",
          "text": [
            "{57, 83, 29}\n"
          ]
        },
        {
          "output_type": "execute_result",
          "data": {
            "text/plain": [
              "{23, 42, 65, 78}"
            ]
          },
          "metadata": {},
          "execution_count": 50
        }
      ]
    },
    {
      "cell_type": "markdown",
      "source": [
        "# Exercise 7: Checks if one set is a subset or superset of another set. If found, delete all elements from that set"
      ],
      "metadata": {
        "id": "oM9TG3ukiWFt"
      }
    },
    {
      "cell_type": "code",
      "source": [
        "first_set = {27, 43, 34}\n",
        "second_set = {34, 93, 22, 27, 43, 53, 48}"
      ],
      "metadata": {
        "id": "l0OdKtBVqi68"
      },
      "execution_count": null,
      "outputs": []
    },
    {
      "cell_type": "code",
      "source": [
        "print(f\"second set is a subset of 1st set: {first_set.issubset(second_set)}\")\n",
        "print(f\"first set is a subset of 2nd set: {second_set.issubset(first_set)}\")\n",
        "\n",
        "print(f\"second set is a superset of 1st set: {first_set.issuperset(second_set)}\")\n",
        "print(f\"first set is a superset of 2nd set: {second_set.issuperset(first_set)}\")\n",
        "\n",
        "if first_set.issubset(second_set):\n",
        "  first_set.clear()\n",
        "if second_set.issubset(first_set):\n",
        "  second_set.clear()\n",
        "\n",
        "print(first_set)\n",
        "print(second_set)\n",
        "\n",
        "\n",
        "\n"
      ],
      "metadata": {
        "id": "ZZ4Ogk4tqi5X",
        "colab": {
          "base_uri": "https://localhost:8080/"
        },
        "outputId": "a6c19c44-625a-4999-c669-9a79be68902f"
      },
      "execution_count": null,
      "outputs": [
        {
          "output_type": "stream",
          "name": "stdout",
          "text": [
            "second set is a subset of 1st set: True\n",
            "first set is a subset of 2nd set: False\n",
            "second set is a superset of 1st set: False\n",
            "first set is a superset of 2nd set: True\n",
            "set()\n",
            "{34, 43, 48, 53, 22, 27, 93}\n"
          ]
        }
      ]
    },
    {
      "cell_type": "markdown",
      "source": [
        "# Exercise 8: Iterate a given list and check if a given element exists as a key’s value in a dictionary. If not, delete it from the list"
      ],
      "metadata": {
        "id": "xLKuWt3Fj8XL"
      }
    },
    {
      "cell_type": "code",
      "source": [
        "roll_number = [47, 64, 69, 37, 76, 83, 95, 97]\n",
        "sample_dict = {'Jhon':47, 'Emma':69, 'Kelly':76, 'Jason':97}"
      ],
      "metadata": {
        "id": "g2LTfBfoW8GK"
      },
      "execution_count": null,
      "outputs": []
    },
    {
      "cell_type": "code",
      "source": [
        "result = []\n",
        "for i in roll_number:\n",
        "  if i in sample_dict.values():\n",
        "    result.append(i)"
      ],
      "metadata": {
        "id": "ynbbq6o3j4u5"
      },
      "execution_count": null,
      "outputs": []
    },
    {
      "cell_type": "code",
      "source": [
        "result"
      ],
      "metadata": {
        "id": "sD6ZXbV6j4tI",
        "colab": {
          "base_uri": "https://localhost:8080/"
        },
        "outputId": "6e325f4a-de55-4932-81f2-4f03dc83f599"
      },
      "execution_count": null,
      "outputs": [
        {
          "output_type": "execute_result",
          "data": {
            "text/plain": [
              "[47, 69, 76, 97]"
            ]
          },
          "metadata": {},
          "execution_count": 80
        }
      ]
    },
    {
      "cell_type": "markdown",
      "source": [
        "# Exercise 9: Get all values from the dictionary and add them to a list but don’t add duplicates"
      ],
      "metadata": {
        "id": "KjsqS0RZl6zp"
      }
    },
    {
      "cell_type": "code",
      "source": [
        "speed = {'jan': 47, 'feb': 52, 'march': 47, 'April': 44, 'May': 52, 'June': 53, 'july': 54, 'Aug': 44, 'Sept': 54}\n"
      ],
      "metadata": {
        "id": "BcabOGozj4qH"
      },
      "execution_count": null,
      "outputs": []
    },
    {
      "cell_type": "code",
      "source": [
        "list1 = []\n",
        "for i in speed.values():\n",
        "  if i not in list1:\n",
        "    list1.append(i)"
      ],
      "metadata": {
        "id": "OO6RCus_j4ob"
      },
      "execution_count": null,
      "outputs": []
    },
    {
      "cell_type": "code",
      "source": [
        "list1"
      ],
      "metadata": {
        "id": "8T_xW4LBj4lK",
        "colab": {
          "base_uri": "https://localhost:8080/"
        },
        "outputId": "448e7db3-8b22-4be3-8c8f-a1c5ea9614ad"
      },
      "execution_count": null,
      "outputs": [
        {
          "output_type": "execute_result",
          "data": {
            "text/plain": [
              "[47, 52, 44, 53, 54]"
            ]
          },
          "metadata": {},
          "execution_count": 84
        }
      ]
    },
    {
      "cell_type": "markdown",
      "source": [
        "# Exercise 10: Remove duplicates from a list and create a tuple and find the minimum and maximum number"
      ],
      "metadata": {
        "id": "hq5oDdcSmfBw"
      }
    },
    {
      "cell_type": "code",
      "source": [
        "sample_list = [87, 45, 41, 65, 94, 41, 99, 94]\n",
        "\n",
        "# list\n",
        "\n",
        "list1 = []\n",
        "\n",
        "for item in sample_list:\n",
        "  if item not in list1:\n",
        "    list1.append(item)\n",
        "print(f\"unique list items: {list1}\")\n",
        "\n",
        "new_tuple = (list1)\n",
        "print(f\"new tuple: {new_tuple}\")\n",
        "\n",
        "minimum_value = min(new_tuple)\n",
        "print(f\"minimum value in tuple: {minimum_value}\")\n",
        "\n",
        "maximum_value = max(new_tuple)\n",
        "print(f\"maximum value in tuple: {maximum_value}\")\n"
      ],
      "metadata": {
        "id": "J1wXXP1rj4jr",
        "colab": {
          "base_uri": "https://localhost:8080/"
        },
        "outputId": "0372b038-6c23-4dd0-f67e-72db17b6b78e"
      },
      "execution_count": null,
      "outputs": [
        {
          "output_type": "stream",
          "name": "stdout",
          "text": [
            "unique list items: [87, 45, 41, 65, 94, 99]\n",
            "new tuple: [87, 45, 41, 65, 94, 99]\n",
            "minimum value in tuple: 41\n",
            "maximum value in tuple: 99\n"
          ]
        }
      ]
    },
    {
      "cell_type": "markdown",
      "source": [
        "# Home » Python Exercises » Python List Exercise with Solutions"
      ],
      "metadata": {
        "id": "ILrURMkEpOgd"
      }
    },
    {
      "cell_type": "markdown",
      "source": [
        "# Exercise 1: Reverse a list in Python\n"
      ],
      "metadata": {
        "id": "E3Sjq_r7pa82"
      }
    },
    {
      "cell_type": "code",
      "source": [
        "list1 = [100, 200, 300, 400, 500]\n",
        "list1[:] = list1[::-1]\n",
        "print(list1)"
      ],
      "metadata": {
        "id": "Poq6Ya2Gj4gQ",
        "colab": {
          "base_uri": "https://localhost:8080/"
        },
        "outputId": "97a79f44-e452-4d98-b176-7965d2f8cbcf"
      },
      "execution_count": null,
      "outputs": [
        {
          "output_type": "stream",
          "name": "stdout",
          "text": [
            "[500, 400, 300, 200, 100]\n"
          ]
        }
      ]
    },
    {
      "cell_type": "code",
      "source": [
        "list2 = [100, 200, 300, 400, 500]\n",
        "list2.reverse()\n",
        "print(list2)"
      ],
      "metadata": {
        "id": "RsGEpW7bj4ez",
        "colab": {
          "base_uri": "https://localhost:8080/"
        },
        "outputId": "8a0d665c-77f6-41c5-e15a-aa1409aa5a19"
      },
      "execution_count": null,
      "outputs": [
        {
          "output_type": "stream",
          "name": "stdout",
          "text": [
            "[500, 400, 300, 200, 100]\n"
          ]
        }
      ]
    },
    {
      "cell_type": "markdown",
      "source": [
        "# Exercise 2: Concatenate two lists index-wise\n",
        "Write a program to add two lists index-wise. Create a new list that contains the 0th index item from both the list, then the 1st index item, and so on till the last element. any leftover items will get added at the end of the new list."
      ],
      "metadata": {
        "id": "KLa2_N_Np0JG"
      }
    },
    {
      "cell_type": "code",
      "source": [
        "list1 = [\"M\", \"na\", \"i\", \"Ke\"]\n",
        "list2 = [\"y\", \"me\", \"s\", \"lly\"]\n",
        "\n",
        "# new_list = []\n",
        "# for item in list1:\n",
        "  # for inner_item in list2:\n",
        "    # "
      ],
      "metadata": {
        "id": "-KXjtm6bj4cO"
      },
      "execution_count": null,
      "outputs": []
    },
    {
      "cell_type": "code",
      "source": [
        "list3 = []\n",
        "for i,j in zip(list1, list2):\n",
        "  list3.append(i+j)\n",
        "list3\n"
      ],
      "metadata": {
        "id": "otuSi6Kkj4aY",
        "colab": {
          "base_uri": "https://localhost:8080/"
        },
        "outputId": "f07a40da-4f7f-424c-d8f2-4f2e2e27f9e0"
      },
      "execution_count": null,
      "outputs": [
        {
          "output_type": "execute_result",
          "data": {
            "text/plain": [
              "['My', 'name', 'is', 'Kelly']"
            ]
          },
          "metadata": {},
          "execution_count": 104
        }
      ]
    },
    {
      "cell_type": "markdown",
      "source": [
        "# Exercise 3: Turn every item of a list into its square\n"
      ],
      "metadata": {
        "id": "wigtjAEZq_4e"
      }
    },
    {
      "cell_type": "code",
      "source": [
        "numbers = [1, 2, 3, 4, 5, 6, 7]\n",
        "\n",
        "new = []\n",
        "for i in numbers:\n",
        "  i = i**2\n",
        "  new.append(i)\n",
        "print(new)"
      ],
      "metadata": {
        "id": "w3EVQKqKj4W1",
        "colab": {
          "base_uri": "https://localhost:8080/"
        },
        "outputId": "524e59a8-7006-4eef-8f39-9e9830ee7247"
      },
      "execution_count": null,
      "outputs": [
        {
          "output_type": "stream",
          "name": "stdout",
          "text": [
            "[1, 4, 9, 16, 25, 36, 49]\n"
          ]
        }
      ]
    },
    {
      "cell_type": "code",
      "source": [
        "numbers = [1, 2, 3, 4, 5, 6, 7]\n",
        "res = [x*x for x in numbers]\n",
        "print(res)"
      ],
      "metadata": {
        "id": "X6P4N73Oj4VN",
        "colab": {
          "base_uri": "https://localhost:8080/"
        },
        "outputId": "5a90adfd-02a2-4744-f8d0-6b3f6d38093d"
      },
      "execution_count": null,
      "outputs": [
        {
          "output_type": "stream",
          "name": "stdout",
          "text": [
            "[1, 4, 9, 16, 25, 36, 49]\n"
          ]
        }
      ]
    },
    {
      "cell_type": "markdown",
      "source": [
        "# Exercise 4: Concatenate two lists in the following order\n"
      ],
      "metadata": {
        "id": "ATAyIJVFruJg"
      }
    },
    {
      "cell_type": "code",
      "source": [
        "list1 = [\"Hello \", \"take \"]\n",
        "list2 = [\"Dear\", \"Sir\"]\n",
        "\n",
        "new = []\n",
        "for i,j in zip(list1,list2):\n",
        "  new.append(i+j)\n",
        "print(new)"
      ],
      "metadata": {
        "colab": {
          "base_uri": "https://localhost:8080/"
        },
        "id": "CDZesAGFrB59",
        "outputId": "798a73a9-d262-4c9f-a90a-2f976a29294d"
      },
      "execution_count": null,
      "outputs": [
        {
          "output_type": "stream",
          "name": "stdout",
          "text": [
            "['Hello Dear', 'take Sir']\n"
          ]
        }
      ]
    },
    {
      "cell_type": "code",
      "source": [
        "list1 = [\"Hello \", \"take \"]\n",
        "list2 = [\"Dear\", \"Sir\"]\n",
        "\n",
        "new = []\n",
        "for i in list1:\n",
        "  for j in list2:\n",
        "    new.append(i+j)\n",
        "print(new)"
      ],
      "metadata": {
        "colab": {
          "base_uri": "https://localhost:8080/"
        },
        "id": "qFTvFfd8rB1z",
        "outputId": "831c5f8f-1598-453e-b23f-cbbd152ec61e"
      },
      "execution_count": null,
      "outputs": [
        {
          "output_type": "stream",
          "name": "stdout",
          "text": [
            "['Hello Dear', 'Hello Sir', 'take Dear', 'take Sir']\n"
          ]
        }
      ]
    },
    {
      "cell_type": "markdown",
      "source": [
        "# Exercise 5: Iterate both lists simultaneously\n",
        "Given a two Python list. Write a program to iterate both lists simultaneously and display items from list1 in original order and items from list2 in reverse order."
      ],
      "metadata": {
        "id": "GHSa3ElzsaMc"
      }
    },
    {
      "cell_type": "markdown",
      "source": [
        ""
      ],
      "metadata": {
        "id": "nBOEEaaRsaHF"
      }
    },
    {
      "cell_type": "code",
      "source": [
        "list1 = [10, 20, 30, 40]\n",
        "list2 = [100, 200, 300, 400]\n",
        "\n",
        "for i, j in zip(list1,list2[::-1]):\n",
        "  print(i,j)"
      ],
      "metadata": {
        "colab": {
          "base_uri": "https://localhost:8080/"
        },
        "id": "yF57yGMNrB0D",
        "outputId": "9d7351bb-90b9-469e-ac3e-f18399c39b44"
      },
      "execution_count": null,
      "outputs": [
        {
          "output_type": "stream",
          "name": "stdout",
          "text": [
            "10 400\n",
            "20 300\n",
            "30 200\n",
            "40 100\n"
          ]
        }
      ]
    },
    {
      "cell_type": "markdown",
      "source": [
        "# Exercise 6: Remove empty strings from the list of strings\n"
      ],
      "metadata": {
        "id": "zxr_be7UtTr4"
      }
    },
    {
      "cell_type": "code",
      "source": [
        "list1 = [\"Mike\", \"\", \"Emma\", \"Kelly\", \"\", \"Brad\"]\n",
        "new_list = []\n",
        "for i in list1:\n",
        "  if i != \"\":\n",
        "    new_list.append(i)\n",
        "\n",
        "\n",
        "\n",
        "print(new_list)"
      ],
      "metadata": {
        "colab": {
          "base_uri": "https://localhost:8080/"
        },
        "id": "9I-OYSZCrBwn",
        "outputId": "095c9c99-3517-4665-f35c-31752539ceeb"
      },
      "execution_count": null,
      "outputs": [
        {
          "output_type": "stream",
          "name": "stdout",
          "text": [
            "['Mike', 'Emma', 'Kelly', 'Brad']\n"
          ]
        }
      ]
    },
    {
      "cell_type": "markdown",
      "source": [
        "# Exercise 7: Add new item to list after a specified item\n",
        "Write a program to add item 7000 after 6000 in the following Python List\n",
        "\n",
        "\n"
      ],
      "metadata": {
        "id": "fvEGcIU8ujaS"
      }
    },
    {
      "cell_type": "code",
      "source": [
        "list1 = [10, 20, [300, 400, [5000, 6000], 500], 30, 40]\n",
        "\n",
        "list1[2][2].append(7000)\n",
        "print(list1)"
      ],
      "metadata": {
        "colab": {
          "base_uri": "https://localhost:8080/"
        },
        "id": "udSOOTaBrBry",
        "outputId": "5d37e043-ca4c-4f49-90d3-34132ba75a08"
      },
      "execution_count": null,
      "outputs": [
        {
          "output_type": "stream",
          "name": "stdout",
          "text": [
            "[10, 20, [300, 400, [5000, 6000, 7000], 500], 30, 40]\n"
          ]
        }
      ]
    },
    {
      "cell_type": "markdown",
      "source": [
        "# xercise 8: Extend nested list by adding the sublist\n",
        "You have given a nested list. Write a program to extend it by adding the sublist [\"h\", \"i\", \"j\"] in such a way that it will look like the following list."
      ],
      "metadata": {
        "id": "cA3SbKtJvde8"
      }
    },
    {
      "cell_type": "code",
      "source": [
        "list1 = [\"a\", \"b\", [\"c\", [\"d\", \"e\", [\"f\", \"g\"], \"k\"], \"l\"], \"m\", \"n\"]\n",
        "\n",
        "# sub list to add\n",
        "sub_list = [\"h\", \"i\", \"j\"]"
      ],
      "metadata": {
        "id": "rKMl4o7urBqA"
      },
      "execution_count": null,
      "outputs": []
    },
    {
      "cell_type": "code",
      "source": [
        "list1[2][1][2].extend(sub_list)"
      ],
      "metadata": {
        "id": "PJz3T3-TrBma"
      },
      "execution_count": null,
      "outputs": []
    },
    {
      "cell_type": "code",
      "source": [
        "print(list1)"
      ],
      "metadata": {
        "colab": {
          "base_uri": "https://localhost:8080/"
        },
        "id": "ppT6osCfrBk2",
        "outputId": "8421ba95-6c74-4be5-cc3a-469135531671"
      },
      "execution_count": null,
      "outputs": [
        {
          "output_type": "stream",
          "name": "stdout",
          "text": [
            "['a', 'b', ['c', ['d', 'e', ['f', 'g', 'h', 'i', 'j'], 'k'], 'l'], 'm', 'n']\n"
          ]
        }
      ]
    },
    {
      "cell_type": "markdown",
      "source": [
        "# Exercise 9: Replace list’s item with new value if found\n",
        "\n",
        "You have given a Python list. Write a program to find value 20 in the list, and if it is present, replace it with 200. Only update the first occurrence of an item.\n",
        "\n"
      ],
      "metadata": {
        "id": "Rhv7B738wPjc"
      }
    },
    {
      "cell_type": "code",
      "source": [
        "list1 = [5, 10, 15, 20, 25, 50, 20]\n",
        "\n",
        "index = list1.index(20)\n",
        "\n",
        "list1[index] = 200\n",
        "list1"
      ],
      "metadata": {
        "colab": {
          "base_uri": "https://localhost:8080/"
        },
        "id": "vauBIkr-rBhh",
        "outputId": "e1ebbd82-6dd9-49e5-f6df-7dd096ddc030"
      },
      "execution_count": null,
      "outputs": [
        {
          "output_type": "execute_result",
          "data": {
            "text/plain": [
              "[5, 10, 15, 200, 25, 50, 20]"
            ]
          },
          "metadata": {},
          "execution_count": 137
        }
      ]
    },
    {
      "cell_type": "markdown",
      "source": [
        "# Exercise 10: Remove all occurrences of a specific item from a list.\n",
        "Given a Python list, write a program to remove all occurrences of item 20.\n",
        "\n",
        "\n"
      ],
      "metadata": {
        "id": "cfmptnCTxKXE"
      }
    },
    {
      "cell_type": "code",
      "source": [
        "list1 = [5, 20, 15, 20, 25, 50, 20]\n",
        "\n",
        "for i in list1:\n",
        "  if i==20:\n",
        "    list1.remove(i)\n",
        "print(list1)"
      ],
      "metadata": {
        "colab": {
          "base_uri": "https://localhost:8080/"
        },
        "id": "DGvvztxerBf4",
        "outputId": "b1de838c-ce32-43f5-8a21-a8350659fdc0"
      },
      "execution_count": null,
      "outputs": [
        {
          "output_type": "stream",
          "name": "stdout",
          "text": [
            "[5, 15, 25, 50]\n"
          ]
        }
      ]
    },
    {
      "cell_type": "markdown",
      "source": [
        "# Home » Python Exercises » Python Dictionary Exercise with Solutions"
      ],
      "metadata": {
        "id": "s1x6kt7IyhKZ"
      }
    },
    {
      "cell_type": "markdown",
      "source": [
        "# Exercise 1: Convert two lists into a dictionary\n",
        "Below are the two lists. Write a Python program to convert them into a dictionary in a way that item from list1 is the key and item from list2 is the value"
      ],
      "metadata": {
        "id": "nxmwrk1eyfBB"
      }
    },
    {
      "cell_type": "code",
      "source": [
        "keys = ['Ten', 'Twenty', 'Thirty']\n",
        "values = [10, 20, 30]\n",
        "\n",
        "dictionary = {}\n",
        "\n",
        "for item in range(len(keys)):\n",
        "  dictionary.update({keys[item]: values[item]})\n",
        "\n",
        "# for inner_item in values:\n",
        "    # dictionary.values()= inner_\n",
        "print(dictionary)"
      ],
      "metadata": {
        "colab": {
          "base_uri": "https://localhost:8080/"
        },
        "id": "zh9amtcJrBcq",
        "outputId": "ad8e6a55-3828-4d76-a2f0-258efba7444d"
      },
      "execution_count": null,
      "outputs": [
        {
          "output_type": "stream",
          "name": "stdout",
          "text": [
            "{'Ten': 10, 'Twenty': 20, 'Thirty': 30}\n"
          ]
        }
      ]
    },
    {
      "cell_type": "code",
      "source": [
        "keys = ['Ten', 'Twenty', 'Thirty']\n",
        "values = [10, 20, 30]\n",
        "\n",
        "res = dict(zip(keys,values))\n",
        "print(res)"
      ],
      "metadata": {
        "colab": {
          "base_uri": "https://localhost:8080/"
        },
        "id": "2yYpB-CYrBa5",
        "outputId": "ecda7f8e-3daf-4d34-d433-89f08e10867a"
      },
      "execution_count": null,
      "outputs": [
        {
          "output_type": "stream",
          "name": "stdout",
          "text": [
            "{'Ten': 10, 'Twenty': 20, 'Thirty': 30}\n"
          ]
        }
      ]
    },
    {
      "cell_type": "markdown",
      "source": [
        "# Exercise 2: Merge two Python dictionaries into one\n"
      ],
      "metadata": {
        "id": "GcUDcyRe1D5N"
      }
    },
    {
      "cell_type": "code",
      "source": [
        "dict1 = {'Ten': 10, 'Twenty': 20, 'Thirty': 30}\n",
        "dict2 = {'Thirty': 30, 'Fourty': 40, 'Fifty': 50}\n",
        "\n",
        "dict3 = dict1.copy()\n",
        "dict3.update(dict2)\n",
        "print(dict3)"
      ],
      "metadata": {
        "colab": {
          "base_uri": "https://localhost:8080/"
        },
        "id": "-5drM4BjymUl",
        "outputId": "c6bd0bcb-d509-45fa-e817-80258885d609"
      },
      "execution_count": null,
      "outputs": [
        {
          "output_type": "stream",
          "name": "stdout",
          "text": [
            "{'Ten': 10, 'Twenty': 20, 'Thirty': 30, 'Fourty': 40, 'Fifty': 50}\n"
          ]
        }
      ]
    },
    {
      "cell_type": "markdown",
      "source": [
        "# Exercise 3: Print the value of key ‘history’ from the below dict\n"
      ],
      "metadata": {
        "id": "cXXfAkWq1V_X"
      }
    },
    {
      "cell_type": "code",
      "source": [
        "sampleDict = {\n",
        "    \"class\": {\n",
        "        \"student\": {\n",
        "            \"name\": \"Mike\",\n",
        "            \"marks\": {\n",
        "                \"physics\": 70,\n",
        "                \"history\": 80\n",
        "            }\n",
        "        }\n",
        "    }\n",
        "}"
      ],
      "metadata": {
        "id": "p-Hcb7ytymQL"
      },
      "execution_count": null,
      "outputs": []
    },
    {
      "cell_type": "code",
      "source": [
        "print(sampleDict['class'])"
      ],
      "metadata": {
        "colab": {
          "base_uri": "https://localhost:8080/"
        },
        "id": "nSRtEosHymOg",
        "outputId": "f86f9a6b-92e5-407a-e920-14e6034019e7"
      },
      "execution_count": null,
      "outputs": [
        {
          "output_type": "stream",
          "name": "stdout",
          "text": [
            "{'student': {'name': 'Mike', 'marks': {'physics': 70, 'history': 80}}}\n"
          ]
        }
      ]
    },
    {
      "cell_type": "code",
      "source": [
        "print(sampleDict['class']['student'])"
      ],
      "metadata": {
        "colab": {
          "base_uri": "https://localhost:8080/"
        },
        "id": "Cm6cFiotymLb",
        "outputId": "6abdac3f-db73-4d05-f9ac-318aa70b1d78"
      },
      "execution_count": null,
      "outputs": [
        {
          "output_type": "stream",
          "name": "stdout",
          "text": [
            "{'name': 'Mike', 'marks': {'physics': 70, 'history': 80}}\n"
          ]
        }
      ]
    },
    {
      "cell_type": "code",
      "source": [
        "print(sampleDict['class']['student']['name'])"
      ],
      "metadata": {
        "colab": {
          "base_uri": "https://localhost:8080/"
        },
        "id": "WuztkD8TymJ2",
        "outputId": "468d3c7d-f824-4770-c0e7-60184599223a"
      },
      "execution_count": null,
      "outputs": [
        {
          "output_type": "stream",
          "name": "stdout",
          "text": [
            "Mike\n"
          ]
        }
      ]
    },
    {
      "cell_type": "code",
      "source": [
        "print(sampleDict['class']['student']['marks'])"
      ],
      "metadata": {
        "colab": {
          "base_uri": "https://localhost:8080/"
        },
        "id": "OqcPopE7ymF_",
        "outputId": "ae37ef2b-df33-4427-f2a3-4807c3cc8787"
      },
      "execution_count": null,
      "outputs": [
        {
          "output_type": "stream",
          "name": "stdout",
          "text": [
            "{'physics': 70, 'history': 80}\n"
          ]
        }
      ]
    },
    {
      "cell_type": "code",
      "source": [
        "print(sampleDict['class']['student']['marks']['history'])"
      ],
      "metadata": {
        "colab": {
          "base_uri": "https://localhost:8080/"
        },
        "id": "uBrNQzI2ymEc",
        "outputId": "76a40860-9257-479f-e5d6-befbfa35b6fb"
      },
      "execution_count": null,
      "outputs": [
        {
          "output_type": "stream",
          "name": "stdout",
          "text": [
            "80\n"
          ]
        }
      ]
    },
    {
      "cell_type": "markdown",
      "source": [
        "# Exercise 6: Delete a list of keys from a dictionary\n"
      ],
      "metadata": {
        "id": "WSFnFCDj4Lmq"
      }
    },
    {
      "cell_type": "code",
      "source": [
        "sample_dict = {\n",
        "    \"name\": \"Kelly\",\n",
        "    \"age\": 25,\n",
        "    \"salary\": 8000,\n",
        "    \"city\": \"New york\"\n",
        "}\n",
        "\n",
        "# Keys to remove\n",
        "keys = [\"name\", \"salary\"]"
      ],
      "metadata": {
        "id": "5i-Gs_Suyl8-"
      },
      "execution_count": null,
      "outputs": []
    },
    {
      "cell_type": "code",
      "source": [
        "for k in keys:\n",
        "  sample_dict.pop(k)\n",
        "print(sample_dict)"
      ],
      "metadata": {
        "colab": {
          "base_uri": "https://localhost:8080/"
        },
        "id": "_bNgfQvKyl66",
        "outputId": "f9a75c59-a261-4148-8bef-94d7815b6706"
      },
      "execution_count": null,
      "outputs": [
        {
          "output_type": "stream",
          "name": "stdout",
          "text": [
            "{'age': 25, 'city': 'New york'}\n"
          ]
        }
      ]
    },
    {
      "cell_type": "markdown",
      "source": [
        "# Exercise 7: Check if a value exists in a dictionary\n",
        "We know how to check if the key exists in a dictionary. Sometimes it is required to check if the given value is present.\n",
        "\n",
        "Write a Python program to check if value 200 exists in the following dictionary."
      ],
      "metadata": {
        "id": "wO1VTr8J48nl"
      }
    },
    {
      "cell_type": "code",
      "source": [
        "sample_dict = {'a': 100, 'b': 200, 'c': 300}\n",
        "\n",
        "if 200 in sample_dict.values():\n",
        "  print(\"yes present\")"
      ],
      "metadata": {
        "colab": {
          "base_uri": "https://localhost:8080/"
        },
        "id": "mdnoajVfyl3_",
        "outputId": "572ee08a-65fd-41e7-8881-35fd030a8e15"
      },
      "execution_count": null,
      "outputs": [
        {
          "output_type": "stream",
          "name": "stdout",
          "text": [
            "yes present\n"
          ]
        }
      ]
    },
    {
      "cell_type": "markdown",
      "source": [
        "# xercise 8: Rename key of a dictionary\n",
        "Write a program to rename a key city to a location in the following dictionary."
      ],
      "metadata": {
        "id": "XmSng3gx5SUm"
      }
    },
    {
      "cell_type": "code",
      "source": [
        "sample_dict = {\n",
        "  \"name\": \"Kelly\",\n",
        "  \"age\":25,\n",
        "  \"salary\": 8000,\n",
        "  \"city\": \"New york\"\n",
        "}"
      ],
      "metadata": {
        "id": "RQcX8_zzyl2B"
      },
      "execution_count": null,
      "outputs": []
    },
    {
      "cell_type": "code",
      "source": [
        "sample_dict['location'] = sample_dict.pop('city')\n",
        "print(sample_dict)"
      ],
      "metadata": {
        "colab": {
          "base_uri": "https://localhost:8080/"
        },
        "id": "k-1Ph4PFylyi",
        "outputId": "d4eae749-3b42-4dd9-ab56-78a14fed776d"
      },
      "execution_count": null,
      "outputs": [
        {
          "output_type": "stream",
          "name": "stdout",
          "text": [
            "{'name': 'Kelly', 'age': 25, 'salary': 8000, 'location': 'New york'}\n"
          ]
        }
      ]
    },
    {
      "cell_type": "markdown",
      "source": [
        "# Exercise 10: Change value of a key in a nested dictionary\n",
        "Write a Python program to change Brad’s salary to 8500 in the following dictionary."
      ],
      "metadata": {
        "id": "CY923y0a6iOB"
      }
    },
    {
      "cell_type": "code",
      "source": [
        "sample_dict = {\n",
        "    'emp1': {'name': 'Jhon', 'salary': 7500},\n",
        "    'emp2': {'name': 'Emma', 'salary': 8000},\n",
        "    'emp3': {'name': 'Brad', 'salary': 500}\n",
        "}"
      ],
      "metadata": {
        "id": "sF3O5XafylxA"
      },
      "execution_count": null,
      "outputs": []
    },
    {
      "cell_type": "code",
      "source": [
        "sample_dict['emp3']['salary'] = 8500"
      ],
      "metadata": {
        "id": "Nfa3aSNm6h04"
      },
      "execution_count": null,
      "outputs": []
    },
    {
      "cell_type": "code",
      "source": [
        "sample_dict"
      ],
      "metadata": {
        "colab": {
          "base_uri": "https://localhost:8080/"
        },
        "id": "7Q9Ue1146hzT",
        "outputId": "22b468fe-23e1-4134-ff0d-7790110d5a0a"
      },
      "execution_count": null,
      "outputs": [
        {
          "output_type": "execute_result",
          "data": {
            "text/plain": [
              "{'emp1': {'name': 'Jhon', 'salary': 7500},\n",
              " 'emp2': {'name': 'Emma', 'salary': 8000},\n",
              " 'emp3': {'name': 'Brad', 'salary': 8500}}"
            ]
          },
          "metadata": {},
          "execution_count": 185
        }
      ]
    },
    {
      "cell_type": "markdown",
      "source": [
        "# Home » Python Exercises » Python Tuple Exercise with Solutions"
      ],
      "metadata": {
        "id": "4t2GrjNJ9XyE"
      }
    },
    {
      "cell_type": "markdown",
      "source": [
        "# xercise 6: Copy specific elements from one tuple to a new tuple\n",
        "Write a program to copy elements 44 and 55 from the following tuple into a new tuple."
      ],
      "metadata": {
        "id": "Yw427B5h9cT_"
      }
    },
    {
      "cell_type": "code",
      "source": [
        "tuple1 = (11, 22, 33, 44, 55, 66)\n",
        "\n",
        "tuple2 = tuple1[3:5]\n",
        "tuple2\n"
      ],
      "metadata": {
        "colab": {
          "base_uri": "https://localhost:8080/"
        },
        "id": "X78jdCEX6hv1",
        "outputId": "1a06dd73-edd5-413c-9f8c-fa507757244e"
      },
      "execution_count": null,
      "outputs": [
        {
          "output_type": "execute_result",
          "data": {
            "text/plain": [
              "(44, 55)"
            ]
          },
          "metadata": {},
          "execution_count": 187
        }
      ]
    },
    {
      "cell_type": "code",
      "source": [
        "tuple1 = (11, [22, 33], 44, 55)\n",
        "tuple1[1][0] = 222\n",
        "tuple1"
      ],
      "metadata": {
        "colab": {
          "base_uri": "https://localhost:8080/"
        },
        "id": "53S69yHZ6huS",
        "outputId": "cd86a9ba-2119-44d8-f620-58815e89d86d"
      },
      "execution_count": null,
      "outputs": [
        {
          "output_type": "execute_result",
          "data": {
            "text/plain": [
              "(11, [222, 33], 44, 55)"
            ]
          },
          "metadata": {},
          "execution_count": 191
        }
      ]
    },
    {
      "cell_type": "code",
      "source": [
        "tuple1 = (('a', 23),('b', 37),('c', 11), ('d',29))\n"
      ],
      "metadata": {
        "id": "O3YksgB9-tlD"
      },
      "execution_count": null,
      "outputs": []
    },
    {
      "cell_type": "code",
      "source": [
        "tuple1[2],"
      ],
      "metadata": {
        "id": "q9AumZ3k6hrH"
      },
      "execution_count": null,
      "outputs": []
    },
    {
      "cell_type": "markdown",
      "source": [
        "# Home » Python Exercises » Python NumPy Exercise"
      ],
      "metadata": {
        "id": "oumw4aW0D2to"
      }
    },
    {
      "cell_type": "markdown",
      "source": [
        "# Exercise 1: Create a 4X2 integer array and Prints its attributes\n",
        "Note: The element must be a type of unsigned int16. And print the following Attributes: –\n",
        "\n",
        "* The shape of an array.\n",
        "* Array dimensions.\n",
        "* The Length of each element of the array in bytes."
      ],
      "metadata": {
        "id": "9OfwebY2Eth-"
      }
    },
    {
      "cell_type": "markdown",
      "source": [
        "**numpy.empty() in Python** \n",
        "\n",
        "numpy.empty(shape, dtype = float, order = ‘C’) : Return a new array of given shape and type, with random values.\n",
        "\n",
        "\n"
      ],
      "metadata": {
        "id": "S-F8cucXHIvH"
      }
    },
    {
      "cell_type": "markdown",
      "source": [
        "![Screenshot 2022-01-25 125328.png](data:image/png;base64,iVBORw0KGgoAAAANSUhEUgAABCYAAAF5CAYAAABDSyu6AAAAAXNSR0IArs4c6QAAAARnQU1BAACxjwv8YQUAAAAJcEhZcwAAEnQAABJ0Ad5mH3gAAJPpSURBVHhe7f0PdFvVgS/+fnvb9TMP3jKPuVdZdE38IImnnUbMXGJKPMovt7EvN5EJsQ3ENW2EM42xKRqbxh5fiBsgHpfGuEzdmMauf8TGAxEeimtK43RSK52MRScrurlpFG4bpQ9wMlB5FlnR+sEvfous6C346e19/shHR0eyZMuW43w/aymSj07On3323mfvrb33+VxUABERERERERFRDvwH7Z2IiIiIiIiIaMGxYYKIiIiIiIiIcoYNE0RERERERESUM2yYICIiIiIiIqKcYcMEEREREREREeUMGyaIiIiIiIiIKGfYMEFEREREREREOcOGCSIiIiIiIiLKGTZMEBEREREREVHOsGGCiIiIiIiIiHKGDRNERERERERElDNsmCAiIiIiIiKinGHDBBERERERERHlDBsmiIiIiIiIiChn2DBBRERERERERDnDhgkiIiIiIiIiyhk2TBARERERERFRzrBhgoiIiIiIiIhyhg0TRERERERERJQzbJggIiIiIiIiopxhwwQRERERERER5QwbJoiIiIiIiIgoZ9gwQUREREREREQ5w4YJIiIiIiIiIsoZNkwQERERERERUc6wYYKIiIiIiIiIcuZzUUH7HO/iKNzrmuDV/kxwWxEcd5die10NnF/K1xYSEREREREREaVv9j0mPgjAP9IFd1ktOvxT2kJShH3oGgpqfxARERERERFRMlkYyhHAQFM//BHtz+vaFCYOt6GquBa9HzFAiIiIiIiIiGaSXsPE5m6cvHABF2KvP+DtX3ajZo32fXgYgXe1z9ezMx5s2ulBQPuTiIiIiIiIiFKbZY+JPOSvrkDdN0u0v8PAp9pH6bMw/K+0wb11A1auXKm+SqvgfsYDv1g1zpne6XX2+zAx0opNxeJz8SbU/nRCW2kKE95etLo2oVhfV3zverIX3nfjh5GED7u17bkxOqn9P/04SmvRNhIUW5Mr+uF5phYblHU3oOrJgcRj04T9HrTV6/suxqb6NnhMKwf2i++2dml/Cfuq1H02jsrQUWnhUltWrH4nz9EqTMT/GG2U+5IvcR6/96O3Vj2HDWIfPuUEAuhVvpevXjaGEBERERER0TVplg0TEUydG8XAaz7tbxvwBe0jQhh9cgtc7R54z4S0ZcIHAXiH2uDa0gTvRW2Zma8HrU8OY0JW1MOXYb+tQHyIiEp/LTa5uzDsn5iu5IcnYnNc9P7eatjEJF7fVa7+P/04PvDB82Q5ap9sRe0WF9qGfOJopRACIx3i2Drgv6Is0EQQHKzFFlcbPMf0fYcxccyDNlcxqvYHxBppuhLEwGNquPje1c5CnINPhklxFXrPJNvSJA7+XRO6fNqR3lyAVZxrlIiIiIiIiJaI9BomjjRN91RQXl/BnVua4Dmjfb+6HiV/oX6cOjaApjdlxbsILUNvx4Z/nHyhWl0hPIpf+A0NFkZnQrD3nFTW/8OJX6LekQec86Btn+wPYENF11v4g7a9P7zRArvynwLo+meriSaD8PtXYfcb6jG8PdwijkgVGBlGcH0njr4ttvXeSfS5bOoX4QG87os1faj7/r5PaZAoah7C2+/J9d/G4Y4K2RSDwD43erTJNYoeF9+JY4ppHlHPvUddN/jTNnQcM4XL6cPofEDZEroe60kyT0cQgZvrcVg51rfx1g8qIZtriIiIiIiIiJaCuU9+aXOg5dkarZEAyL+nXa10XxhBw3+OYOKMD6MH2rDrR8PaGoB30lD5N1pdj+rNaiNB3q02KB0DVtfhsLK9k+jefDMunfPDO9KBXd89KKrsmvOT0z0pDGzNjahbo3YvyP+qA6XKJ0kc83eqUSi/+rwNJc5KdbEQ+Uz7gAj8/9SvDZGoQ8ujDuR/Xnz8fD7s39gOtZkljN4jfnVoSCoRP8Ze1AZbPNqCOofW5eEWO6q/qTfY9GLsuPWWalzVsCvHmo8CW566EEVoUMJFvhpijS5ERERERERE15JZN0wUrHGgurkbI78cQsMavbKsmvqtB21yToQ7irFpay2aOj3wfaB9mcp6Owq1j0aR81707tyE4q/ciQ1bXHA/OYBRfThECkW3J+tbYEfBrdpHIe+mm7VPQGDykvbpEkK/1/cxANdXjD1GqtCrfYOjQW04SAoXQwjomzrgwleMvU+qY1vC2LtWW3LArrSgEBERERERES096TVMJDyV4wLeemMInY9XoEgbBaGbOtaGjdVt8Mg5EWyFqHi0E31vHMXbQ4ZhDsnclIf4Jg7h3ABcG93oOizneChAiWs3ugcP4+R4N5zaKpm7GXkJO1KFP9XHU4QRPq59TCUs+1bM4KMw/NrHVKb3bZSPG5IcKxEREREREdG1bu5DOeKE4XvTI+vqghPdbxxFd2s1nGsKkX+DsjBjgWP6cAo7GoaPYvDZOlSU2BEb0TBv8pC3WvuIFoyYGmamX4ZhFF9QpgFNlJcXG+oSm3vC6vU4B2QQERERERHR9SXLDRMhhI5oH3EHli/XPgqhd05onzIRxuQ7+hiI5fiz5dOtEZGJs/Bqn+dHIezrtY84gQnjUJQPhuHShmIU7zc8qNNWYD3Xwyo7HNpHnJqIG/oR+qlLG9ZRjF59MlEiIiIiIiKi60SWGyYKULBZ+4iDOHREbVSYOjeMrn3pDGYws2H5l/U+CF784khQmWgyctGHnn0D6uJ5k4eiDQ1aDwg/un48jAm588/C8A50aUMzilB/T5JeDqGw0nMkciUiNlWEUrd2Hse70PXTCXXCzLAXA3q4rKlHyRr1Y3oC6NXnqVjZq/UqISIiIiIiIrq2ZLlhwoaSB2q0ynwYnsZipeJ855ZWjN5YMP2Yy08iM8/LoCm6pz7WC8H3/XLcKbb3lXW16J0U29PbLKau4qr2MZvyHI3oa1b3Hn6zFZvuXImVf1YM95BschDn+nwn6mLDPYRbl+MO/ZhG3MojVr/ypFeERB4cDX1oURoewhjdvUk5j5XFbniUTZWg8/m66eEeRERERERERNeJLDdMqI8L/fXwblSv0ZohbitCdXMfjh46jHaXughvjiNwRfs8k9V1GPp1N+ruKVQbPGyFKHG1Y+iXb+En39aq8sfH4E/nqR8Zy0PR4yM4OdSOms1FWsOKDYWOauwe+iUGq8zPEClC3T+KYy3Rm2Dk0I6ruCw/3liEhuGTGGqrgVMPG3Eujqrd4lwGUb1KXURERERERER0PflcVNA+ExEREREREREtqKz3mCAiIiIiIiIiShcbJoiIiIiIiIgoZ9gwQUREREREREQ5w4YJIiIiIiIiIsoZNkwQERERERERUc6wYYKIiIiIiIiIcoYNE0RERERERESUM2yYICIiIiIiIqKcYcMEEREREREREeUMGyaIiIiIiIiIKGfYMEFEREREREREOcOGCSIiIiIiIiLKGTZMEBEREREREVHOsGGCiIiIiIiIiHKGDRNERERERERElDNsmCAiIiIiIiKinGHDBBERERERERHlDBsmiIiIiIiIiChn2DBBRERERERERDnDhgkiIiIiIiIiyhk2TBARERERERFRzrBhgoiIiIiIiIhyhg0TRERERERERJQzbJggIiIiIiIiopxhwwQRERERERER5QwbJoiIiIiIiIgoZ9gwQUREREREREQ587mooH2OuXDhgvaJiIiIiIiIiCj7Vq5cqbwnbZjQV6CZMbyIiIiIiIjmF+tdS4vxenIoBxERERERERHlDBsmiIiIiIiIiChn2DBBRERERERERDnDhgkiIiIiIiIiyhk2TBARERERERER/ue/Af/9p8D/dUVbsEDYMEFERERERER0nZONEntHgf8VAr77s4VtnGDDBBEREREREdF1TG+UuPL/U/+euLSwjRNsmCAiIiIiIiK6TpkbJXQL2TjBhgkiIiIiIiKi65CxUeJznwP+g3hJn9daChaqcYINE0RERERERETXGWOjxBf+A7D9fwdu+0/qd2V/AfzVKvXzQjROsGGCiIiIiIiI6DpibpR4tAQo/89qrwnpf/sC8N0tC9c4wYYJIiIiIiIiouuEVaPE/XcB/8HUOnDj/7ZwjRNsmCAiIiIiIiK6DiRrlNA6SiRYqMYJNkwQERERERERLXHmRgn3fwUeSNEooVuIxgk2TBAREREREREtcf/3/62+640SFWvUv9NhbpyIitdn2vayIUsNEwH0rlyJlcrLjdGL2mKD8GG39v1K9J7RFl6vLo7CHQsv65f7cFhb+doT2K+fh3VcyEwYo429IoYZGMNvf9w3RERERERECmMdNPnLVNdYhLJVl5aNCu0PAP/93gwaJc70xvbd4g0rjRN//b8DnV8H/uP/U1snC+ahx4QXTd8fFdVJmgvvzmKsbLzOw1FpgChG0xHtbyIiIiIioqzqQtUcK/zXkjv/38A9q7U/ZkH2nHh4HfD/ulFbkCXzM5TjSBOGr/deEdkgwrH4GuwRUPT4BVy4IF99qLhVW5ixMEa/3wSv9lecWyvQp2xfvB4v0hYSERERERHNTtdLi/dHYVt5n1a/uoCGDIZfXEvmbY6JxXxhF5XmkVgk018nX3BqXwr7+rMwHIKIiIiIiOj61fJGfJ1LeZ3oRqzmdSSEkPaRFt68NUzIX/v3pDtPgmHcyvTLPNZHzjWgfSd7EZjnaYgNezCsp7ySjRkyzouhvhbLvA6yRWy6ccKLX50yHVdCeCWfy2F6vgfDK8UQEatxWOZuTXFzSJwxXgc1rC3nmDAcswxn837iwj5hCIfavSp2LWeaY8IiPlldW/NYrZTHRERERERES8utFahv1j7jLCbNdaoM6l2J9VC1jhGrG1nWV0111ST1HOs5JkzbMR6rsb6XyTlcGsPkH/6gfPyHf/iHBZ3PL/sNE5udsVYn787hJI0C05RA3tql/WUkK6NJAm1fFVauM3Xzl8MeGt2mCq0kt2N1wavEN/GUeR0WydAJ2933Tofj+9Ntd9bh5UXTOnMDghpRq/ZpfxopYWVunFDXL96ZOHiia2uySrrY71bDdWh2IJ2BFTKczfvJVtgrCd8iPs00Z4c8R6tjMjfKEBERERHREiHqhf2x+tIdWG4Yhp5+vUuSP3onzo0n6xiW9bGsE3Vew7E6nQ7YxHtG53CmF0Vlu/H/1f5UyHq3Rd1qPsxDj4l7UR/7tV8EUMrKZgDDemXQMKQhZW8BXWz9EbRoi3DEK/5HC0a07YzEWr+64De2LOlzF2zuxknzPkXgL4rK6K3LRdLQvDOpVqhFwtmjhZfzhZPa+Z9E92ZlkYj4hgaYi378Sk8YVmFr6tESPrwnlpBi2zZ0bfLu3GPdSGQIw0zme5g+fsP108NemUNi+rwQu6YNqRs+RGKKJfw0zjmeE90nTOsLXccXR0MVERERERHNnmwkiO85IF7GH7uNP7JmUu8SAvsNP3rH6iHG+swCMNR/+sptGZ5DAL2mBogdO3bED3WZZ/MylKOgvN5Q2Uw1R0IRGrTAM1ZqbctjVfIkRCXy6/r6RXDEGiDk2KHpymvB7dPBeHZSq5CeGY5VwFseqVBakiRb+femL9IirYwGfqYnnBbUy8imsKHiaT3CGBpgPgxNJ7J9/likM06cokRYhaGBaHM3vqcv17s2KY0P1hNZGsMwbSLRTO9bxIE3YrFlDmEfxuhLemJqwYgxPhmubbJePM4Xvhc7P5sx/uqNQkREREREtDTJ+o6h/pBRvUvULvyxXhHGeohx/flmrB+rMjqHM/7phhXb7doHQdQHv2f40XY+zdMcE8bKphdNP0u3sqnN+zBjd5H4bjbTnCj4ovZRsGrgCE+e1T6JSxHXamboerMoK6NhTL6jfRTRRp1zQXsZWvpiDTBrHNOVa9P6CT1CLk4iFipfXh7X0KA8YaMnWeNDfHiny3l7gfZJYzzW2YZ9XA8R85ASGxxOPUEZM5Fpdyy3PkMiIiIiIlqi9F4GcfWdDOtdxrqUuR5i7AU/r8z148zOwVhHtt30/9A+qWbuNJAd8zf55Zrq6a4r+6qwRz97s7jJOBLnfciJxTAjqzGCZ2B6PooiNCTpeqM2yKSauIWIiIiIiGjpmH4qR/xQ8tnOc2ecB/BaZT6Hz67+X/ivxcCvnwD+5r9qCxfI/DVMxHUTESd9xKJlQk5CaewdobdYGbr2zyfLR8YorxnmMlgA4VO/irVk6ZOXTJueRyPhZZznQZmrQS63Gt/kRdP3k08GSUREREREtPSYfsDdV5XiaXxp1rsWtWvjHOaxYUKIe/xKImPlW2kkWICAMXZFiXW/WWzO9BqeEOHEvXfLZgkbln9ZXSKOPPFRNinZUNGjR0DjZKFazxCriTY16qNpTE81mSOv1x/fIGIc02QaSpK2Wx24N9ZDZ3pODVUYfm8spsGxRvtIRERERETXH9PcCfET/WdY70pRl4qr51gybd84T+CcZHYOxjqyec4/4zCP+TS/DRNC0dfTm/BjupEgcUbQrDLMZxAXAQ1DSpK3mM0D2X0oNpRFe8X1IqmPTcpYtD525HG9HWLPxjUMz1AbFNTlcedjHCKyuQDqbA9FqLZ8coU+KaY6LilrTyuJ24dx0srESVvSFz+PhPFpMPFPHKnOeW8YIiIiIiLKLeME+eb6VSb1rlR1Ket6rbHRwPgUyuzWgzM6B+Ocf8aHVxie7DHf5r1hItVMnra7750e6rGzWAug+Hkmsj92xzQx5zrtwsQigXHW0hwzzQ6LNQ3Tj0AVkb5YCS/Ds3ENjRjxT6LQw1a8YpOdONH9tPVTSSyvRfMIGrLY02B6H4ZJRw3HH59g9QlbUvfckE8ciYWPocEn1vvE+MQRIiIiIiK6jpmemiHqV8P6D7EZ1Lsk41P9ktVrjaYbDdJbf1YyOockdWTj41Tn2fw3TAhxj180knMgJEzQqI6Bma5gmrvlZ4G4SHFDGnTKHBe5n19CUoa2WDwNQ3lKhsUcHIlDYdThGyctG4VkGJsf/5l8/WwPs1Geo2s6B2WZaR9Fj5vnxpi5G5ISPhaTfiYLTyIiIiIiuk6ZfkTv2jr9Q2j69S5JVOzN8/rJH5mt6pySrI+aty3rokkeXjBbGZ2DPCbz/uUxWfz/+fC5qKB9jpFzEcgWEkoPwysNcqiM1itFNkL0secCERERERFl4NqrdwXQq/eEkA0V/KE0jvF6LkiPCSIiIiIiIiIiK2yYICIiIiIiIqKcYcMEEREREREREeUM55jIAoYXERERERHR/GK9a2nhHBNEREREREREtCiwYYKIiIiIiIiIcoYNE0RERERERESUM2yYICIiIiIiIqKcYcMEEREREREREeUMGyaIiIiIiIiIKGfYMEFEREREREREOcOGCSIiIiIiIiLKGTZMEBEREREREVHOsGGCiIiIiIiIlqzA/pVYuXIles9oC2jRYcMEERERERERLVFhTL4j350o+KKygBYhNkwQERERERHR0nTRj18dkR/uwPJblSW0CLFhgoiIiIiIiJamD0PwyvdmB4qUBbQYsWGCiIiIiIiIlqTw5Fnl3Xl7gfJOixMbJoiIiIiIiGgJCsPvVfpL4I7lNuWdFic2TBAREREREdESFEJImV+iBY41ygJapNgwQUREREREREvPxUkoAzk2F4ADORY3NkwQERERERHRkhM+9St14ssvLwcHcixubJggIiIiIiKiJSf0vjq/RMt6Po9jsWPDBBERERERES0xYUy+I9+dKPiisoAWMTZMEBERERER0dJy0Y9fyYkvN98Lx63qIlq82DBBRERERERES8uHIc4vcQ1hwwQREREREREtKYHjXcq783Y+j+NawIYJIiIiIiIiWkKm55e49272l7gWsGGCiIiIiIiIlhAbKnou4MKFPlRwfolrAhsmiIiIiIiIiChn2DBBRERERERERDnDhgkiIiIiIiIiyhk2TBARERERERFRzrBhgoiIiIiIiIhyhg0TRERERERERJQzbJggIiIiIiIiopxhwwQRERERERER5QwbJoiIiIiIiIgoZ9gwQUREREREREQ5w4YJIiIiIiIiIsoZNkwQERERERERUc6wYYKIiIiIiIiWtoujcK9ciZXm1/6AtkL2hA+70XtG+0MRQK++v8ZRhLWli01gvx4uboxe1BYuEDZMEBERERER0RIVxmijqGyva4JXWxJnX5VSGY9vSJgtdV/FOy33RCmwYYKIiIiIiIiWpMD+YjQd0f5IoWvr3HsJhA/vSbKvIjRcuIAL8tVTAZu2lKaxYYKIiIiIiIiWnjO9qNqnfZaaR9TGgdhrBC3aV4AXTd9fvMMsljo2TBAREREREdGSEzjepX0CnC+cxIXHi7S/dLInw0l0b9b+PNKE4diQDm0IiDLnQi8CxnkiYst0iUM4uraq66lDRGaYY8Jq/guruS+M68nvzf8vyfwV03NHGF7zMLfGXLBhgoiIiIiIiJaYAPyx3hItqC9PNoDChopHpvtNnJ20qtp3oWpllfjXSC7LxvAPt/X8F8rcF8bGDxP5vfn/HWlCcVyDg9pgEtdrRCf//yKaiJMNE0RERERERLR0NTtg7isR54sFcGofve+HtE9mLRjRhoCcfCG2tjb8w4aKHuNysfYb6roNa7QFVi6OYo/ey2JzN07qQ0ze0BtKulCVomeD0gtErn+iO3b82Oefbsw4Mxyb80I/ngtxPUR+Bf8CP30jGTZMEBERERER0dJycRJntY9z50T3iYZY44at/HtZqdwHfqb3eBDbf9owKeaaBow0a5/39Vv3ytjcje/pvUBurUC9vr4460l9fbEdtTHC2EBiw/Ivax8XETZMEBERERER0dL1zuQchyzcgeW3ah8VNjic070mQh9qHzNiGGqy+V444rYPFK3Xe0148atTFkf/5eXTDRnpOtOrzC9hObQjx9gwQUREREREREvLrctxh/YRR0JINkBDCp/6VWyuBuftBdqnpSFu4sut8bNkLCZsmCAiIiIiIqIlpgiO2PCGLvQfTtZnIoBhw9M07liecT+ERUtOrGnsHaHPMxEbJrKIsGGCiIiIiIiIlpzp4RCAd2dx4iMylcdtGp62sbkb1ZaTVXbBH3uMqBSG3xvrY4GCL2ofM2JoOLGYp2L6UadO3Hv3bBpLjMeoTtyZciLOHGPDBBERERERES09xkkkJeURnIahDXGP2zRNQGnStdXw6E7D0y7QXI8K0/wQ6TLOI6E+3UNzpne6p8Mctj/NMCGmcduLCBsmiIiIiIiIaEkqejy9oQstb/TN0ADQhaqEuRqc6P769INIbctjs1qga6u6bm9cTwuTNQ3Tjxg90oTihO23YOTxlA86TSF+gs6mdeZtS7OduDP72DBBRERERERES5ZsnLhwYURU8y00j5gep2lFDoU4Of2IUIVcZmrMMDY0aM5Opn4eiK28z/LYnC+cFMunH1E6G3Lb5uNRz3d6f13HTcNbcuRzUUH7HCMvjGxNofQwvIiIiIiIiObXwta7whhtLNaGbMhGiLk1ElAi4/VkjwkiIiIiIiIiyhk2TBARERERERFRzrBhgoiIiIiIiIhyhg0TRERERERERHFsqOiRk2bKF+eXmG9smCAiIiIiIiKinGHDBBERERERERHlDBsmiIiIiIiIiChn2DBBRERERERERDnDhgkiIiIiIiIiyhk2TBARERERERFRzrBhgoiIiIiIiIhyhg0TRERERERERJQzbJggIiIiIiIiopxhwwQRERERERER5QwbJoiIiIiIiIgoZ9gwQUREREREREQ5w4YJIiIiIiIiIsqZz0UF7XPMhQsXtE9ERERERERERNm3cuVK5T1pw4S+As2M4UVERERERDS/WO9aWozXk0M5iIiIiIiIiChn2DBBRERERERERDnDhgkiIiIiIiIiyhk2TBARERERERFRzrBhgoiIiIiIiIhyhg0TRERERERERJQzbJggIiIiIiIiopxhwwQRERERERER5QwbJoiIiIiIiIgoZ9gwQUREREREREQ5w4YJIiIiIiIiIsoZNkwQERERERERUc6wYYKIiIiIiIiIcoYNE0RERERERESUM2yYICIiIiIiIqKcWdiGiYujcK9cCffhsLbgOjc1Ae/+VrjKirFShMvKlRtQtb0Vvd4JTGmrxFzHYRfydqBWD6PSAQS15YmmMHHYA99F7U/pTK/y/3rPaH9f58L+Xgz/XvuDlrAQRluKTflFBCHfAFpdm1Cs5DfF2ORqxYA/C3lK2A/PM7XYVKxtt74NnoTtRhDYX46q/QHxabGYxzAhIiKinAsfdqt1iGSv0iq4n/Fgsd76A/vlcboxaqzfzKsAemW4iPLaQmOPiRyJnPOgduMmuPf5EfnLSuxu3S1eThR+4keXexM2tgwjtHhK77nzrgfN7gEEC7ajb2gIQz+uRKH2lVn48C5s2nkisVGHVGd6UezqQvhT7W9askJvdqDp/Xo0ltu0JbJRwIUNtR3w31KJpwZFWhp8CpW3+NHh2gLXgeDsGwsmR9G0xYW243mofHoQQ0PfQ80tQbSJ7TYdDmkrSXkoergF9lc7MPD7xZC5zWOYEBER0aLieLxPlFHEvT7u1YdOpw3nhtrg2tKE0UltZcoJNkzkRAiHftgGHyrQ/Zu3MPL8btQ9Wideu9H5xlEc7agA3mxF81DyvgHXi6nQBGR7XfW3G+B0OOD4C5uo3hBRUh/7MNAZQF1zDezaIrw7jI59AdgfH8HRngZUlIi0VFKBhp6jGHoU8Hd24dAH2roZmYL3x+JGLvMyTx8aykvgcDhR8/wgBl3A6M5eeD/WVpVuKRFpGejad0jkgjk2b2FCREREi01+YZEoo4h7fdzLierWPhwerIMtPIq9r/kX3Y8SRY9fwIULfai4VVuwhLFhIhcunsG4T7w/vB0Vy9VF0/JQ+I161K8GAi/6lEr59Sxy5ZLyfsPnlTcimkHwzR54bPWoXD/dhBcOTWDKBpSVFJka9vLgcG4X7z6M/24WfRgjEwhdLELBAw/BGZeX5cO+tki8D2PifXWJzr55O5y+LniO5/bWP29hQkRERNeU/JIyVIv38EgAE+oiyoHsNUzEjTFeieIyF1r3ezFxRfs+zlWx+gBat26Ije1pPeBH+DPta91nYfhfaYM7Nv432XbDGG0U3zeOYuL8KDrqtfXldpMdgza/Q1Wpvt1atL0SWNhhAB9NJWmVs6PoHsB2yyVMJZSLl0bYTf1+GB2NVdigHJvVmHR1fFPxTq/yV9dWdV/Wc0Wo56Cu60XTOrlub3yjzmdy/onpuSrkMXcctpjLQ5h614veJ03H9tvMYkbY70GbHpZy7pAne+E9b7rayvwXboxOTiEgrpV+bBu2tmJA21/I1xu71sVlTeg9Hv87szruTJzrxwEM6MdcvAm1z3jEMm0lQVlva5fyWQ1LOVZNhLFMr9uHLX+9Dg6Wi/Va43/xtqLPlaLHSeUc3IlxQj/f80F4dqphs6G2C36xfeX4ZBw850GTEg4bULvPr/7/NONyYL/8fy4MW/3KfW4A5eL/tXozu45SWtcylakghmN5o/z/A/CHQ7F0l9Wqb8SPsRcDsFc4pntLCLZ72nH05AU0rNEWZEteEeoOjuCtVoepcg9c+lD2h3TA9ifq3zG3luD+qjAGBtPsNXElBN8Bw1w8et5kvpQp4peVeQsTIiIiuubcIP8RhTJzCS+TekHkvGFdUR5v2u9D6DO1TjM979d03SuhDGgxp2DCHBMzlXe0cvP0/Hwp6nSi/hCrv8vjPbDAdWGT7DRMXBSVwS0u9FxYhprvyfE6g3jqvnz497mxqTGx0jP5cjO2NI0DFbuVsT3tjjyMd7qw5e98hsAQgb19C1ztQdy8oRE/kOOABrtRXwSMi+26njOuq3n/IFq37UXQVoPvifX7vmlTj6GmF0FjLJv0orVyE9yvhlD4LTneSB5vHnztVdjYMjr/XYxvXYPSEvH+yi7Ufn8Y/vOJDRRFzRdwcqwdJfoQcc1SCLvQ4SZsrBQVXhShoU8e21OozPMpY9JrB/Vx3YVwyuN43KH8Vf2sjFdDcN6u/GmSD8e39XUdaOiR6zrj5qIYf04kuh+FcFfDD5Sw2F54HgMiMcv9GYWOtKK8zI2D/16IOuOxVW80jZdPJoJAn7gerjb48rRx6311KPz3g3BvdKH3TEJ2h3/ZVwv30QhKm7vFurux+qNhdFQ3oWtfE6r2h2B/tFMsb0fpTaPo2t6MgXPaf40ZR0ddFTxXStEi9jf4RAkiR9tQVdYEr5aJFW4Wx/GsbAvWw7IRjluKUPKIqL4ePwR/QmU+CP/PRdhUlYr1tEVWPhZho8SHS7B/U8ZJeb6dcH7xHDwiTpjDV0QgHHzybzBmqxPxsg91G9bBrm9fxsGGMSyrE9dIhFnpX9nFlU0/LhfdUy8q434c8idep6A4xyCqUbo2X1uSjkyvpQWRN7ZWlqNVXN+iv5HpZTcqMQbXlmYcNPUkyIZI4ASGwzaU3W1slkgteGpM/GvDHctNmc1sRaYQPNyGts4gCv66HmW3actj8rHa4QR84zgz00ROV8TNvGYDal8KoeDBpzAo84RvFSL0qsibdojrkjAWNEX8ykDWw4SIiIgWrw8mcFq+VxXG1R8yqRdEzvTCtdGNrlM21Mh1v1eDG/7HLlQ9eRBntXWyJ0l5R5ablHKzD3n3mcpNok4XMDZOyPp7WRXajgJOOUdYdwvu+F0zNnaOQe2vngNRC+fPn9c+peePP38sumLFY9FDIW2B5o+v7Yh+7cGd0dcntAUfHoo+tmJFdMXanaZ1L0fHnhDLV+yJjl/WFgX6o9uca6O7xvQFuqvR8b+T6+6Mjl3SFkUvRQ81yGUrolt/fFqsMe3qv+6NrhXLd/zsj9qSy9Hxp9daHu/VUz+MbolbNz2ZhpciNBbdVaIes/JauzG6rWFPtH/0RPS9j4xnoFkqYff+69EdYr21f3soGr+m2PZzcttbo/1BbZFwaVTGrRXRnoC2IAV1XXFsH2oLpECP8v9XPNgTPf2JtkxxNtp/n1h+X7/4pPloPLpnrVjWYD62q9HTP9oitrMj+vr72qJkgv3RrWJ/W34UH5YiNajhvPaH0RP6F7FjE8fwqbZMkOGuxom90RPGYxZht01u+6XYEUdP/1isJ5YlhKcezs+fmD4ObX9xYSmOV163ba+Zrpu2fM8/m+NQvD+O7opuLdkSd81U70UP1shz6JkOX/18nxgTVzuefh4JcTajuKxd05rXTddPW/70eMJ+U8rkWlq6Gj3xvFV6EfHpx1vVsBBxLXb4WXD2JRlPjWEyg5CWr8g4qC2aPXG+z4ltye2J18bvjkX/aIjXcX7Xo+QtqeOXHn5bRZw1BfTEQTV+G69piviVkayGCREREWVTpvUuvS7x2KhV4ehq9HLwUHTPg7LsIsobvzOUNzKqF/wx+voOsa657P6pKA/L5XH71+peVmVArb5nPFa1jGyo36Qo75x9SZYvt0R/eMpUbtLKNtP1ghRlVOXcxPZFvXAhGK9nFueYmMTZd+I7pBR8YxBvvdGN6lXaAp3FeOSi/+IU7xO4pHdDWVOHobGT6HSaf+HMg71IrhtBxDx8AXVoeTR+vHDe+hq0rAd8L3uh/HZ70YfXh8KwNdcnzO+Q99Vq1Mh1R/3z32tiuROd/3wSIy+0oHpNARCegP+IBx07Xdh011ewoXEgrit+zDUedsFjHvjgQMt3KiDO2iAfJd9sEd8E0P+W+Vf2uXN8vQJFN2p/KOxQguLcJUxpP3yHj78OT9iGlkfMx5aHogdrxLH5LH+NNwoc6xdn4ET9N83j1gvg/Ead2Ekvxk/F/9Lu+LoTdsMcGnmFd4gtCN8og8N4zLcVQo7aD35i/qXeIjxvq0T9o2J3fWPwJ3SPMVjtQOVqiLgXf92UHga2BpStT93DoKC8EyPjh1EnthGvEPa7xZtFlzinY7W42lacWGc3fZNRXLbD8aBFD5Bzfhw6Z0PDZkeS/VqbzbWMM+XHWJ8IgEe3m9KsfDpFvTKWMbvCmAzKtPNnsKXzQ/9UAL07m5SeS7ufrYsb+jE7EeSvl0/lGER3sxORn7pRtd3UOq+zFShxeezdFOkpFn4tqFtjGiiyqlqN30O/SHi8V/L4lYashwkREREtBt6d2tCGuNdXcOeWJozdUI3OQ4No+Ivp8kZG9YIPRFnTJ0qi366ML7t/vhDV9Q2Yj/6XieWdAHwvBoDN9dj+VVO5SdQ7tyv1gnEEZNE1EsB4sjKqcm65kZWGiQLH/aiwBTFQLy64HMfSOQzvmQlMJVR+VfZl+aaCvs6P8EfaR91nEUxNBuH3+zD6ygA6nnTB9X113oEEm+9AYcKGC1AoK0jnzmJSFmA/DIlCp6g2fRoW2/SbXucxJa/w8QlMpqhvZM3nbSgqb0DnG2/hwtmTOPpGHzofrUbRbbLrUAeq6kzDKIRrO+z0ilMRChO6dwui4r1OvIWD5xPHXM1Roe1m7ZNZCGGtQSf0vnJ2uPqh+dzE69+mlMTvf38yoaI9TZyf0jh3My7/W+I2Ahfl1kWlfzK+g1T+TcqotgTO2xOzMes111mEZx4K7bLiPoZgyicL2OF8WGQ/cZV5EWdGg7BVrUORdWRLFJlC+HxAnKcXwwe60NZYheZ92ncmBbZl2iezguQV6jTjsv0emZnGD+dQG1mqsS7tk5Fmdy3jfBAUoS+uo70wMc3eshyFCY05c3UVl+Uhby4w3UAtfOxH144qdJ0pQssbQxYNS7ORD/t6+VSOElQ8rs5wDX8X3L0WM1zfYlOOMXw1RUarh9+Xl1vkeXr8HsWEaThH8vg1g3kJEyIiIloM4h4XOtiNFlFeknWS6q6j+M1QJ6r/Ir6an0m9YGpClFHFu+NLxoEgqrwVf6b8GJNtCeWdi5M4K8uB+ZcxYT5efwChT5WSK0JyGO159Xgty1hafSwXstNj4lYnuscOo7tZVKoREBWTVri3bsKdf7YBbotJNJanVXCMKJMVutZ9BXd+rRwuVy2aXh5DKK8U1Q8kacdZtTxFi5T6y2p4Uh3l49/vFtsUlZu4Vy06jshvpyurC+ZGGwrXyEfWdGLkn99C9wPiTM50Yfh4fOhd62EXUeoh1tXr+bTsT+Izm0SyIirf/ehtNJ+beNV2KI0ysoUmeQeEEEJKGAyjzfz/5evJAWWmX384vtkl6Tj2L6QZTk5Rodc+JhL7+lT7mESBoxIlxsr8GR/6z9mw/b8lTmiYaAqBA25s+MqdKN5YJc7Tja6fBxBZXo3qb2irmNx8U7Kt3oy8hK8yjMu3OVBZIsI41gMkAN9LQdgeLoVj5pMxmN21jCPCPfm3y7DMcr6UuQgjfFz7mMrkKFofdKF30oGW4UE0mHsjZEl+SaXydKFwX0DtcWUkLrTSVHh+MnkY6eGXbjrQJI9fKSxQmBAREVFuxD0uVHk8+GEMPhrBcIsLtaKsEv9TSWb1Av0pgpZlkFuX4w7tYzYl7Ev7ARk/bUs8XvFqHVRKruoP2aJCppTNMixjzbfsDeW4xY6Kx2W37gv4w2/EhX6hBRVfugpvZxWaRlJ0101i6piojOwUhf/17Rj5zdv4w3sXcGF8BH3P1iWZAFFIVshVKmbLkH8jYPui2pJV0/82LlyQz4W1es3vs2IDfXIG1Tb4ktVwP1+Aiu/IYQ2A51zmD61ZzGGnVjyvKp8XFxuWK0OOajD4ttV5aa+eihSNADYUyB9xV+/GYav/q78ez3K7qTdkee2uKtfOblHZNxGV+TJDZT5w/CDCq+tRksbTCoKDtajq9MLm7sPRkyKuifM7OTaEztZKFM3UFpSGzONyARybxcnoPUDO+HEwbEf9PZmGeRau5RfkVpK5iqvJW7hmyQbbeu1jEpFzA6jd2oThKxXo/EdRAf9qFi5SUikaX8QN8bJ8T9Ugqoffp/ObXyxsmBAREdHikI+S77SjZU0Y/r9vQ89vjU0TmdUL8m9R+6peThhuLUxNpT+ZZORqih9AZ2ArUIaC258+bH2s2kt5GpmoHCjDVee5jJWpLDRMhOH7vgubtg7EfhXLW25HSXkDul9+Sgkg34dJfxNLYgoBn0ds2YmnmmtQtDwfebEx+BFMvi87n1g4FdJ+JTUKYUI+YnK9HatkeVNcNFnhH7Os8IcwvH0Dquo9ib/wZZHNtlycmwdjqQb/fzKlRExnxrPCL+awE4ncLpOBD4GEJ0sIH0zghHiz2Vclr6zMI9sXlbND8Lz6d5wPhuEqrULtUKqYsQw2OaTi3Gmct3jaQOR4h/KYy45j2a6RnsVkwv7EtX5Htps6IIJzBgUoe6harcyfDyLgDcP+YPzjJq0F4f+5fChrA3Y/4UShzTjM6BJCVtc4I7OLywX3PIRqpQfIhPJ0hfDqSjgy7pafhWt5mx1l4s0bnDC1wgsfn0Mgnd4NGbkBN8uEc8QqLYtjPtOL2h0d8N1YjW5l7p+ZWqzScM4jKvUb4Pqp1R7FcZwSb+ttien547ByjLYbUhyDHn6B8xY36QgmgjJ+V6DQNN9NJuYlTIiIiOjacGMR6r7bIMq8QfT+XU/cvFiZ1AvyCgohH7jot6ojTU5AlpYTTF1N+Kk2EpoQJdhZsqnDZIOi3JRY847A31mMTS5R5pE921fZlTqdZRlLDgnRPi60LDRM2LDqz/NEBfYQxuJamoRPLisna8+4a20e8m6S71O4bNpkRBSE+w/IT1NIGJ4cPoiDpke3TImKTZeoADi/XqqOu76tFA9tFqvu68ewaWxy2Dsg1g0hcndRGpWy2Su4ZztqREl9eM8eDL9rUbGZmsDwS/0iiThxr0NtgUvf4g47OQdAiTiz/pfMjxadgu+1LpEY7ajfMMfQV3oKZK6g5CER4mF0vTSMUNz8KGF4B8SxfRDBujWpji0PRc4WcQZe9L/mF2dk8FkQnn0DCL9bgLuy0ZUgjhcHf2bqgnZ+WLnW9uayhHkirlrM/ZK/tlSpzI//7BDGzzlQc0861yAf+X8i36cwZZrgcEqJD/LTZW34zmzMMi7f4oC4V8B/fBiHjgfheNg5i/SchWuZ70CZWyT0AwfhjUsvEQReFWlI+yt79Ia/95AwwuSKH12PyfRVgW5PZ8LktbO2ugjrIiH4Xx1OmOQy9GY/usRxxPIPI627YdmXUuRvevgN9cBjfjSrFr9RdS8cCa0eaZqvMCEiIqJrRt5XG7H7UVGYONeLjleCsfJ0RvWC28qw3WVDUNTfRuPKfCGMKnU6o3zYZJnjeADn4oa/i7LRm4e0z7OQV4SyZnE8R/px0Pzjtyg3dx0IY+JP70KRfKyovm5CGUuUUX8myq3aXwstO5Nfbm5Ey5ogehtq0fqKV5lkw3e4F+66NvhtNWh5INNqgV4p8KPtyVZ4vHLSDi+GO93YtMWDZVWyH4bFZI8iTvl3Pgz3/lH45CR5+90orx0AHujG7nK99GpDRWs3KmxetG51acerrlvl9iC8pgXtD2d6vBm6pQS7/w85VGMUrWV3YsNWN9pERWfggDqp36aNm9D6ZgFq+nfPYkjJIg+726rR/kIF8GYTHm7swLA8Pt8oehvLUSsqGo4n2lEzy0nn1G5UopL+2qg4ron4ymQ6bq3AbnFstiOtqNquhZ1ybFVwD4VR1DzzseWtqUN7cxGC+10ob+zFqE9sw+tB6/ZadJwR4fdCA5wyQ8gqm/J84trdHnhF2vO+0grXtjb45PV4xPBEiT+xKa2jw695xDUOImzMh0RlvswlQk/EQX9JJRxWk5MmKEDp12V88mDXzi71XEV4Dex2YeOeCZQqc0DMZb6WWcZlkeE7nDUiYxZp6ngJKuMa98IYbZSzMLsxatETwijTaxnYr87w3Ct7GSny4Kj5npJemmLpxQvP7lq4Xw3JJGeS5NjO9KozR++3bG+PY19TJrY7irOmCU8nftaFAdlYYb8Zl2S4iOtsfg2fmU4xieeSjB01z7agSNzMq+5zo/ewTztHF6pavCio6jPkH9NC78i+UU7cZX4KSxwRfg194t4SQNdj4t5yQOZNhvgt8pK+7ziVyadmY/7ChIiIiK4dorzx7R8oPxoH/r4NHr3Hb0b1gnyUfPt7qL5xFE01WnlIWfdhNB1XqlkGevl2WNSVte16h9Eh1t0rSuqydDs7YruPyKEpok7uKtfqdFq5aUcHArYKdMfKTfq6WhlrxjLqAlGfGhov0+fDKi6/Fz303GPRrSXqs1pXlGyN7vrxWPQ94wNWLZ7NqtOfMdsT0BYIl0/1R3c9+DV1e2s3Rnc8fTB6Qv7X91+PbhPLdvxMf6rs9PNg35s4FN1bt1F5Rv5a547onpdPWz/TXhzv2I93JR6v8dmzaZpVeEmX/xgdf3lP9LFt6vHK41jr3Bbd9dzr6nkaLbGwu3zqYHRPw9bo1+T/X/G16NaGPdGDCSdtfW7JifB8boe2zZ3RMbk57Vm/Vv8/4bnAmsvvjEV7ntCPbUX0aw/uivaMvac99zc9l06I89PCcsWKtdGNdeL8TplCM9mxJb3Wp6M9cnuG5wqr59ATPf3R6Wi/fsxJr8fV6NmXd0Y3ymcyi2Pq+Z22WHP1X/cqx2MVx5K7Gn1vdG90h1M+C9mwb3Gq6vbWRn94Qgu5Ga+FOA/tb6P047LB1RPRvXL9hGdEa/Hd4ronk9a1FNRzsDg/cW0OPr1DC3cR15/oF8d/Qr2Wz+nPk5aSHJv+vOq0nict4ojYz9q4dfXtpn4lPjM73XQngjs0LuLfNu0cp9OMZf6hH4/F87ctfaLmN9u0OKbkkeZ7i5QifiWa/zAhIiKi7Mu03qXXJWYq3176p51qWW/H66JGMS2jeoFSH9bKfLLM+pxav7Iq1yt1oR1a+VaWn1+U9S61rJ9Y/jCUDWcq73x6KXpC1C9jZXOt7Hz6I+17I6WMNV032Fi3N3poYjyhvjGfjNfzc/IfrY0iRk6MIX8ZunbIXxqL0YRunEw5OeH8uPbCyyi3YUdzI3/FrdrXgpELDXN+FNHUsTbcWR9B3+nOeejVscCmfGi7sxaRvrfR6TT/ph7EwJZhFP5jO0pm+3P7XEX86PiKC4eeOIyT7pl7aMlr4/qgGodrZ1439NNabNhnx9BvWjJ8EonRFHzPuDDxzcPZf2zmB8OoLe2Cfeg3aJn9ARIREdF16Jqrd10chXtdE/DCSfRZ9CK93hmvZ/aeykFE17AQfG96YHNXouRab5QQQsdeh8fWgEqLloep3/owtkyb0HVeBdFbugmuTl/CsKKp42M4BBuq70x83nWCz8S1OeJDyVfSWFcocG5HDXpxKOljf9Iw6cMvjpekMXFq5oJeD3wlLahmowQRERERadgwQXQdi/x+VBlLL8e1NR0pQv19Dlyz1cUrQYzKuQE63Xi4xYuib5dZ9BiYQmDsPVT+98rECRmzrhAl1fnwH9gF9+4BdY4KbY6M8noP8MBT6VXO3/HhX25pT78if0sJ6lqdGD4wbJpsKX3BY/+CZU9Xz6HHRRIf+zD8EtDy+EKEPxERERFdK9gwQXQdy8MlUVHswEBwFer692W/2/5CuhG49PN+dBw4h1WPDmKf5bCHfJQ83Y2a1QvR/JIHu3sQR/u2o+CDYeytdcHlcqP31M2o7juKX3dVpFc5X12D7qdLMqrIFzywG923e9B/JPGBUemw/3U3dt+T7aYD+TSSLgQfbkfdmoUIfyIiIiK6ViyROSZyi+FFREREREQ0v1jvWlo4xwQRERERERERLQpsmCAiIiIiIiKinGHDBBERERERERHlDBsmiIiIiIiIiChn2DBBRERERERERDnDhgkiIiIiIiIiyhk2TBARERERERFRzrBhgoiIiIiIiIhyhg0TRERERERERJQzbJggIiIiIiIiopxhwwQRERERERER5QwbJoiIiIiIiIgoZz4XFbTPMRcuXNA+ERERERERERFl38qVK5V39pggIiIiIiIiopxJ2mNCb7mgmTG8iIiIiIiI5hfrXUuL8XqyxwQRERERERER5QwbJoiIiIiIiIgoZ9gwQUREREREREQ5w4YJIiIiIiIiIsoZNkwQERERERERUc6wYYKIiIiIiIiIcoYNE0RERERERESUM2yYICIiIiIiIqKcYcMEEREREREREeUMGyaIiIiIiIiIKGfYMEFEREREREREOcOGCSIiIiIiIiLKGTZMEBEREREREVHOsGGCiIiIiIiIiHKGDRNERERERERElDPz3jARPuzGypVujF7UFkhTExh9xYew9ud15+Io3CtXinCxeJVWwfVkL0bPLFTohDHaKPfdi4C2ZP4F0CvPdf/C7dFK2N+L4d9rf8y7KUwc9sBnTAeZ0uKN+/Ds48a8nvM1lq5D3g7UlhVr6W4AQW35/LGIA2d6lf33ntH+JlqKtHg++7wref4Z9g+g1bUJxTIdF28S988B+OeUCWn3J6uX3H5jGzy+kDiiLJgKwvNkFTYo2y9Gq3f+cs/AfrkP030+3TxbL7Pk+J69pHwWgrezFpuK1bi14YC4Ay3o/SBFmUTEC+/+VlSVase2tRW93glEtK+TuhJA1xbGE7rOhP3oHYkvQar5ranum3Nafa9xdFGX03PQY0IEzO5NaDqVldv6tW11BRpad2O34dWwPh/ht7rQtHULXH2BmW8ENDuiAFDs6kL4U+3veRY+vAubdp7ITmF2tub1nK+xdP2uB83uAQQLtqNvaAhDP65EofbVfFkUcYDoGpQs7YQON2GLqwP+Wyrx1OAQBp+uRP6pDri2NGF0Ultp1kpQY7o/736gCJGgB221G1D+pBchbc3ZmYJvXy3aRsSenh/E0FA36tbatO8WAstiuTTxajPcB4JY/q0+ce2H8JOK+b4DxUt6P7oSQO+OTXC/egmOv5Xxsg81X/Sjy+1C00iqGB9B4MU29J7T/iS6Loj0UuxC14esrWULh3Lk0u3/FdsfrUOd4dXy7CCOjh9F5wOA/+/d2HVkvtu1bKjouYALFxpQpC0hWuqmQhPKL4fV326A0+GA4y9syFO/IqJsW9Mg7jEX0FeexYr3lA8DO0cR3tyNV3saUFHiQEl5A/o83XCGR9H0om+OjYB3odJ0f65r7cTI+NsYchchNOJGc19wDj8ehDBxStzfndtRV1UCh8iHCm/Rvlpsbq1An7h+Fx5nKSE7pjA5odyB0Oh2KtfefutiuANF4P+xG12TFeh+YxAt5TJeOlHX8yq6N4fhfbIX3o+1VU0iv+1B2/7573dIdC0oelzWq/pQcau2gNLGhonF6MZCVD/bjTpbGKPtB+FnQxxRVkWuXFLeb/i88kZE15oPghgTb06nAwXqEtVyB+7dLN6HgphQl2RZPhxP7ENnCRD4+y4c+kBbnLEIIvLXZZEH3aAuoOtGBFNKBX+RXfmLXhw8EEbJEy2oWK4tUxTA+Y068e7HxPvqkjhXAhh4rhd4vAE12iIiotnIYsNEBBPeXrRu3aCOSavtwOh5U41aGadYjKYj4vORJnVM6P6ANg/FSnQct6iBT/nQJr4rl+PvhNg4yY9FRqiPzSzehNpnPGKZskqCsN+DtnptDOrKDaiSrb7mY1tsbnSg8hG7OPhhBExd46be9aLXMC51U30bPL+1+G3oszD8r7RNj6NXxt+az10bc2Qce6qMc3SL6xeEZ6cabhtqu+DXw9c0/rC4rBZtrwSsf50S18nzjDaOUuy/6UCS9VL5OIjhTrdpf36EP9O+V2jnYTV2yjQ3gxKHtnYpn7u2ym1q48Bi601g4vD0/AOW4ytTzPcQP6+KelzFO73isxdN6+T+Zp7PI3LecI1La9EhjilZjFXjgysWPkocl+OgDXEi6TlLWjxx6+O0xau4zIXW/V5MXNHWSSUX6doct0ur0jxedfy4ej30sDCO6Y0g5DOMWdfzi3dNsVa7/r2/DcHXWascb3FZK4Yt85U04sBncrzvdJyTcVxec6u0Mtf8LJ34IinXRKSniXMeNCnHtQG1+/zimLS0Jq5x6Jg4Zrkdca1aR7Q4mlZ8kt0fxXfbhy27wwcHy8X/a03661wqc87vJ33TaU/GwU4RBlPavAOzHDuth2VIjumPjSuXebe4T5rjVopx5rF0ov0dy6snpxAwpAeZZw1o1zPkm74vF5c1ofd4fIinnfa0OL+y02+RF03B94z4bkuSuVq0c5rOL6fjkByfG9uvcr2Mc0SkSDu2AqWXX+B9cwy6hEuy8rTehvkbGFGAsoeqxbsP478z3QPSyJvUvLEKSo6s55mGe5cShxtdsfkH5PVIeu9O456XIEmenZR+7ePWEXmWocyXLB+xpOefIo4rc4To25BhdcB0b09xLolzmE3Hq7h7qJ6O5TWYEuUJvUwi87RnhhE03jdi+5upHDDLPExJC1rYixhQJY/PfD8wmfr9MDoa9TSilfmSTKQyc9xJnqamgqfFEgfK7o5r6lPkrd+NCxfeQsMabUFMBIGXOtAVaUD7t0uxTFtKtOhcEeW1A61wmfNmc5al34NFXhYQ66tlJYu6lrKelo/vq1L+T1w9Iy5vkjIsX6aTP0pzLcMvMllqmIgg2CcyQncXJlbVKWO22zcDr29zo99YSrnFgcahPjSsF5/XN6hjuzcXwrb+fshb/MDxxDkVpvxj8MCOyvWikh4zjo66KniulKJFjit9ogSRo22oEoUurykSBMRxbXG1wZenjkEd6qtD4b8fhHujS1z0xOLVYlK42iH+DePEO9O3vdCRVpSXuXHw3wtR1yfOZ/ApVOaJSl71RjQdNt4eZbe7LXD9ZALLvvk9ZQyjOv62S5y7G8Mz/soziYNP/g3GbHX4gbhmdRvWwS67mU560Vopxx+GUKiMjRzEU/flwddehY0touCt/mfVRXHTK6tC21HA+fQghrpbcMfvmrGxc0wUHdM0OSq2UY5WcQ8tajDuT1zXx0QheBaJrnCzCLdnZYwDqp8Vn4ca4TB0oZ18WWRc3w9q4aaPrxQ391l1282H49tD6HtcXksHGnrk/pwp5zOI/L4XLnGNus5r17itDPipC+6Xz2prTJvytanx4WM7qlvltsW+nnfCJsdBV9diQGvUSn7OQXi2i3jSHsTNGxrFtRbfDXajXpT4x/e54Xouje7QC52u5RhY5Zh9yLvvKQzKc/5WIUKvurGpRhSwUsaJQjjl+sr10MNiCM7b5V8iv9jvwobafoRuq47PL2Rj2LHE4uf4c81om1yH3TJePijSyCqr7rgzx4Hx50RB+Uch3NXwAyX8txeex8BOUZgeNGagc8/P0o0vMe8fRGvDGJbVieMS+yr9K7s4G42vA83fD2Gd2M7g09VYt7oQeWnHpyKUyIbX44fgT8iLgvD/XJx3VWlcupzZ3MMn8vsBuLbWouuUDdUviDzrB42wn9+LTTs6ROyco6l/QdcOF16fEvG7W4TZC9uxamJA5G8W4Z6RKfzLvlq4j0ZQ2twtznk3Vn8kKjLVTeja14Sq/SHYH+0Uy9tRetMourY3W+wvjbR3awnurxLvB8YRMAflx36MDQH2CodI1Rl45yCatrTidMF2tMu42OZA3ltyjghxDZUKXYq0I47nob8uQHifqBT5wmoeIwpoPvF3/zkbKr5RGt+TIsvy/7xIHJGo2gUNldU086b8uxvFebQr+WMsz/y2Q0lbwVfUOBy8sRSNP5DnO4juR0QCekvcu7d1aOEyR0ny7PTJMp/Is9zDuFzSopynktY+HlPKIpaN0RbOvtqELbtPo+Bb7eI8+9DuyMN4pzj/v5vjMBwRr3aJsDqrxKtBdJbbEDzQJPKfLpEGazGWfz92d4twda9CcKgVtRb3uZnLAbPMw253KttTwl7EABnvU5UJ5DwqGytb4RX7azCW+VxblPuDMaTTizvJ01ToA9k8UYTC5RYNnUkaQmSe2bEvhLrWRhTdqC0kWmxk3lyzAbUvhVDwoClv3iHuNxZzEslyWdVrl1Eq51oZbEHJFTV/a9KH2CtpWcvHvyHzsCE03h0rIZlkXr5ML3/MQhl+sYlaOH/+vPYpTe+/Ht2xYkV0y49OR69qixShQ9HHxPIVKx6LHvpQWxa9FD3UIJY1HBKfdJejY0/I9fZGT8RtQFt+X3/0rLbk9I/leiuia//2UPSP2jKFdgxrnz8xfQzB/uhWq+MS/1M5hrU/NO1vdjIOrw+1cIkLAwuBHuVcV/z4tPr3R+PRPWvV/xd37uLsTv9oi1h3R/T197VFWtg/9vP4NZVwKtka3fmz97QF2vVY0RPV9jK93yfGxBUwuhwdf3qt+E5cz5C2SHP11A+jW8T/2fEzfX9Xoyeet1pXP1bDeSX1x+jrO8R6a3cm7O/y+N7oWrGNrS/pMcMqXmm08H5s1PCNdo49Ae1vSb8uK7aK5caIIc7lOXkuhvC12qbm0uhj6nnH4rz1MmvaOd/3w+jpT7RFCi3Oxu1TLPvu1ujXDOkjZuJgdJtYd+1PDN9YnXOgP7rNuTa6ayz+SstzHv87ub+d0bGUkVS3cOn67Etbxbpboj88ZUq8WpyPywOSUK9HfFhcPfFDNU6JeBn3/z99L3pQiYd7ouMfacv0uGIV9klYxgE9rT0o0l/c9T4b7b/PtP0552eZxRf9miTGDT3P2BLtD2qLdJnEJ3E+Ms/Y9popj9KW7/ln8zZmkIXwSZr2/lamf/HdjHmWNT0sE+KWdq5bYvmYYJVONep2LPLqB8U1/VRbJlz9173q8rUi7RnPRaQneZ2N+8sk7V0e26Wsu/df4wNSXW4RH3TacU7nXXocWhvdORp//fV9GK9/8vzzcvT0izuU9adfO6I9J9LKtJI4He1RtmMIZysW9/HM8iZtP8Y889PT0f5tG6NrE+694pqO71HOb+c/mcIwzXteQtxJ9f/N9HONxf/T0R/Kv0Vai/PJiejeko3RbT+aIQ/Wt5dwb9fvGSKv1QPA4lx0ifFiOl7tibtxibRdI5eLMkpcfiPv7db7S6scMOs8TD9OUxwzp309DZrTpginceVYtk6nuYzijlXY6XHksehOmd89uCt6cOxE9MT4oWhPw9fE8rXRHS+fjb+uV89Gex4Ux/ecfr21OD3LfJIoXZnVu/T6iDlNC6Lso6Sxp8en041+X03In/Q6ibEsYR3n9bSkp69ZlS/TyR8zKsNnkOcvMOP1zEqPiZD/EHxwoObBovgJ5JY7sf1R7XNK+XA45ci0AYyfMrT/fuzHuJyx+ltO068wDrR8pyL+15DbKlEv9hXuG4Nfax4KHOtHAE7Uf9N0XPp4uXBv/P4WG5s4Tu2jFD7+OjxhG1oeMZ27OLuiB2tEqPhwyB/f6jb5zvn4bj+3VWNQBGp31cy/jjgdq6d/HZUu+vD6UBi25nrT+ENxBF+tRs16wDfqV3tNRAIY7wsDj26HM25d/VjTcM4Lj09c7eaWhP3ll9SgRewv8KIPll2H5+LRFtStMcaYPDi+2aKEr+dY1vcW7wM/Dslzfrja9OuDPsbTqAAVHSN465d1ib9SrrJjnXgLfzpD/F5Th6Gxk+h0mlt582AvkrEvgoi521ja5iNdB+B7MQBsrsf2r5p6J2j5TbjP4hfdGU3Bf6QXYdSh5VFTfvH5QlTXyvzCg1+YfzW6pyizX4iTcHy9wnS97VCC/9wlTGnnMvf8bDbxxYl19mS/AJSgaLX2UZdJfFrtQKX4//4jWp6hCR4/hKCtAWXrk+3X2pzDR89vLNJexSP1WbjODlRXmI5tdZEIRXHOn2QcYeM4vi7SkmG+lLzCO9R7xzfK4DCey22FyvCHxP2ld0/Nd5QpY8jje0GJtHNsWESHGjjN8WFGlXhoU/zdLN++Tjn2S1dmChPZQ8YNd2cQjm+0q7/697Wj2hFEV1PT/PeIvHW56VfuLORNny9C3dBRnHzeGX/vFfL+/C4lXGafH8+D88H4btA3OrB7/CiGmh2mNJjEAw+Zygf5IltQrj6m5tQFuRJlJcaBPAUovFu+O3H/emN8y8PyLyfZXzrlgCznYWbBYx6lbJ2QNkU4lSjHEkD/W9qxZC3ueDH6/naMeDpR43TAUVKBBjn55QOifNceP6dKcKgNXZM1+MG307zeRLkw5ceYUh8xp2lhVbV6nxv6RcJjphPrHgWoVMqCvRg7nkk/hFmWL9PJH+e1DJ8bWWiYmBL3Jr94L0LhbeqSaXkotMuAmVn++jJxyeILPFP/cxzDotiWON5tXYp9jSGoZJxhUSmXF/lmXP43P/z++FfgouzULTLWybQHFSy8cEjcIqaF3pd/FeLqh4nn4/+3KeVm5H9/Ug2/5Q7c/4DsvliL4j+T45g6MOwNYCKDbqAFNtNowQ/V4yn8NJy4f/95TMkDOD6BSXkAosAiY4Xzy8sTb1iicCwrQTMJv39WaXQoKjRff0kraITP4nzc8J25c9pll3QT7ZiDwUkRs+bP1IQablbnHKtsWIhMhTFxRlwH7zAG9rXBvbVZHfeWrs8imJoU+/b7MPrKADqedMH1fWPsm52sp+uLkzgrL0D+ZUwkxMEAQp8qqRqhjONECMGj4s15B5ZblLD0sB89H9/w5/hidkaxF9pu1j6ZhRBW0mx287P040sBbMlOURTwk559WvHJDufDDlNXaPF/RoOwVa1DkcV1SG7u4aPnN+u+bJHfLFcr9HNTiGUWQ1OU6e8uTc2pu2X+TdaT6DlvT7xC1mumc08V8h0oE4W4uOEcekPjZtMklOlYvQz55uv8BfVtMpw6Lk8d64D77/0oaO7DYEeN+nQdZw06D46g824/uh7L0rCHZEReFDe5ZpbzpsiUyJPE//Ud9mCgsxWub+2NKw/klh1lT4gUcaQNm+5Ux14PHPYheFGPFOmxL8tPuNfeoFz/SVz6SPlzlm5GnmX+UYjlph851P0lSq8ckM08zEzkaUGlBGSRNgXtWMLB8wllkrnGnepHa5I0zhp+/Do3gLbvh1DT0YKSjIbcES0wfaJkq/pI7D43ignTcA6rsoBeFhx7N74smNrsypcZ5Y/zVIbPhSw0TGRpduG8IpS6RSEqVuAJi0x1GNh8P0rNmbIzRYFYZtGfyvcQQsrkQsNoc4kLZH49OaAUKvxhc5a+eEQ+uay8O5fLs5UFb/mXH72NFudT26HeeCbDWgHXBmfXr3H4hRZUrwECIwNodVdh010rsaFxIOlEoUY33xSfJMKT6hwH/v3uxP27atGhhLdWkYpElEI+vjCHeCESmrTQT04oTFXZFOc1nzJ+WoScsK5xA74iC4dbxXVwd2H4txEUfLNaHfc2o4gywZdr3Vdw59fKlevY9PIYQnmlqH4gvl+LPpll3Mtq4jWjbKdrrXEMP20zxT/11TqopGqEMy7UioOTJ5LhDPnJKoSZWvYnM/2ylqX8LOP4kqyAL+TfYBFW6ccnqcBRiRJxvWKF3TM+ZX6A7f8t01/gshA+Wn5jKT8/C5O6iUp4ssv88VSs4W427lDuERbSzX/TuqdKeSja0CDWne4FFT7+CxHq5l+i03T7sqThmroXyRQCPo84sho0/rX5F6gCVCo9ZCx+gcqmyFX1XrtquRp2WcqbIudH0eEqFml0A8rF/6vdOYCxyTyUVlcirZ6GCyIPdvcQ3hpsR809N+PyMQ86dtaiXKT7YpfFxOdJLDf/+BETnNutdnNBkkay9PPrdMsB2cvDEqm7Sf+YsxV3CkSFKMGfLINs01Hz0CAGnulA6IHvofGeme5dRDkm7l/KnSCj+ogTBSmygBl7I8cR68oDyLB8mV7+mFmZ61qQhYaJPOQrraVXlb9mTxR41ldPF3gu+vErUdCsLi9JLDB5ReVX+2h0VSk82bWCtA0Fsglq9W4cls/fTvZaxM/lDp45JP614Y7b5S3WhuWr5NIaDL5tcR76q6fCEF75sJc3oPONt3Dh7Fs4PNiNlvJCXD3SgaoW65mkU7F9Uf7iI46g/23rfSsv7bm94iIoXZ8/nUO8+Lx6W786125IegEyTRMfWhdmlTO5JbEF0+zqJ7P/7TPvRjUjSu+cReGgrgodR2xo6DuKk2//QYT/SRwd6sTu8qKE7pxW5K+OLlF4mVjfjpHfvI0/vCeu4fgI+p6t0yaEnKssp2tteJP96cOmeBf/Spw5fCZi4/KARLjPNSebH9nIz+YeX2aScXy6zYGyElHY1bpCB44fRHh1PUoyvn5ZCB8tv7EkSgFqM3EuRRD5RPuYbWndU1V5RetQLdKK2gsqDL9XVMer7kfJgj6vXf9BxLqxR/8Faj67sIZ/Ny6qo6L4qvduy0be9LEPHduaMDDhQLu4b799Vv6ftzDS0466e9T7b1oyvOfNTh4KSmrQ3i/ykj+8jaNv9KHdVYIb/ANo2tazII85n8u9diZplwOyloclUtNdmnekLMQd23IZg9NwRuxLPjHgTXfsKQDqK/4JBbN9ihFRVn1BLd5lVh/xImSVBWiN9HbTD7epiXXnqXw5/2X4hZeFhol8rLLLVhlfwmMtpdD76WdMeY4y1K9WCzyh/3VCRIsalDmsistnMZnQHTKCyXfk7xUO2JUK/DLY5C+y505bdvWPHO9QHqfScWz+b9+zIm4yh14VqcJwg7N9UYbzGILn1b/jfDAMV2kVaofU8YZhGVnLqqZnX7+xAHY5VvCFITwln/HuC1sWRFMSBS/lCM7JX37MQhjevgFV9R5R/RFW2ZV1vYHziQUk2eVV+5iK7fY7lMYN3+/Uc4oXwsQp8Wa7A6uMBeKpqwkJPxKaUAqQ6Up8/JzwwQRkTHaIyGWMkVOfJOwNk+9nsrd4+YVquFme84ch5RhizvlxSD5S8PHdaHEWwmbsE30xpF6HlPRfHZ14qrkGRctFYSvWUyPxPGzlfXEFbOUV1xBmLavp2iYqoOItKOJVYvyNwN9ZjE2u2XThFuljk3jzivzCIkuITJxVfg2tWDWLX4WzIgv52Zzjy0wyi08q7bGLsiv0+SAC3jDsD2b4ZAfF3MNHz2+MT0GK0YamLaTLCT0GLiE0p6d3pJLOPVWTJypi8mkEshfUZAAnjkAZi56Nhq305YtKlHzXhzqZTL6npNfp+JdtQRx6We6hGvev13LALORNU4FxeMR/dra2oGZNAfIN3emT3seycM/L2O89cG3dgDY9PeXlo3CNEzXPDmJfswiP8IT1dZmDbN9rZ5J+OSBbeZiZDcvtSgnIsmwtj+WEeLOJY5ExcFZxx6Tgy3clzwO18odT/lCmPI1APs3D/Ip/QkFmT3ohmie32VEm3izrIyIfmQgqpTsUmoZ5nZ20yMnfV8uCji9lErfnq3w5mzLX4peVyS8LSh4SwRJE/0umx0VOjuKgrFxbsWw5EpWyCpEtviky2P8xDDxaBsv6i7iEB39megTh+WH0HxBbaC7TxvXlocjZIrboRf9r8tn7Bp8F4dk3gPC7BbiraGGLU2mZmsDw93cpE13WNFfHbnBqOIfR9dIwQnG/BIXhHeiC/4MI1q1R17YVFiLv3QAOeU3hhMu4LANjdd50i3+6bivFQ5vF3vb1Y9g0FivsHUDX8RAid2uTAeYVoaxZfBrqgSduErIIAj87qCTCGa0WBZ0SUdB7sR+jpv1NicTYdVxc70dKtPDRCqqi8nsurkAUgvdN2fPEmlXPhPCrB037m4LvNRG+IvQfKtEyjlvUQqhflBji4takF6+/qX22orW2JqWFceI5hzAqjisuNd2UrxaOpszdwKfU+CA/isqNuXozfc4iDtwk36dw2bRS5JxHSU/yu6vmDaQy3+laj1dH+nFQn5FPJ46560AYE396F4oyHvOaD8dm2UXdg55XTMfwmUiPgwPiQzXudczUDJOGmeKApSzkZ7OML+mbXXzKX1sqQtaP8Z8dwvg5B2ruUVN0ZrIQPlp+43912PTIWZH2XurPQsNNmv7EpjRO+k0NwJEzoxgWed78SOeeOs2+vlKEtbher57AMOrmPMlf2mJpR1xvZUiJOMZXzfc4cb1eE/mMrQb3ZyO9mslHkv59m/KLcdHTNXDqeU0W8qY8rWvKlHnizysiDit5kPguVkGf3T0vgWWePQNRKC+aDMHzpk/szSiCqY/kXWpZXMV4TmZ7r52jtMoBmuzkYYns99SgxKpsHTsWO+o3qPvKLO4YGO9Heh64r8u6/CHS1EOyIe6WQjjknC4JL7tyrfBFcc+Xf69aoHyBKBU5N5IcUpxQHxG0+xyq7oX5duF92VQW0MuCq1tQdrfpppiyXDdf5ct5KMMvAllpmMCtFdj9QoWoeDTh4cZejPrkpDu9cNc0iYzTHNDazdR7EMOH/fCbmo+UAk94AAOv2NCwwTy7us6mPHu2drcHXr8f3lda4drWBt+aFrQ/Mv1/8tbUob25CMH9LpRrx+X3etC6vVYUKmyoeKFhulCRC+//Cw4eEOdqeMkJSzZt3IRWccN1PNGH3cbxe1o42460omp7KzxecT6+UfQ2VsE9FEZRcztq9FnRb6tEo3Lu0+GkrvsI2o7HN3ikT4RZazcqbF60bnWh9RWvOtGK2EeV24OwDP+H9a2KguMj7WhZE0DXY7Xaul54dtfC/WooIVZYK0D198T+MIqmGjc6Rqb3V14rErLDtD+lYjIMd50WNt5hdDQ+jL2imJ/QQVEr/A+/5oHPH0TYkHBtItbK/fUe9mlhVo5akcArXtitDlOR9ELoiAjfJ7V4ONIh4vxeYH1id8j8W+TtWhT+XxsV5zARX8CKo4Wxds7Tx/AwmkSlJC7ctEYMvLIL7r8fFech090AWl0bsedCKSrkc9Jjc44ICeesh5kfbU9qYSau0XCnG5u2eLCsSp5HuvM1LFS61uNVEL2ucrj3q+etrLujAwFbBbq/kzgreTryHI3oE2kmsE8ew4Ahv3ChzSfiYs/c8ov044C1OednmcaXjM0yPt0iCg0uETIi//OXVMJhnHvk4ijc6cxlImQWPmGMNsqux26MxnoKFKCyuQVF53pRdd8MaU/K4NgyojdOdtaiVrlOIs870Irax8axfN7GjKZ3T41RnkYQFvcsD2zu0viGizO9We/GbZV2jOm1fKfheruq0PTmDahuq4ublC+wX17vleiVvYbSchqHTPfnrmfEve6/FaO2L4CCqj7sqzXeReeeN+XdXYYW+ZSHZ1q1e6Z2X7mvHJ7/VK3cx6bnScnwnpcgdZ6dUp4D1U/Lssh0mU+/v+96RTbYVKMkW3XSDO+12ZJWOUCXpTwswW3VaI+VreUE5iKcDcfieGK6zJdZ3El2P4ovc8XlgaJMWvF0fJrKyDzkC0TpyYOjoW+6PnLAkDfL+5xIZ30WebNt8iDc9XreqpcFi9DybJ3hnmeDTZadfnoQHpEPJpsAeH7Kl9kswy8i6lND42X2fNhpl08djO7ZIZ93vCK6omRrdNeLp6Nnf27x/PHQeHSvvt7fjpmep6o9b3qt9TPEY8/i/uh0tP+JrdGv6fv68Vj0vbhnz0+7dEIcV91G5Rmy8lnMG+v2RA+eMj/zdfYyDq/Yc7ITX2ud26KPPd0fHXsn+fFdfmcs2qOfu3h97cFd0Z6x9+Kfjau4HH1vdG/0sQe1sF7xtejWJ3pM27Z4nnaK5+grLr8XHfvxrujWEu24U4X/J3LdndGNa+W6Muz3Rg9NjGf2rGtxrQ8+/Vhsf1978LHonpdPRC8Zntuvs4qDl7XnDMc/B/1q9OzL08fV8zuxKPa89PeUcNvhlM89ThVfxJZf3hPdETuuXdF+uZ4SfuZn7v8xOv7cDu2aGZ8rnIRyzvr68rr1R0//zuJ57iJ8D4ntqucxHRcuy+c2y+ezxz1v2eKchcun+qO79DiydmN0x9MHoyfkLt5/PbpNLNvxM9Mz2pNZyHT96aXoCRn2yjWaPu7T+nOgZ6A+w90qjl+NvjfWE90lnwevbXdbQpoRUjxbPzmLOJAirZmfg62bU36WQXyJXRP1T4PUz8KeTXy6+q97lfUTwlPPKzN47nZ64aPne4nhe3XCkL/K43/uUPS9d9Tj2Paa4dgzOLbkYak9A928Dct886oWb9PIq5PGz8Rnrs/mnir98bVtyrEl7Ft/Brwxf9eWTR9Pijikh2vc/SFZ/inuccb0anmPU6nnmeK+FqOFkdVLhMu2J/ZGX1cidBJp501Jrr3xOujxV9mflofueF18mpbuPc8yDqbMsw0sr4lMayKtx8LeeKwzSBo/xTYt8+Z077XJ41WyNKjuz7CN2LGlWw5QZZaHWZS7pCTpWbnGDXqcEHG8IUk4ZxR3UpRJtPLHdP6T+tynJeYvMVb5AtEszaqeqtxXd0W3aXmzrG8p9zlz1NbToYjzp1/U6zravUXch82uBg9Gd+rb/MlZZZma35jLF3MvX1rlj+mXuVKX3XLJeD2z2jCRHWej/fetiG55Ub24ZsluLrmU2/CirEmRGdBcXXvpmhbO5X/eI67/ruiYVcNSsD+65elxUTXJIe0Gv/OfTHnDYji2OZpt2jv70pboivv6RcomWkJmWQ5ImYcRUVbNa70rSQMhzR/j9czOUI4sivx2DIfOlaDGaewiSUTXMqZrSi4E35tySEClRTfhKQSOjcH2n+MnnZ0XYS+aSuWwuMTZJILHhuFHCdbZjQM6FvDYFpsrAYz9PIiSbznBFE2UKg8jIqJ0LZKGCZGpDw5gYF8raht6ccm1HWXGMXpEdA1iuqbkIr8fVefVkeOXjxSh/j6L5/5/LCrAE5Vo2axMqTa/bEW4tygE7zN/A3fncGxenoHdLtR+P4Ci5kZUGuPvQh7bIhHyybkWutBa70ZvuAbb77l+zp3ILK08jIiI0rZIGiZuACY86Ng/jvBftWPwuyXX3y9QREsO0zUll4dLGH6pAwPBVajr34c6feJeo1tKsPuFGtizNcN/SjY4n/8lhtpKgFO9cLtccNXuxXC4EI1DJzHyuGkSyAU9tsXhhs8m4Onsxfj/6UD7P+zmr8N0XUsrDyMiorR9To7n0D7HXLhwQZk9l9LD8CIiIiIiIppfrHctLcbruejmmCAiIiIiIiKi6wcbJoiIiIiIiIgoZ9gwQUREREREREQ5w4YJIiIiIiIiIsoZNkwQERERERERUc6wYYKIiIiIiIiIcoYNE0RERERERESUM2yYICIiIiIiIqKcYcMEEREREREREeUMGyaIiIiIiIiIKGfYMEFEREREREREOcOGCSIiIiIiIiLKmc9FBe1zzIULF7RPRERERERERETZt3LlSuWdPSaIiIiIiIiIKGeS9pjQWy5oZgwvIiIiIiKi+cV619JivJ7sMUFEREREREREOcOGCSIiIiIiIiLKGTZMEBEREREREVHOsGGCiIiIiIiIiHKGDRNERERERERElDNsmCAiIiIiIiKinGHDBBERERERERHlDBsmiIiIiIiIiChn2DBBRERERERERDnDhgkiIiIiIiIiyhk2TBARERERERFRzrBhgoiIiIiIiIhyhg0TRERERERERJQzbJggIiIiIiIiopxhwwQRERERERER5cw10zAR2L8SK1f2IqD9fc06N4DylStR3BfUFsSbOtYmzlOeaxt8U9rCOAF0ye/dowjJv+YzXMJ+9I4YjzOM0Uaxv8ZR8WkRSDi+BTY1gdFXfIsjLHLtTK8Sb3vPaH8rpjBx2APfRe1PSVvPfXhuoRY+7BbbcWNU3/bFUbhluth/zecQcdT0bTjPRSEL+YB2veYSD8L+Xgz/XvsjW7IUP8la7u7jIYy2FFtf18+mEPQOoK2xChtkHiJexWW1aDvgxYTlPTgL5nDvmFsYRsT/L0eVyCcj2pIlx/JeRDPKWbjJOFmF8lic1O4vWlpM+pqPcuiSKtNZlL/SNae4cB3kMWYWdZElW3ZbAOwxsdBW2eEQb+HfnVcaFuJFEDzlAWw22ODB6Xe1xUbnAvCJN/vdq1CgLpknAfQWu9D14WLNWnJ9fCKB796EplPzVXK99oUP78KmnSfE7ZEoy0TBqdjVhfCn2t9EKYTe7EDT+/VoLLdpSzSTPrRV34lytwehW8rQMjiEoaFBPHVfPvwvubFpYxNGJ7V1syaX9448FD3cAvurHRj4/XVTbaBFLPLbHrS9akfLw0UidhqVoKZ1N3Yne5UsN60/V0urTJe78tf1lscs9rrStYcNEwstz451LvHuPYvJhHgcROBNwP7wdlSKv3y/S+wNED5/WqxlQ9kau7aE6BqypgEXLlxAn7mCMFe3VqBPbPfC40XagqWh6HFxThf6UHGrtoDm13zFT1Ko8bkBC5pKP/ZhoDOAuuYaxN01r/jRVVMLz2QFun/zFgafrUNFiQMORwkqHu/G0Te6UYFRNO3sReCK9n+WgltKUP1toGvfIYsfR+i6peV9DWu0vxdEEJ7nemFrrkPJLdqimLtQ+Wgd6pK9qoqQr61JiwzzGJbd5oANEwsuH6uKnOLdj+B5dUnMuQDGwjaUra9RGi+CvqApUUcwEfSK90oUrVaXEBERkbXgmz3w2OpRud74+2oEgZc60PuBHQ29P0DFcm2x0fIKPPW0uFef6ULPkaVVvLZv3g6nrwue4/yVj3Jn6tgw+s9U4yHn/Pb/pYXHPIZmK6sNE1O/H0ZHbJxmMTbVt8HjN41k0cYW9/42BF9nrbJucVkrhs/rkXcKgVfaUFtWrG5j5wACH2tfWQj7PWir34RiZZ8bUPVkL7yxbWlm3OfCKvjyXbAjiNPvxBd2Qu/I3hCy0SEf9rWiQHR8HGfixidNIHhcvG2+A4XmPmxybJw4t03Feth3YPRd605cM4aZMr6sCl3y874q8TlxzPXVsB8DT+rXWm5jAOZLrfgsDH/seop1S6vQut+LCdMvUMp4rMZRTJzzoElZdwNq9/mtu6HNdHwfBzHc6UZVqTw2bbzwK36EP9O+n4k4N88zeljK/++KP2YlPhWj6Yj4fKRJDUfj3AZXRDw70AqX+ZzNJ6Ochxuj54Pw7FSvx4baLvj1+J5m2FnS4/yZCCa8vWjduiEWFh2HJ5SxfzK9xuJBqQijkWD8mMAU4wxTj3NWx7EV75SNaF40rTOsq20z/TH88ce/oVbEa6t0q52v8TrocSr0ccBwPdW4quQpn4nrtL9Viycyr+mF36rbtkhb3th6enwKmOKmNnZP7j+ttDEVd17Keo0iv/xt/FatxylGEPINoNVlSsPm9B6LA/KQxPr6vmQ8OmCRHrT45o5t1yLuz0LkvBe9eniIeKbHPytK3tToiqW9lcWb4DLlT0qYbFVSP7q2yvUM4TPXc0iIn5leVwszpfMZ84sp+J4Ry4vN6U07tpUuDH+gLdIEB8vF8mTzFBnoxzZpvO+K49vaigEtLoZ8xvyjCb3HEyvpU+/Ka+yKpZHU8Tkx38hO2cFCxI+xFwOwVzjie0tEAhjbFwTW16D6q8k7hNs2PISaLzmwbCpsfS8ym+W9Q50zZyU6rArxUz60ie/KD6SeT0m9BqYwNIV/zK0luL8qjIHBNH/RTPOepue5ad3HDeLKJCLN1z7jsSj3pZnvJdDSidW4ai1OGe9Hc75vZJrvJrPAaVPP+8z3+7TSpiGfDB3rQK3cl7iOrSPJ83o578vYkAfhqlI4EnpLzEKa5T7LOPq95/GIRbpUzJB/p3PPkmLxKoOyuiVzuTBhf+q1SCh/afFyZaff4ppo95gtA6IOkkJaZSFNpnnMQsiobC7vNSLtifVjad2cpyrrWddF1HudoWyiuLbKbrmStYaJ0OEmbKxsFcmgCA19QxgafAqVeeKG6tqC2kFThUcYf64ZbZPrsFuO53xwHeyrZOEgDG/LRlS1jwH3PIXBoW602E+juawDYx+p/29aBIE+F7a4ROErrxJPybGhfXUo/PeDcG90iQuamPSs95kDq4tQIt6870wawmUK5wMiI9EaHWx/KTJrEZqng4YIO3kep88BjvVrEN/ReBwdOzaha/IuNP5gCIMvbMeqiQGR6dZiQKw/Lc0wu92JoaF2VMvP32gXn4fQeLeh09z7B9G8pQnjX6gUYTmEvjYH8t7qgGuL2K6xMHElgN7tW+Bq9yHvPnk9xbrfKkToVTc21YiM0pxgxHZbG8awrO4HynGV/pXduqtequObHBXnXY5WEZRFDX3aeOE8+NrFeT8mMt2ZEulFkZFvcaHnwjLUfM8w3nifOObGYTWDvcWBxqE+NKwXn9c3oE/sf2hzofxGPecacaN7KYSCB03nvEOET0LFdxIHn/wbjNnq8AOxzboNIl7Km3SmYZfE2Vd3wdV5FgXfEuE02InK/xjEwE4XOvZ1obZuDPkVu9E92I2GQnHTfVJUGo9Z3mIylA/Ht8XxPi5nU3GgoUeGoxNaCGUggqCIr5vcXZhYVaeEc/tm4PVtbvSnLqNPm/oXdNW5MfZZKVq6xTG1rkZ4pANVLV3oEoX4npAd9R1ieVsp8g93wbXTdGOe9KK1chPcr4ZQ+C1jfKrCxhZ1Ato47xwU8acVpwu2o11eM8u0Ic9LFEzcw7hc0qJcWyUdfjyGtuqN1pWTGDmxlEsUjPoRuq06Pg3LQsKxxCLA2VebsGX3aTUOiDjW7sjDeKdID3/nMxQoxPVX4lsQN29oFHFRbFfEi/oikbuIuO96zrhu+iK/74Vroxtd5wtRJ+8LbWXAT11wv3xWW2Na8BU1bwreWKrkYzKsux8RB/BWF9zbOmLhV7hZfPeskvpR/axcr1Er2M7POSjSuq6ppEjnM+YXWkN1eAwBY34emcBZWZCGHyeCxopCSOlth813wZ5WX+cp/Mu+WriPRlDa3C3i026s/khURqqb0LWvCVX7Q7A/2imWt6P0plF0bW+Ou69M+dpQXubGwY/tqG6V10Ocw/NO2IKiwF5tvgclyk7ZwVokcALDshfi3aahj+8GcEi82Rz21HM15ZegfWwInbVpdBufw73Dtv5+5X42cDxxwrgp/xg8sKNyffLhm6Ejreo1+HctnelhKPKTpsNW1YJ8rHaIOOUz//hhIdN7Wrr3cYXMz6pQbCiTDMpeKkfbUPVgfJ6Zab43J3O9bwjp5bszubbSJnwdaP5+COvEvgafrsa61YXJ54H4wI8xH+D8L1kYkpFpuc8cR0uq8LcW6XKadf6d7j0rRsarHS68PqXGq+Rl9WREHelJcY/7yQSWffN7yvUcfLoS+afE/sR9Vm2gTlL+UhoKxKID4wiYL9zH4loMIbEB1yjTslAmecxCyLhsLu81tah67TJK/3ZQxP0WlFxRy2hNR7T77Ux1pTjXVtktp6IWzp8/r31K0/uvR3esWBFd+7eHon/UFqkuR8efWxtdsWJrtD+oLfrwUPQxse6K+/qjZ7VFuqsnfhhdK7577OfxW7l66ofRLfL/rOiJntaWRYP90a1i2ZYfnY5e1Rap/hg91CDWXfvD6An9ixT7zIaMw0uGy9Om47l6IrpXHOO21/RzPx3tWSvWEeenu/zPe0QYbJkOS+H0j2W4rIhu/bEpHET4yDDb8pLhjDMJM7l/GWZiu9MuqeutWBvdOWq60mO7lOPY88+XtSXR6NmXtirH+8NT8XuLhtTrsfb5E7Hj0M9j19j0/0/N6vj+GH19hzyPndFDIW2R5vL4XiVubTWGh4U//vwxcRyPJfz/P762I/q1B3dGX5/QFuhh0XBIfNJdjZ54Xo3vPQHTOU8cVNPI0+Pi6msCPco5r3hibHqZJpOws6TH+bV7omPTB6ik1W1y+Yod0dff15ZJWvxbYXF8PQHtbwP1ehnSo8W6l0a1sPxQWyBp6z02ajyoJLR8JSG+amEQt239fA3xIZY2XjRec3GNnlOXr30uPgz/+No2sdyYvmQ6ldczMT7oedKOn+npIJO0cTr6Q3mshrSt+ERcg5KN0W0/MqeL6fPU88iE9P7pe9GDStzfEx3/SFsWiwPm9HA5OvaE3K5YVz+kQH90m3OtRfq7Gh3/O7nuTkM8sor7VrT0eN8Po6c/0RYptPxGHFssHnx6Otq/bWN0rUVauDou870V0Z3/ZNibVdzM6BySSIifmeV5lrRtJqbzDPILLd3GpRux3bXiuNbK+4QxLmvXPa00ph/bg+Je9Km2TLj6r3vV5Wv3Rk8Yr512HNP3FXEtv7s1+jWre6s4B7nu2p9Mf5OQb2Sp7JDM2Ze2iG0kXnc1b0ozjNI0t3uHniZFeMdFBW254ZwTwvCj8egeGQfE9uLD8Gr09I/k+Zvyet3vZPyZKf5mdk/T89y07+N6OcWcx+t5v5Z3Z5TvJeQNKfIri7Qy5/tGJvluKgucNhPCLZO0Gcsn48unqajl2bXRnt9pC2L0baV4xV3LzMp9yeNokniiXwdz/p3hPSsWr8xx2KqsnoxW9jHXkZRrVbI1uvNn72kLxNlYlL/0e9bef41Py+pyw7VLSEOZlIUM0spjZiezetcsy+YJcUqPazPVlfTrfa2W3Rae8XpmpcdE8JgHPjjQ8p0K068P+Sj5Zov4JoD+t0ztyfcUmVrmIgi81Ysw6rB9c/xW8r5ajRrZkmkQONYvtupE/TfNM/kWwPmNOiDci/FTpmbBhH3mijbPxLnTOK+3JJ6Tv+DYUfqX+rnbUfSAeDsWiLXEh94dE/+WWMwv4UB1hSkcVhehTLwFL03FWrVnFWaWKvHQJtOV/s/rxJaBifBldYHYk+/FALC5HtvNXWWXO7H9UbG7PnPLrRPr0vuJz9o5Lzw+ERrNLQljhvNLatAi4lDgRV/CLxuJJnH2nfiuigXfGMRbb3SjepW2wMqUH2N94v892oK6NaZzXlWNennOQ79I6P7tdKw2/WIwm7BL4oEylBi719xWiHXy3Xk/HLcpS1R5y3GHvIAfT8eXXAv5Dyn5Ss2DpviqhUF6RNpwGlN9Hgrt8kSB6v/miNtuQWGR+DeIiB4AF314fSgMW3N9QnzS8yTfqN/0S4FF2rCraePSFVPIng/GdyG80YHd40cx1Bx/XNOm4D+i5pEtj5rC5POFqK6VadiDX5gj2AMPwRl3/NovGbiEKf2XpDV1GBo7iU6nOf3lwa7MiRNBJN0uyLoP/Dgk0+PD1Si6UVum0PIbo88XoW7oKE4+7zSlBXEEf36XEn4z7n8+ziEmg+uaREI6zyS/uE3cG0S+7/2fwdivH6F3TiC8uh4t3xbx+80AJrTlU8HT8Ip4X/qX6U/g6fi6E/bPa38IeYV3KOeGb5TBYbx2Iv9QUskn+jkXoKJjBG/9si7x3rrKruQ14U+Th092yg7JhDEZlP/3z+SDrhbILO8d4nwdzhrxPhB/D/7Yj/ERcdf/lrg+2iKz8PHX4Qnb0PKIOQzzUPRgjQhDHw75LXoU2AqUazn2boreBrO6p6V/Hw++1S9yXIsyyW2luF+UA/PE9ZuYbb43J3O4b+jSyXfTcE2lTcvyqTW1PFuEgqRpM8VTOUoMT+SYVbkv87JmQv49q3uWdVld9qCevm4zm3znfHx3/tuqMSgyiu6q1P1S8x1lUHKZuJ5ZIn0dGxbBXQNnsms3q7KQkE4esxBmWTZPjFMFqFTym16MHc+kH8I1VnbLsSw0TOg3/yIUGis6Oq0iFA6KhKQuUTi+aM6NtPkTnHdguSneyMhQeLf2USH2qdz8b8blf/PD749/BURlXybP4OQlZW1d4j5zR51nwouzE2r2EDwzJs7KmKmLSHW3yELOjSOodM8KISgjresuiy7xhViWbIzepD42dnZhZmn1MuQnXCOVP6xd5YuigCY/5l/GhGlffn8AoU+VvSEU18WrYE4FyPD7Z5WbT1Fh/G1UpcWh8NnpxiALBY77UWELYqC+WB3P1TkM7xlRNEonYX8QhLzVOr9s9RgrvWAziglTl7EC2zLtk2ZWYZfETXkWxyJ8abmpsHGDyCC1j4vClKi3+8W7Vb4yXUicWT5usAwAJ/7MPFvy50UYGH0YEilUpItPw6ZrIF/nMSXvA8cn4p+uY5U2vqC+TYb1tGVH2RPidn2kDZvuVMctDhwWBaeLMxVMRB5wVLxZ5pEiVLQC6+j5+EKAfVl+Qhy4QTmmSVwyD5H7LIKpyaA4Px9GXxlAx5MuuL4vQyFzUxNiO+LdKj3GCtcWIlMyr/PDd9iDgc5WuL61V7kOacviOcSkdV1TS0jnGeUXdhQ5ReZ4VFbUpDDOnfLD5ixC5Zcc4s8T2n1Ce+T06lLYre7HSeTfZIr7GuftiRmy9ZryuoUxcUakDe8wBva1wb21WR17m1S2yg7JXMVl+R9FBTchBn7eIgHN0ZzuHUL++jJRbI2vNEz9z3EMi3JB2d1W9zRV6H0ll8LVD815lHj925RSafK/bxw2qrnFpoRL+GqKfGdW97R07+NhkcfLCyTys4SZ622o6HkLIy9UizObXb43N3O4b2gyyndTuJbSJtaLa699TE3k0UritLr2uhRP5TA8kWN25b7My5oJ+bdB+vcs67K6ct0uTWll9RSWO3D/AzYED9Si+M/k/AQdGPYGMJHWcEIh34Ey+aOOcTiH3vi52ZGYT+pmUxaS0sljFsIsy+brvpwYInp+k1ljy7VVdsu1rPSYUFuKk2WJ1hIz2wgicoyVqBzNvKUQQsrY2mG0uUTgm19PDiiFt1glWZMsg88J2aNBZIz+d+WRikgrxwSbGh3yC+1w6OOHp84rDTfOtVbjNUWhOXGhyezCzNLty8QeZ6BlZPhpW+K+xKt1UNkbwnGJ62bkWRYG0iQSpnTDXCrYtzrRPXYY3c3V4pYcwPCBVnET34Q7xU3AfSDJJD+6T+XtXPhCZvHs5ptMJz2rsLPmvD3JrUarVOWaPulb3EuZpExkssrNdq5pNkXBZ4YwCE+q8yD497strkMtOpT0FELYWChIkTamfxHJg909hLcG21Fzz824fMyDjp21KF/3FRS7kkzuqRDLZQRLK4+ctjxpgcr4K18EE4c74BLHcOfXypXza3p5DKG8UlQ/IMeqZi5yRa2wp5seI+dH0eEqxlfu3IByEca1OwcwNpmH0upKkQ+mI/vnEJPWdU0tIZ1nmF/Y11SK/6DNMxGZwOk3gTI5hvvLd6FC5AdBpfuN9sjp2FhhfYLM+JfbNPnsHcuTlNLTObaPAxho3CCuWzE2bRVpw92F4d9GUPDNanXsbQrZKTskE0ZY/thhwXb7HUr4BNJpiDfSJkWLf2mTec7l3iHlFaHULa5DrNIQFhWdYWDz/ShN2sgkf3CQ7370NprzKPGq7VDvJbEfKAzEzfZm+X5+Uo2HVmZ1T5vjfTzB7PK9uZn9fUOXTr6b/P437VpKm8i/Ic3/MSXur9rHuZpVuS/zOJqQfwuZ37NSlNX13qqp8hjY4Oz6NQ6/0ILqNSL/GhlAq7sKm+5aiQ2NqR8UoMpD0YYGsZXpnlnh478QtQIn7l+ftFlidmUhKZ08ZiHMKh9zpujNI7aXordRIrHuLPKwXJXdci0rDRNqAr+qfJ69POTJ3gKfpbMlGwpk89Lq3Th8QT4rNsnrcdmJaLEqhH2TiF5BkWCTNTpo3XdH5dM73j0Nj8jqMumeG2+Bw8xWoLQA2p8+bL0f7ZXVZ2Zrv4JdnWu3pVvsqHi8EyPjF/CH3xzGoLgJVHzpKrydVWgaSdFKKgosytX5dI5pIRdhl5EIIp9oH+dNHvKVXxbmmq/Mnu2LajNhTf/bluGvvmb7nOo8FJTUoL3/KE7+4W0cfaMP7a4S3OAfQNO2Hvgt73kifssIllYemZmpY+LGJgpVE+vbMfKbt/GH98S5jY+g79k6OG/XVspQ3o3qTTWt9PixDx3bmjAw4UD7G2/h7bMybN/CSE876u4xNtcmNx/nMK8yzC/y/nIdakSBRHmakzJ5oxN3ye7IttVYtx7w/G5CGRI4ZjXZ47wJYqCuShRMbWjoE3H57T+I63YSR4c6sbt85kntslN2SMYGmwgXS6vsyhC3sN/8SG6zEIZFwd/9zPDMEydLs713KESlYX21OGqt0nDRj1+JAn91eYkaTyzZsFwZIlKDwbf1PMni1VORuA1RslUGXq5annz72bqnzcn85XuIXJ25weiatZjTZj5spiEBs5atcl+msnDPmp182Msb0Cn2eeHsWzg82I2W8kJcPSInZ9Um2U0hr2gdqkV6UntmheH3eoGq+1GSohwz67JQOnnMQphVPuZFyKo15VP1zW7RUJXc/OVh11y5Jw1ZaJgQN0a7LAT54mcM130wgRPizWZfNUPEFBV1WYjwnsb5hDuF/quAbhls8hcE4xwNBpHjHcqjUrLzhIH5os20/uZZTASTNTpo3XfPTMA7ERCBuM66W11aFjjMbGoXrmDA1NVPEYG/sxibXBazFs+B/iuY73eyY59ZCBOnxJvtDqxKmgGH4fu+C5u2Ts+wnbdcFGDFTaD75aeUxgLfhynafW+zK/N6eMU5J4ZiRFxn+dtVBQpnuiHnIOxSuZzwi/AlhNKaQXpmtvK+xBucUojOF3UH2dprna+E3ld/P5hXtgLlV4+xc7KHipmosGzfgKp6TyyupO33Hri2bkCbntby8lG4xomaZwexr1mk9/BE4i8PigKlMdM6jxQxY+Ks8utoxarkv3xYm0LA5xFxzYmnmmtQtDwfebFfnyKYfF8OyMic2uMrSXr8MKT9AqSaCozDIyK7s7UFNWsKkG8YOx0JTWDmI5ifc5hXmeYX+XbctVldPxCU80vcpeVlsruyiDfHAhj93biIj/KR08r/EGSXeFP6Eq++8tR347Sd8+OQfLzg47vR4iyEzTje5WJohrSRrbJDMjfgZvkfj4QSC+t5DpQ9IvZ93KP8gpzUOa/SVdobuRkFMk6uaUgIywsXGlA013uHJs9Rhnpx7WSlIfS/Toj0XIMyR+oqpO2LSi6F4Hn17zgfDMNVWoXaIYsr8XFYCReb9ZgFVbbuaZbE9f+yvEBnMWlRJgnsk/e5LvivZCnfm7qaUClIL2+ZP8nvf1mwqNNmHvKVxGl97TMx93Lf7Mz9npVE0jxGFA1kJbSsavoJHjeKtFFSgYYXhvCUuDfAF7YoM5roeZ/smTUZwIkjQI3TkbqharZloXTymIUwy3zs7KRFCfx9Nb9xfCmTxqdrq+yWa1npMWG/pwYlIkr2v2R+ZMwUfK+JG4vINuo3yKwjlTxRCW8Ra3rQ80r8I7MiZ4ZxUOkqpNPX9aL/NdMzsj8LwrNvAOF3C3BX0UxtwrllWyXnmQjg4JBP/LHOckyw0n33+Dh+cVxEsAfmMnnnLMNMax3MWF4RyprF0R7px0G/KSWe86DrQBgTf3oXipLNjZEu4/GtFpW7ElGhf7Efo6ZuglMi8XYdF+H5SEmKMLRh1Z/nYeLMIYyZC6ufXFbCLKGV1NgCKsfvya64Qz3wmB9Xe34Y/QfEe9W9cMx0J1+osJvJn9iUm5HfdDOKnBnFcJIu0pZmGYcKSh4S2a1FvjI5ioOvzlzIn7PbSvGQuNmH9/Vj2BSfwt4BEZ9CiNw9izQpbmhFkyF43vSZ8ssIpj6S57UsrpAzLR+OzbIbZmIeic8mMDw4ID5U494ZI5hZHvJuku9TuGyKthER35R4K77LeJioFn6J6TGE0VcPxhWg8rR+tVPmiSSviLxJOS/x3SeJvzVM/0o2T+cwnzLOL2xYs16kyKGD6Dmqzi+hx73C1aLYJfOGF8V9wiXuJQtVDrwpXy3QTpknzZ2Cd0De+4VPIqbvpmWn7JCMXrl6D1YjFO1fFxUKWxC9DbsS7heKqQB6n+kQd+gi7P5W4gR38eZ474ixw1EhjvlNUen5H8PAo2WYoV1CyyfD6HppGKFYepDC6jX4IIJ1ayzCUBsyWPalFIXhbN3Tkii6p16csRcHf2bKz674MfZTeZ8Tlc4b55rvab/OHw/gXFyDrzj/N+VDY5eoRZ02Rbz9kqwqBqx/lc7EnMt9JpbpMtFs71lzYSssRJ7sLec1pQNcxmWZyay2mFPMovxlX18pwuMQxl89gWHUoWz9DJnMbMtC6eQxC2GW+Zj35eH4R/Pr+c3qFpTdbQrplOXca6zslmNZaZiQM8K2v1AhbqZNeLhRTsbih983it7GctSKgHE80Y6a2C84yeWtqUN7cxEC+9yo3e2B1++H95VW1D52ECHT9dLXDe53obyxF6M+sU+vB63ba9FxxoaKFxrgnO+K21wp80yIczwSVBodrNrf1ElRvGIdoOZue2Kmk4HMwkzrBvvTg/CI9WaemM8sD0WPtKNljSj4ucrh3j8Kn3Y9XTtEYc9Wge7vzFTYS8Xq+ApQ/b1uVGAUTTVudIx41Ylg9rtRXisSvqMF7Q+nvj0VbG5Uj7mhFq2vyP8vJzTqhbuuDX5bDVoe0P+/VtjxHsTwYRGOSjNoHhwNfeL/B9D1mPj/BwznvK0NPpFO+tI65/kOuzTpFcvOWtT+vTwGEZYHZHocx/I0xq7l3yJvRqLQ+dqoCEc5t3qGbq3A7li+osZX5VrUNIlCUaYZ+GyINNEq4pPNi9atLi0+qPGpyu1BeM3M8clSngPVT1fAdmT6vPx+Lzy7a7HrFVFYf7oaJUkubp6jEX2xPHLAkIZdaPOJ+N8zm3xPb7T0o+3JVnhk/i2OZ7jTjU1bPFhWJX/vTW9Ok3ha+GnpsfewT7svPIwmUVg0XsG8u8vQIu4R/mdaY+nOO9IB933l8PynauUX57j5b7RGs+HXPCJeBhGOzNc5zKfM84uCvywV5+iDz6fOL6HL/7KcBT6E0AfiPlEyczftrNHyCLyyC24lj5BpdACtro3Yc6EUFTKPtprfQJelskMy9jVlIp6N4qwyMajJLSXY/Y+davz82gbUPqOlJyXeNGHTxip0nSlCTf8+1KVxDHO7d0xTKg3hAQy8YkPDBtMM7la0fNJ2pBVV27W4r4RhFdxDYRQ1W4ehfKqLHEetDAdKKlv3tCRW1ySU+ZQwu8+FAXFl9Pvc3PI9PW8YFtdCCx/vMDpEPrRX5CIyZ1iSFnnazLfLPCuMsxPxzR6Zm3u5T5U6XZplfM/Khtsq0aiU4afTi3pNHkHbcRtqmqtjjQMpy1+rHahcHcbAAQ9s7lIUzZjJzK4slF4esxBml4/ZJg/CXa/nGXp+U4SWZ+sMYZZeXenaKrvlVnYaJoSC8m78ergdJQig1+2Cq7YL4+Kv9qFfYsidxs1VIQL58SEc7dsOW6AHbpcLe167BPvTQ/jBw9oqMXLdEZwcEvuMHMLeWrFPdw8CN5ahffjX6C7PcQtdWrRHggpJGx1uXYNSGenFDdReONfEnUmYFaCytR0Vt4gIL9arfdOqC9cMbixCw/BJDLWVIPJPe1Errqf7JwHkbWrHyJjI5EzdpjKT5PiWi8LM2AjaRZgFeuVEPbXoEoX4krYh/PJgg+mxhRbkMf/DUXQ/kI+Jl9WJfmp/NI6bH+zD0V+LcItlHCKje3gQdSVh9O4U4fgTkfjlYvn/PUfR93ABQj9Xz3nPayEUPCz+/6FO06N/UpjXsEuXuBk9L86l2YHJkSZxDLvQcyofD/3jEJ5KVnM2yFtfg8FHSxDuaxLh2CNu0toXGYjlK1eG0SSvs7wW3xzBYOsCzR8j49Ov1eupxodaNP08DEezuJ6eNOJTEvK8fjm0G46PtXTo2gNPuBCNQycxUpuqEDWdRxZ8MKz+3z0ehP50O/rGDqPT9KjldOWtacDQ8G5UyxuczL+bujD2yTp0nnwLnQ2lSiPA6dnMeh9LjxEM76xV7ws31mBk4Cmla2pMnkw3I9hdJW6j7TKcm9DljWBdx0m89XyDmgeemZj+5U4U0Ha3VeDm420iXtZi+N15PIf5lGl+oU2arBT2vmxIg8tX4S6lkrDQhUA1j+h+1K7lEaKQ9fIECrYP4dfiPvOQPKZT70F7+JSl7JQdkljjwHYRXsN+66FfeauqRfp+C4Min827oKUnl1vcM0SF/uFujJwUcfeeNNPUXO8dOvkLsIzvtu0odaR39koYjvVh+59OYEAJwyYMf+hAS99RDD1uFYZhnJG9MGcYW67I1j3Nkl4mqRf5mQd7ZJh9/xAicrx03H1ubvmemjeIivTNWt7QOYypv9yHX3dtxx3aOkvPIk+btzpw72ZRdT52Jj7+z8Zcy32KGdKlWab3rKyQ6WAQR1+oRP47A0odSb2nior12K9FXjWd96cuf9nhfFjeEW3Ybnr8bVIZl4UyyGMWwizyse29v0bfBuBQpwhn9wAmZH7z6yE0xD1yNN260jVWdsuhz0UF7XOMHNMkZ4Kl9DC8iIiIUgvsX4mqfS0Y0cZML4TQT2uxYZ8dQ79pQZr1/BwLYmBLOQ5VHMZhUamcF6JgXFvaBfvQb9BybQQKzTf5NIitXWh5Y+Em1pZzm31t+wRaxgdRPev502g2goPlKP95JQ7/si7WyyKr5jmPmdd6Vw7SwvXOeD2z1mOCiIiIyNpCPM0nUYFzO2rQi0O+1F2zF4vIb8dw6FwJapzz1CghBL0e+EpaUM1GCdJEPlGen7Cg8tZXon6NDx5v6qk4KcuuBDD28yBKvuWcn0YJgXkMzRYbJoiIiGjehM544fcOoP9N8YfLbjmf0ry5pQR1rU4MHxjG4q3+hOAbHMDAvlbUNvTikms7yubrF+SPfRh+CWh5vBKz6zxMS8oHAXj9Xgy8IicCrYFdefzsQrGj5rsNwEvDC/aUsetZyCfymANdaK13ozdcg+3pDlPLFPMYmgM2TBAREdE8mcK519xwubtw3l6HwW+XzH6yxFkqeGA3um/3oP/InEezz5MbgAkPOvaPI/xX7Rj87nyFUQSBV7sQfLgddXHjpOl6NfX/GYZbzqsyYUddf13SiZfnS95XG9H+cBA9Pw0mfUIIZccNn03A09mL8f/TgfZ/2G2Y9yabmMfQ3HCOiSxgeBEREREREc0v1ruWFs4xQURERERERESLAhsmiIiIiIiIiChn2DBBRERERERERDnDhgkiIiIiIiIiyhk2TBARERERERFRzrBhgoiIiIiIiIhyhg0TRERERERERJQzbJggIiIiIiIiopxhw8SSFEDvypVYuT+g/T3PLo7CvZD7IyIiIiIioiWDDRNERERERERElDNsmKC5u7UCfRcu4MLjRdoCIiIiIiIiovSwYYKIiIiIiIiIcoYNEzkTQcg3gFbXJhTL+RlWbkDVk73wvjulfa850yu+c2P0fBCeneq6G2q74P9Y+/7jADzP1GJTsdhG8SY0HQjAtIVpn4Xhf6UNtWXFYpti/dIqtO73YuKK9r1upn2aJcwxEcZoo/Z32I+BJ6uwIXaOA/CHtdVS0bbZeyaCCW8vWrduUI65uKwWHYcnROgBU78fRlu9Fn6ltWgbCSrLzcJ+z/R6ejifN62pn/PkFAKGMNqwtRUDv1VDNOQzHkcTeo+HlOVxroTgO9AKlzmMTRclsF981ziKiXMeNCnrbkDtPj/+db/87MLwB9qKRucGUC622epNeoWJiIiIiIiuOWyYyImIqJi6RGW/H6HbqvHU4BCG+upQ+O8H4RYV77Zj5grvJA4++TcYs9XhB0N9qNuwDvZbxOKLXlGprULbUcD59CCGultwx++asbFzDJfU/zjtSgC927fA1e5D3n1PYXBoCH3fKkToVTc21fQiYG6cSLbPTLxzEE1bWnG6YDva5f7aHMh7qwOuLW3wJWvkMDn76i64Os+i4FvtGBrsROV/DGJgpwsd+7pQWzeG/Ird6B7sRkNhEJ4na9FxzFhpF+Hc58IWl9hfXmV8OG90KY0e8abwL/tq4T4aQWlzt1h3N1Z/NIyO6iZ07WtC1f4Q7I92iuXtKL1pFF3bmzFwTvuvkgzjmg2ofSmEggdNYbxDHMOktp7u/YNobRjDsrofKMdV+ld2/Jd76mGHH4f8iY0eweOHEEQ1Stfma0uIiIiIiIiWgKiF8+fPa58oHZmG19UTP4yuXbEiuvXHp6NXtWWKT9+LHtyxIrpi7Z7o+EfaskBPdIVYd8UTY9HL2iLV1eiJ59eK7x6LHgppixRXo6d/tEX9P2L7urMvbRXLtkR/eCpuj9Fo6FD0MbHu2udPTB9L0n0m8aG6jen9XYoeahB/r1gb3Tn6R22Z6vLYLmXbe/55hi3r2xRhMXZJWya9/3p0m1y+Ykf09fe1ZdLVE9G9cvnT49PHHOyPbhXLtvzIFM7RP6rHt/aH0RP6F/o5P9gfPfuptky4+q971eVr90ZPfKItlLTj2PLSWW2Bfj22RnsCpjCeOBjdIdZdazi20z+W57AiumvMHA5no/33ie9qXhdHaaQtN54fEREREdF1hPXUpcV4PdljYsFNwX+kF2HUoeXRIuRpSxWfL0R1bR0Q9uAXpvEOTsdqxP1OHglgvE+s8+h2OJdryxR5KHqwBg7tL1UAvhcDwOZ6bP9q3B6B5U5sf1Tssm8cAVMHgoR9ZqwSD20q0D6r8u3r4BTvl65YDbqw8EAZSmzaZ+m2QqyT78774bhNWaLKW4475IY/nooN5wgc6xdn7kT9N03hjAI4vyHDuRfjp+KPw/F1J+yf1/4Q8grvUI4X3yiD40ZlkUoch5zqM/iJ9v+n/BhTrkcL6taYwnhVNeplGA/9wjSMxYl1dnMI2+F40A4cPwS/cTjHOT8OnbOhYbNjjteEiIiIiIhocWHDxIILIXhUvDnvwHJT/VXSK8Kj5+O78hfYlmmfNOeD8Is355eXmyrdgl55112cxFlZIc6/jAm/H/64VwChTwvFl0GELiprxyTsM1OrlyHffHBfUN8mwwmDTazdlJd4ftKXliO+yeMGwNCgAIQx+Y486Ztx+d/M5+xHQJyrctaT8ceRf5PYjgXn7cbWEVXcmh8EMSbeLK+HWFJoV64qJuKGcxTAlrhZ2O+RDUvxwzmUYRy2aqwrsgwNIiIiIiKiaxYbJhZcRNaZlUq0dRXY2s2igh4nEkFQvn8hja18GIJXvv+0DS6XK+HVOjghvvQj/JFcaVrCPjN1+zIka9qI9TSYgfP2+OaHGK2BI7kQQkfk+zDaLM7Z9eQAlLMOx3VhwB3LLVoKpJnC+VP1sqZ1PWJuRp5VEN/mQGWJOLYjfnEWUgC+l4KwPVwKB9sliIiIiIhoiWHDxIITNUtZ9/0MuKoumB1Ro7XL90/T2IqtQOmFYX/6MC5cuJD01bBGXX1psKFAnvTq3Thsca6x1+NyQEYWfEG9rGldjxkVwLG5ZHo4xxk/DobtqL8nS8dKRERERES0iLBhYsEVwL5JvHlP47zFUx8jE2eV3g0Vq5L0FNCtsivzSHgD5xMfDyqHbmgfFTZRSRdvQbFufP8AKQJ/ZzE2uTrSflLGtWEZbHIOinMinE1DVKTI8Q4Ul7lMT/GYg9vsKBNvltdDhPFEULmqKIybDyS5gnseQrUynGMCwVNjCK+uhGO19iUREREREdESwoaJBZcPx+YG2OBBzyuB2ESNis8mMDw4ID5U415HkiEFurwilDXbgaEeeOIeexlB4GcH1aEbOn3dI/046DdVm8950HUgjIk/vQtFmT4OdFHLQ5GzBXYREv2v+eMbCz4LwrNvAOF3C3BXUZamksx3oMwtrlnC9RDOD6P/gHivuhczXdaYWxworQL8x4dx6HgQjoedag8ZIiIiIiKiJYYNEzmQ52hEX3MRAvvcqN09gFGfH36vB63bXWjzFaC6pwHOGRsJRMX7kXa0rAmg67FatL7ihd/vhWd3LdyvhtRhBTH6ukH0usrh3j8Kn98P7yutcO3oQMBWge7vOJfc0x7y1tShXYRzcL8L5Y29hnCuRccZGypeSCec05UHR0Pf9PU4YAjjbW3w3VaNvozCOB8OZw1wZAADx0tQ6TD2oAljtHElVq50Y9SiNwgREREREdG1hA0TOZGHoseHcLRvOwo+GMbeWhdcezwI/el29I0dRufmGYZx6G4sQoPnKPoetiHwEzdcrj3whO146h9/gO3aKjFy3eGTGGorQeSf9qLW5YL7JwHkbWrHyFg3KtIcYnBtkeE8gpND7SiJHFLD2d2DwI1laB/+NbrL0wzndMWuRwFCP1fDeM9rIRQ83IejhzpNj3WdWf76MtTJD5vvR6nx0ahERERERERLyOeigvY5Rk4KuHLlSu0vmgnDi+bFlA9td9Yi0vc2Op1LrT8LEREREVFmWO9aWozXkz0miBap0LHX4bE1oLKEjRJERERERLR0sWGCaDG5EsTogQEMdLrxcIsXRd8ugyNP+46IiIiIiGgJYsME0WJyI3Dp5/3oOHAOqx4dxL5aPouDiIiIiIiWNjZMEC0qdtSNncSFC29hsLUEWZ6ek4iIiIiIaNFhwwQRERERERER5QwbJoiIiIiIiIgoZ9gwQUREREREREQ5w4YJIiIiIiIiIsoZNkwQERERERERUc6wYYKIiIiIiIiIcoYNE0RERERERESUM2yYICIiIiIiIqKcYcMEEREREREREeUMGyaIiIiIiIiIKGfYMEFEREREREREOcOGCSIiIiIiIiLKGTZMEBEREREREVHOfC4qaJ9jLly4oH0iIiIiIiIiIsq+lStXKu+WDRNERERERERERAuBQzmIiIiIiIiIKGfYMEFEREREREREOcOGCSIiIiIiIiLKGTZMEBEREREREVHOsGGCiIiIiIiIiHKGDRNERERERERElDNsmCAiIiIiIiKinGHDBBERERERERHlDBsmiIiIiIiIiChn2DBBRERERERERDnDhgkiIiIiIiIiyhk2TBARERERERFRzrBhgoiIiIiIiIhyhg0TRERERERERJQzbJggIiIiIiIiopxhwwQRERERERER5QwbJoiIiIiIiIgoZ9gwQUREREREREQ5w4YJIiIiIiIiIsoZNkwQERERERERUY4A/39PPIYsmg2RYQAAAABJRU5ErkJggg==)"
      ],
      "metadata": {
        "id": "gMFzqyJVJJqS"
      }
    },
    {
      "cell_type": "markdown",
      "source": [
        "**wiki - The ndarray data structure**\n",
        "\n",
        "The core functionality of NumPy is its \"ndarray\", for n-dimensional array, data structure. These arrays are strided views on memory.[11] In contrast to Python's built-in list data structure, these arrays are homogeneously typed: all elements of a single array must be of the same type."
      ],
      "metadata": {
        "id": "vZocEjPKMvSR"
      }
    },
    {
      "cell_type": "code",
      "source": [
        "import numpy\n",
        "\n",
        "first_array = numpy.empty([4,2], dtype = numpy.uint16)\n",
        "print('printing array')\n",
        "print(first_array)\n",
        "\n",
        "print(\"printing numpy array attributes\")\n",
        "print(f\"array shape is: {first_array.shape}\")\n",
        "print(f\"array dimensions are: {first_array.ndim}\")\n",
        "print(f\"length of each element of array in bytes is {first_array.itemsize}\")"
      ],
      "metadata": {
        "id": "XB0p1kZx6hl_",
        "colab": {
          "base_uri": "https://localhost:8080/"
        },
        "outputId": "245a3386-d8d0-48af-ebbe-41bc1444308a"
      },
      "execution_count": null,
      "outputs": [
        {
          "output_type": "stream",
          "name": "stdout",
          "text": [
            "printing array\n",
            "[[21584 20668]\n",
            " [22092     0]\n",
            " [    2     0]\n",
            " [    0     0]]\n",
            "printing numpy array attributes\n",
            "array shape is: (4, 2)\n",
            "array dimensions are: 2\n",
            "length of each element of array in bytes is 2\n"
          ]
        }
      ]
    },
    {
      "cell_type": "markdown",
      "source": [
        "# Exercise 2: Create a 5X2 integer array from a range between 100 to 200 such that the difference between each element is 10"
      ],
      "metadata": {
        "id": "IPg0HnOzNspO"
      }
    },
    {
      "cell_type": "code",
      "source": [
        "\n",
        "first_array = numpy.arange(100,200,10)\n",
        "print(f\"aranging in 1-D array - {first_array}\")\n",
        "\n",
        "first_array = first_array.reshape(5,2)\n",
        "print(f\"reshaping it into 2-d (5X2) array - \\n{first_array}\")"
      ],
      "metadata": {
        "id": "IgGREBXE6hkO",
        "colab": {
          "base_uri": "https://localhost:8080/"
        },
        "outputId": "3513b68e-5ef0-4667-9151-e2dae1fa39f6"
      },
      "execution_count": null,
      "outputs": [
        {
          "output_type": "stream",
          "name": "stdout",
          "text": [
            "aranging in 1-D array - [100 110 120 130 140 150 160 170 180 190]\n",
            "reshaping it into 2-d (5X2) array - \n",
            "[[100 110]\n",
            " [120 130]\n",
            " [140 150]\n",
            " [160 170]\n",
            " [180 190]]\n"
          ]
        }
      ]
    },
    {
      "cell_type": "markdown",
      "source": [
        "# Exercise 3: Following is the provided numPy array. Return array of items by taking the third column from all rows"
      ],
      "metadata": {
        "id": "vGUfIQeePXMX"
      }
    },
    {
      "cell_type": "code",
      "source": [
        "sampleArray = numpy.array([[11 ,22, 33], [44, 55, 66], [77, 88, 99]])\n",
        "sampleArray"
      ],
      "metadata": {
        "id": "CZCms6KH6hhV",
        "colab": {
          "base_uri": "https://localhost:8080/"
        },
        "outputId": "006a1ec0-f32c-4248-ad41-f1caf8f51ce2"
      },
      "execution_count": null,
      "outputs": [
        {
          "output_type": "execute_result",
          "data": {
            "text/plain": [
              "array([[11, 22, 33],\n",
              "       [44, 55, 66],\n",
              "       [77, 88, 99]])"
            ]
          },
          "metadata": {},
          "execution_count": 30
        }
      ]
    },
    {
      "cell_type": "code",
      "source": [
        "print(f\"printing array of items in the thierd column from all rows - \\n{sampleArray[:,2]}\")"
      ],
      "metadata": {
        "id": "Zdd-e9XJ6hfR",
        "colab": {
          "base_uri": "https://localhost:8080/"
        },
        "outputId": "b1fc599e-e76a-41d8-e174-8f2967b91e7e"
      },
      "execution_count": null,
      "outputs": [
        {
          "output_type": "stream",
          "name": "stdout",
          "text": [
            "printing array of items in the thierd column from all rows - \n",
            "[33 66 99]\n"
          ]
        }
      ]
    },
    {
      "cell_type": "markdown",
      "source": [
        "# w3resource - Write a NumPy program to access an array by column.\n",
        "Write a NumPy program to access an array by column.\n",
        "\n",
        "\n",
        "\n"
      ],
      "metadata": {
        "id": "IAMO8vgnQyex"
      }
    },
    {
      "cell_type": "code",
      "source": [
        "import numpy\n",
        "\n",
        "x = numpy.arange(9).reshape(3,3)\n",
        "print(f\"array created now is - \\n{x}\")\n",
        "print(f\"elements of 1st column - \\n{x[:,0]}\")\n",
        "print(f\"elements of 2nd column - \\n{x[:,1]}\")\n",
        "print(f\"elements of 3rd column - \\n{x[:,2]}\")"
      ],
      "metadata": {
        "id": "8NQsQ5nW6ha5",
        "colab": {
          "base_uri": "https://localhost:8080/"
        },
        "outputId": "bf907b45-4b42-4fbd-8926-9cb24dee477b"
      },
      "execution_count": null,
      "outputs": [
        {
          "output_type": "stream",
          "name": "stdout",
          "text": [
            "array created now is - \n",
            "[[0 1 2]\n",
            " [3 4 5]\n",
            " [6 7 8]]\n",
            "elements of 1st column - \n",
            "[0 3 6]\n",
            "elements of 2nd column - \n",
            "[1 4 7]\n",
            "elements of 3rd column - \n",
            "[2 5 8]\n"
          ]
        }
      ]
    },
    {
      "cell_type": "markdown",
      "source": [
        "# Exercise 4: Return array of odd rows and even columns from below numpy array\n"
      ],
      "metadata": {
        "id": "UQeW8f7OSH4v"
      }
    },
    {
      "cell_type": "code",
      "source": [
        "sampleArray = numpy.array([[3 ,6, 9, 12], [15 ,18, 21, 24], \n",
        "[27 ,30, 33, 36], [39 ,42, 45, 48], [51 ,54, 57, 60]])\n",
        "sampleArray"
      ],
      "metadata": {
        "id": "bC2INwkV6hZS",
        "colab": {
          "base_uri": "https://localhost:8080/"
        },
        "outputId": "6c270f31-0f8d-486d-c080-4b4eff81ed87"
      },
      "execution_count": null,
      "outputs": [
        {
          "output_type": "execute_result",
          "data": {
            "text/plain": [
              "array([[ 3,  6,  9, 12],\n",
              "       [15, 18, 21, 24],\n",
              "       [27, 30, 33, 36],\n",
              "       [39, 42, 45, 48],\n",
              "       [51, 54, 57, 60]])"
            ]
          },
          "metadata": {},
          "execution_count": 43
        }
      ]
    },
    {
      "cell_type": "code",
      "source": [
        "print(sampleArray[::2,1::2])"
      ],
      "metadata": {
        "colab": {
          "base_uri": "https://localhost:8080/"
        },
        "id": "xbubmiFkSHgx",
        "outputId": "de839854-6c1b-4028-c524-edcf965705db"
      },
      "execution_count": null,
      "outputs": [
        {
          "output_type": "stream",
          "name": "stdout",
          "text": [
            "[[ 6 12]\n",
            " [30 36]\n",
            " [54 60]]\n"
          ]
        }
      ]
    },
    {
      "cell_type": "markdown",
      "source": [
        "# Exercise 5: Create a result array by adding the following two NumPy arrays. Next, modify the result array by calculating the square of each element"
      ],
      "metadata": {
        "id": "HTrckugXTHH7"
      }
    },
    {
      "cell_type": "code",
      "source": [
        "arrayOne = numpy.array([[5, 6, 9], [21 ,18, 27]])\n",
        "arrayTwo = numpy.array([[15 ,33, 24], [4 ,7, 1]])\n",
        "final = arrayOne + arrayTwo\n",
        "print(f\"{final}\\n\")\n",
        "squares_each_element = final*final\n",
        "print(squares_each_element)\n"
      ],
      "metadata": {
        "colab": {
          "base_uri": "https://localhost:8080/"
        },
        "id": "hE33rknLSHfB",
        "outputId": "7d241027-4288-4761-b5fd-4df1b394c01f"
      },
      "execution_count": null,
      "outputs": [
        {
          "output_type": "stream",
          "name": "stdout",
          "text": [
            "[[20 39 33]\n",
            " [25 25 28]]\n",
            "\n",
            "[[ 400 1521 1089]\n",
            " [ 625  625  784]]\n"
          ]
        }
      ]
    },
    {
      "cell_type": "markdown",
      "source": [
        "# Exercise 6: Split the array into four equal-sized sub-arrays\n",
        "Note: Create an 8X3 integer array from a range between 10 to 34 such that the difference between each element is 1 and then Split the array into four equal-sized sub-arrays.\n"
      ],
      "metadata": {
        "id": "qTc80vuhUBRk"
      }
    },
    {
      "cell_type": "code",
      "source": [
        "import numpy \n",
        "\n",
        "sample_array = numpy.arange(10,34,1)\n",
        "sample_array = sample_array.reshape(8,3)\n",
        "print(f\"{sample_array}\\n\")"
      ],
      "metadata": {
        "colab": {
          "base_uri": "https://localhost:8080/"
        },
        "id": "LlveI54pSHbK",
        "outputId": "5cb5ed96-202e-4273-b1b0-ef9b397b228f"
      },
      "execution_count": null,
      "outputs": [
        {
          "output_type": "stream",
          "name": "stdout",
          "text": [
            "[[10 11 12]\n",
            " [13 14 15]\n",
            " [16 17 18]\n",
            " [19 20 21]\n",
            " [22 23 24]\n",
            " [25 26 27]\n",
            " [28 29 30]\n",
            " [31 32 33]]\n",
            "\n"
          ]
        }
      ]
    },
    {
      "cell_type": "code",
      "source": [
        "print(\"\\nDividing 8X3 array into 4 sub array\\n\")\n",
        "\n",
        "sub_arrays = numpy.split(sample_array,4)\n",
        "\n",
        "print(sub_arrays)"
      ],
      "metadata": {
        "colab": {
          "base_uri": "https://localhost:8080/"
        },
        "id": "a_9YqBVSSHZg",
        "outputId": "43546066-cd14-4cb9-ad6a-95dc263cd5ec"
      },
      "execution_count": null,
      "outputs": [
        {
          "output_type": "stream",
          "name": "stdout",
          "text": [
            "\n",
            "Dividing 8X3 array into 4 sub array\n",
            "\n",
            "[array([[10, 11, 12],\n",
            "       [13, 14, 15]]), array([[16, 17, 18],\n",
            "       [19, 20, 21]]), array([[22, 23, 24],\n",
            "       [25, 26, 27]]), array([[28, 29, 30],\n",
            "       [31, 32, 33]])]\n"
          ]
        }
      ]
    },
    {
      "cell_type": "markdown",
      "source": [
        "# Exercise 7: Sort following NumPy array\n",
        "* Case 1: Sort array by the second row\n",
        "* Case 2: Sort the array by the second column"
      ],
      "metadata": {
        "id": "X-GPmRUplqzh"
      }
    },
    {
      "cell_type": "code",
      "source": [
        "sampleArray = numpy.array([[34,43,73],[82,22,12],[53,94,66]])\n"
      ],
      "metadata": {
        "id": "IbGWBn4_SHTv"
      },
      "execution_count": null,
      "outputs": []
    },
    {
      "cell_type": "code",
      "source": [
        "print(f\"printing original array: \\n{sampleArray}\\n\")\n",
        "\n",
        "second_row = sampleArray[:,sampleArray[1,:].argsort()]\n",
        "print(f\"sorting by 2nd row: \\n{second_row}\\n\")\n",
        "\n",
        "second_column = sampleArray[sampleArray[:,1].argsort()]\n",
        "print(f\"sorting by 2nd column: \\n{second_column}\")\n"
      ],
      "metadata": {
        "colab": {
          "base_uri": "https://localhost:8080/"
        },
        "id": "2J5Ls2AJSHP4",
        "outputId": "c2708c94-48db-4367-84ac-a34424a53628"
      },
      "execution_count": null,
      "outputs": [
        {
          "output_type": "stream",
          "name": "stdout",
          "text": [
            "printing original array: \n",
            "[[34 43 73]\n",
            " [82 22 12]\n",
            " [53 94 66]]\n",
            "\n",
            "sorting by 2nd row: \n",
            "[[73 43 34]\n",
            " [12 22 82]\n",
            " [66 94 53]]\n",
            "\n",
            "sorting by 2nd column: \n",
            "[[82 22 12]\n",
            " [34 43 73]\n",
            " [53 94 66]]\n"
          ]
        }
      ]
    },
    {
      "cell_type": "markdown",
      "source": [
        "# Exercise 8: Print max from axis 0 and min from axis 1 from the following 2-D array."
      ],
      "metadata": {
        "id": "kkhAXQIltZi2"
      }
    },
    {
      "cell_type": "code",
      "source": [
        "samplArray = numpy.array([[34,43,73],[82,22,12],[53,94,66]])\n",
        "print(f\"printing original array - \\n{sampleArray}\\n\")\n",
        "\n",
        "column_max = sampleArray.max(axis = 0)\n",
        "print(column_max)\n",
        "row_axis_1 = sampleArray.min(axis = 1)\n",
        "print(row_axis_1)"
      ],
      "metadata": {
        "colab": {
          "base_uri": "https://localhost:8080/"
        },
        "id": "mF9PnWS5SHK0",
        "outputId": "cdf04d86-f65e-49d9-f594-adcdb48e3ce2"
      },
      "execution_count": null,
      "outputs": [
        {
          "output_type": "stream",
          "name": "stdout",
          "text": [
            "printing original array - \n",
            "[[34 43 73]\n",
            " [82 22 12]\n",
            " [53 94 66]]\n",
            "\n",
            "[82 94 73]\n",
            "[34 12 53]\n"
          ]
        }
      ]
    },
    {
      "cell_type": "markdown",
      "source": [
        "# Exercise 9: Delete the second column from a given array and insert the following new column in its place."
      ],
      "metadata": {
        "id": "uCbEWpKLxJXh"
      }
    },
    {
      "cell_type": "code",
      "source": [
        "#doubt about aix in this. column is axis 1 or \n",
        "0\n",
        "sampleArray = numpy.array([[34,43,73],[82,22,12],[53,94,66]]) \n",
        "\n",
        "print(sampleArray)\n",
        "sampleArray = numpy.delete(sampleArray,1,axis = 0)\n",
        "print(sampleArray)"
      ],
      "metadata": {
        "colab": {
          "base_uri": "https://localhost:8080/"
        },
        "id": "3vfKVEH0SHJC",
        "outputId": "9135126c-cb9c-4109-9118-3f468702d527"
      },
      "execution_count": null,
      "outputs": [
        {
          "output_type": "stream",
          "name": "stdout",
          "text": [
            "[[34 43 73]\n",
            " [82 22 12]\n",
            " [53 94 66]]\n",
            "[[34 43 73]\n",
            " [53 94 66]]\n"
          ]
        }
      ]
    },
    {
      "cell_type": "code",
      "source": [
        "newColumn = numpy.array([[10,10,10]])\n"
      ],
      "metadata": {
        "id": "CNdaxllQSHF7"
      },
      "execution_count": null,
      "outputs": []
    },
    {
      "cell_type": "markdown",
      "source": [
        "# Exercise 10: Create two 2-D arrays and Plot them using matplotlib\n"
      ],
      "metadata": {
        "id": "EptSxnSyypBH"
      }
    },
    {
      "cell_type": "code",
      "source": [
        "first_array = numpy.array([[1,2,3],[4,5,6],[7,8,9]])\n",
        "second_array = numpy.array([[10,11,12],[13,50,15],[16,17,10]])\n",
        "\n",
        "import matplotlib.pyplot as plt\n",
        "plt.plot(first_array,second_array)\n",
        "plt.show()"
      ],
      "metadata": {
        "colab": {
          "base_uri": "https://localhost:8080/",
          "height": 265
        },
        "id": "clkyV4AZSHDv",
        "outputId": "6f08b26a-3997-4dc7-9b11-76cc88a90865"
      },
      "execution_count": null,
      "outputs": [
        {
          "output_type": "display_data",
          "data": {
            "image/png": "[encoded data removed]",
            "text/plain": [
              "<Figure size 432x288 with 1 Axes>"
            ]
          },
          "metadata": {
            "needs_background": "light"
          }
        }
      ]
    },
    {
      "cell_type": "markdown",
      "source": [
        "# Home » Python Exercises » Python Pandas Exercise"
      ],
      "metadata": {
        "id": "H6LLG5pj_tXG"
      }
    },
    {
      "cell_type": "markdown",
      "source": [
        "In this exercise, we are using Automobile Dataset for data analysis. This Dataset has different characteristics of an auto such as body-style, wheel-base, engine-type, price, mileage, horsepower, etc."
      ],
      "metadata": {
        "id": "eMPTN7iY_ynR"
      }
    },
    {
      "cell_type": "code",
      "source": [
        "from google.colab import drive\n",
        "drive.mount('/content/drive')"
      ],
      "metadata": {
        "id": "RBWjTEiy_2Wo"
      },
      "execution_count": null,
      "outputs": []
    },
    {
      "cell_type": "code",
      "source": [
        "import pandas as pd"
      ],
      "metadata": {
        "id": "W2z_G_wXAUYf"
      },
      "execution_count": null,
      "outputs": []
    },
    {
      "cell_type": "code",
      "source": [
        "file_path = \"/content/drive/MyDrive/Python Practice/Automobile_data.csv\"\n"
      ],
      "metadata": {
        "id": "5INx2fxr1BAB"
      },
      "execution_count": null,
      "outputs": []
    },
    {
      "cell_type": "code",
      "source": [
        "df = pd.read_csv(file_path)\n",
        "df"
      ],
      "metadata": {
        "id": "1GB2ljxq1A99",
        "colab": {
          "base_uri": "https://localhost:8080/",
          "height": 423
        },
        "outputId": "db4e0e6a-aea8-49e3-de1b-60acfa338df4"
      },
      "execution_count": null,
      "outputs": [
        {
          "output_type": "execute_result",
          "data": {
            "text/html": [
              "\n",
              "  <div id=\"df-8cda25f5-98a4-443b-92b8-f29d25b413b6\">\n",
              "    <div class=\"colab-df-container\">\n",
              "      <div>\n",
              "<style scoped>\n",
              "    .dataframe tbody tr th:only-of-type {\n",
              "        vertical-align: middle;\n",
              "    }\n",
              "\n",
              "    .dataframe tbody tr th {\n",
              "        vertical-align: top;\n",
              "    }\n",
              "\n",
              "    .dataframe thead th {\n",
              "        text-align: right;\n",
              "    }\n",
              "</style>\n",
              "<table border=\"1\" class=\"dataframe\">\n",
              "  <thead>\n",
              "    <tr style=\"text-align: right;\">\n",
              "      <th></th>\n",
              "      <th>index</th>\n",
              "      <th>company</th>\n",
              "      <th>body-style</th>\n",
              "      <th>wheel-base</th>\n",
              "      <th>length</th>\n",
              "      <th>engine-type</th>\n",
              "      <th>num-of-cylinders</th>\n",
              "      <th>horsepower</th>\n",
              "      <th>average-mileage</th>\n",
              "      <th>price</th>\n",
              "    </tr>\n",
              "  </thead>\n",
              "  <tbody>\n",
              "    <tr>\n",
              "      <th>0</th>\n",
              "      <td>0</td>\n",
              "      <td>alfa-romero</td>\n",
              "      <td>convertible</td>\n",
              "      <td>88.6</td>\n",
              "      <td>168.8</td>\n",
              "      <td>dohc</td>\n",
              "      <td>four</td>\n",
              "      <td>111</td>\n",
              "      <td>21</td>\n",
              "      <td>13495.0</td>\n",
              "    </tr>\n",
              "    <tr>\n",
              "      <th>1</th>\n",
              "      <td>1</td>\n",
              "      <td>alfa-romero</td>\n",
              "      <td>convertible</td>\n",
              "      <td>88.6</td>\n",
              "      <td>168.8</td>\n",
              "      <td>dohc</td>\n",
              "      <td>four</td>\n",
              "      <td>111</td>\n",
              "      <td>21</td>\n",
              "      <td>16500.0</td>\n",
              "    </tr>\n",
              "    <tr>\n",
              "      <th>2</th>\n",
              "      <td>2</td>\n",
              "      <td>alfa-romero</td>\n",
              "      <td>hatchback</td>\n",
              "      <td>94.5</td>\n",
              "      <td>171.2</td>\n",
              "      <td>ohcv</td>\n",
              "      <td>six</td>\n",
              "      <td>154</td>\n",
              "      <td>19</td>\n",
              "      <td>16500.0</td>\n",
              "    </tr>\n",
              "    <tr>\n",
              "      <th>3</th>\n",
              "      <td>3</td>\n",
              "      <td>audi</td>\n",
              "      <td>sedan</td>\n",
              "      <td>99.8</td>\n",
              "      <td>176.6</td>\n",
              "      <td>ohc</td>\n",
              "      <td>four</td>\n",
              "      <td>102</td>\n",
              "      <td>24</td>\n",
              "      <td>13950.0</td>\n",
              "    </tr>\n",
              "    <tr>\n",
              "      <th>4</th>\n",
              "      <td>4</td>\n",
              "      <td>audi</td>\n",
              "      <td>sedan</td>\n",
              "      <td>99.4</td>\n",
              "      <td>176.6</td>\n",
              "      <td>ohc</td>\n",
              "      <td>five</td>\n",
              "      <td>115</td>\n",
              "      <td>18</td>\n",
              "      <td>17450.0</td>\n",
              "    </tr>\n",
              "    <tr>\n",
              "      <th>...</th>\n",
              "      <td>...</td>\n",
              "      <td>...</td>\n",
              "      <td>...</td>\n",
              "      <td>...</td>\n",
              "      <td>...</td>\n",
              "      <td>...</td>\n",
              "      <td>...</td>\n",
              "      <td>...</td>\n",
              "      <td>...</td>\n",
              "      <td>...</td>\n",
              "    </tr>\n",
              "    <tr>\n",
              "      <th>56</th>\n",
              "      <td>81</td>\n",
              "      <td>volkswagen</td>\n",
              "      <td>sedan</td>\n",
              "      <td>97.3</td>\n",
              "      <td>171.7</td>\n",
              "      <td>ohc</td>\n",
              "      <td>four</td>\n",
              "      <td>85</td>\n",
              "      <td>27</td>\n",
              "      <td>7975.0</td>\n",
              "    </tr>\n",
              "    <tr>\n",
              "      <th>57</th>\n",
              "      <td>82</td>\n",
              "      <td>volkswagen</td>\n",
              "      <td>sedan</td>\n",
              "      <td>97.3</td>\n",
              "      <td>171.7</td>\n",
              "      <td>ohc</td>\n",
              "      <td>four</td>\n",
              "      <td>52</td>\n",
              "      <td>37</td>\n",
              "      <td>7995.0</td>\n",
              "    </tr>\n",
              "    <tr>\n",
              "      <th>58</th>\n",
              "      <td>86</td>\n",
              "      <td>volkswagen</td>\n",
              "      <td>sedan</td>\n",
              "      <td>97.3</td>\n",
              "      <td>171.7</td>\n",
              "      <td>ohc</td>\n",
              "      <td>four</td>\n",
              "      <td>100</td>\n",
              "      <td>26</td>\n",
              "      <td>9995.0</td>\n",
              "    </tr>\n",
              "    <tr>\n",
              "      <th>59</th>\n",
              "      <td>87</td>\n",
              "      <td>volvo</td>\n",
              "      <td>sedan</td>\n",
              "      <td>104.3</td>\n",
              "      <td>188.8</td>\n",
              "      <td>ohc</td>\n",
              "      <td>four</td>\n",
              "      <td>114</td>\n",
              "      <td>23</td>\n",
              "      <td>12940.0</td>\n",
              "    </tr>\n",
              "    <tr>\n",
              "      <th>60</th>\n",
              "      <td>88</td>\n",
              "      <td>volvo</td>\n",
              "      <td>wagon</td>\n",
              "      <td>104.3</td>\n",
              "      <td>188.8</td>\n",
              "      <td>ohc</td>\n",
              "      <td>four</td>\n",
              "      <td>114</td>\n",
              "      <td>23</td>\n",
              "      <td>13415.0</td>\n",
              "    </tr>\n",
              "  </tbody>\n",
              "</table>\n",
              "<p>61 rows × 10 columns</p>\n",
              "</div>\n",
              "      <button class=\"colab-df-convert\" onclick=\"convertToInteractive('df-8cda25f5-98a4-443b-92b8-f29d25b413b6')\"\n",
              "              title=\"Convert this dataframe to an interactive table.\"\n",
              "              style=\"display:none;\">\n",
              "        \n",
              "  <svg xmlns=\"http://www.w3.org/2000/svg\" height=\"24px\"viewBox=\"0 0 24 24\"\n",
              "       width=\"24px\">\n",
              "    <path d=\"M0 0h24v24H0V0z\" fill=\"none\"/>\n",
              "    <path d=\"M18.56 5.44l.94 2.06.94-2.06 2.06-.94-2.06-.94-.94-2.06-.94 2.06-2.06.94zm-11 1L8.5 8.5l.94-2.06 2.06-.94-2.06-.94L8.5 2.5l-.94 2.06-2.06.94zm10 10l.94 2.06.94-2.06 2.06-.94-2.06-.94-.94-2.06-.94 2.06-2.06.94z\"/><path d=\"M17.41 7.96l-1.37-1.37c-.4-.4-.92-.59-1.43-.59-.52 0-1.04.2-1.43.59L10.3 9.45l-7.72 7.72c-.78.78-.78 2.05 0 2.83L4 21.41c.39.39.9.59 1.41.59.51 0 1.02-.2 1.41-.59l7.78-7.78 2.81-2.81c.8-.78.8-2.07 0-2.86zM5.41 20L4 18.59l7.72-7.72 1.47 1.35L5.41 20z\"/>\n",
              "  </svg>\n",
              "      </button>\n",
              "      \n",
              "  <style>\n",
              "    .colab-df-container {\n",
              "      display:flex;\n",
              "      flex-wrap:wrap;\n",
              "      gap: 12px;\n",
              "    }\n",
              "\n",
              "    .colab-df-convert {\n",
              "      background-color: #E8F0FE;\n",
              "      border: none;\n",
              "      border-radius: 50%;\n",
              "      cursor: pointer;\n",
              "      display: none;\n",
              "      fill: #1967D2;\n",
              "      height: 32px;\n",
              "      padding: 0 0 0 0;\n",
              "      width: 32px;\n",
              "    }\n",
              "\n",
              "    .colab-df-convert:hover {\n",
              "      background-color: #E2EBFA;\n",
              "      box-shadow: 0px 1px 2px rgba(60, 64, 67, 0.3), 0px 1px 3px 1px rgba(60, 64, 67, 0.15);\n",
              "      fill: #174EA6;\n",
              "    }\n",
              "\n",
              "    [theme=dark] .colab-df-convert {\n",
              "      background-color: #3B4455;\n",
              "      fill: #D2E3FC;\n",
              "    }\n",
              "\n",
              "    [theme=dark] .colab-df-convert:hover {\n",
              "      background-color: #434B5C;\n",
              "      box-shadow: 0px 1px 3px 1px rgba(0, 0, 0, 0.15);\n",
              "      filter: drop-shadow(0px 1px 2px rgba(0, 0, 0, 0.3));\n",
              "      fill: #FFFFFF;\n",
              "    }\n",
              "  </style>\n",
              "\n",
              "      <script>\n",
              "        const buttonEl =\n",
              "          document.querySelector('#df-8cda25f5-98a4-443b-92b8-f29d25b413b6 button.colab-df-convert');\n",
              "        buttonEl.style.display =\n",
              "          google.colab.kernel.accessAllowed ? 'block' : 'none';\n",
              "\n",
              "        async function convertToInteractive(key) {\n",
              "          const element = document.querySelector('#df-8cda25f5-98a4-443b-92b8-f29d25b413b6');\n",
              "          const dataTable =\n",
              "            await google.colab.kernel.invokeFunction('convertToInteractive',\n",
              "                                                     [key], {});\n",
              "          if (!dataTable) return;\n",
              "\n",
              "          const docLinkHtml = 'Like what you see? Visit the ' +\n",
              "            '<a target=\"_blank\" href=https://colab.research.google.com/notebooks/data_table.ipynb>data table notebook</a>'\n",
              "            + ' to learn more about interactive tables.';\n",
              "          element.innerHTML = '';\n",
              "          dataTable['output_type'] = 'display_data';\n",
              "          await google.colab.output.renderOutput(dataTable, element);\n",
              "          const docLink = document.createElement('div');\n",
              "          docLink.innerHTML = docLinkHtml;\n",
              "          element.appendChild(docLink);\n",
              "        }\n",
              "      </script>\n",
              "    </div>\n",
              "  </div>\n",
              "  "
            ],
            "text/plain": [
              "    index      company   body-style  ...  horsepower  average-mileage    price\n",
              "0       0  alfa-romero  convertible  ...         111               21  13495.0\n",
              "1       1  alfa-romero  convertible  ...         111               21  16500.0\n",
              "2       2  alfa-romero    hatchback  ...         154               19  16500.0\n",
              "3       3         audi        sedan  ...         102               24  13950.0\n",
              "4       4         audi        sedan  ...         115               18  17450.0\n",
              "..    ...          ...          ...  ...         ...              ...      ...\n",
              "56     81   volkswagen        sedan  ...          85               27   7975.0\n",
              "57     82   volkswagen        sedan  ...          52               37   7995.0\n",
              "58     86   volkswagen        sedan  ...         100               26   9995.0\n",
              "59     87        volvo        sedan  ...         114               23  12940.0\n",
              "60     88        volvo        wagon  ...         114               23  13415.0\n",
              "\n",
              "[61 rows x 10 columns]"
            ]
          },
          "metadata": {},
          "execution_count": 4
        }
      ]
    },
    {
      "cell_type": "code",
      "source": [
        "df.head()"
      ],
      "metadata": {
        "id": "E02GD2Ro1A7r",
        "colab": {
          "base_uri": "https://localhost:8080/",
          "height": 206
        },
        "outputId": "25fb7add-5260-4ccb-bd59-80b63ecbf461"
      },
      "execution_count": null,
      "outputs": [
        {
          "output_type": "execute_result",
          "data": {
            "text/html": [
              "\n",
              "  <div id=\"df-2fe02640-64bc-4b3e-861f-89c6ae6dc8e0\">\n",
              "    <div class=\"colab-df-container\">\n",
              "      <div>\n",
              "<style scoped>\n",
              "    .dataframe tbody tr th:only-of-type {\n",
              "        vertical-align: middle;\n",
              "    }\n",
              "\n",
              "    .dataframe tbody tr th {\n",
              "        vertical-align: top;\n",
              "    }\n",
              "\n",
              "    .dataframe thead th {\n",
              "        text-align: right;\n",
              "    }\n",
              "</style>\n",
              "<table border=\"1\" class=\"dataframe\">\n",
              "  <thead>\n",
              "    <tr style=\"text-align: right;\">\n",
              "      <th></th>\n",
              "      <th>index</th>\n",
              "      <th>company</th>\n",
              "      <th>body-style</th>\n",
              "      <th>wheel-base</th>\n",
              "      <th>length</th>\n",
              "      <th>engine-type</th>\n",
              "      <th>num-of-cylinders</th>\n",
              "      <th>horsepower</th>\n",
              "      <th>average-mileage</th>\n",
              "      <th>price</th>\n",
              "    </tr>\n",
              "  </thead>\n",
              "  <tbody>\n",
              "    <tr>\n",
              "      <th>0</th>\n",
              "      <td>0</td>\n",
              "      <td>alfa-romero</td>\n",
              "      <td>convertible</td>\n",
              "      <td>88.6</td>\n",
              "      <td>168.8</td>\n",
              "      <td>dohc</td>\n",
              "      <td>four</td>\n",
              "      <td>111</td>\n",
              "      <td>21</td>\n",
              "      <td>13495.0</td>\n",
              "    </tr>\n",
              "    <tr>\n",
              "      <th>1</th>\n",
              "      <td>1</td>\n",
              "      <td>alfa-romero</td>\n",
              "      <td>convertible</td>\n",
              "      <td>88.6</td>\n",
              "      <td>168.8</td>\n",
              "      <td>dohc</td>\n",
              "      <td>four</td>\n",
              "      <td>111</td>\n",
              "      <td>21</td>\n",
              "      <td>16500.0</td>\n",
              "    </tr>\n",
              "    <tr>\n",
              "      <th>2</th>\n",
              "      <td>2</td>\n",
              "      <td>alfa-romero</td>\n",
              "      <td>hatchback</td>\n",
              "      <td>94.5</td>\n",
              "      <td>171.2</td>\n",
              "      <td>ohcv</td>\n",
              "      <td>six</td>\n",
              "      <td>154</td>\n",
              "      <td>19</td>\n",
              "      <td>16500.0</td>\n",
              "    </tr>\n",
              "    <tr>\n",
              "      <th>3</th>\n",
              "      <td>3</td>\n",
              "      <td>audi</td>\n",
              "      <td>sedan</td>\n",
              "      <td>99.8</td>\n",
              "      <td>176.6</td>\n",
              "      <td>ohc</td>\n",
              "      <td>four</td>\n",
              "      <td>102</td>\n",
              "      <td>24</td>\n",
              "      <td>13950.0</td>\n",
              "    </tr>\n",
              "    <tr>\n",
              "      <th>4</th>\n",
              "      <td>4</td>\n",
              "      <td>audi</td>\n",
              "      <td>sedan</td>\n",
              "      <td>99.4</td>\n",
              "      <td>176.6</td>\n",
              "      <td>ohc</td>\n",
              "      <td>five</td>\n",
              "      <td>115</td>\n",
              "      <td>18</td>\n",
              "      <td>17450.0</td>\n",
              "    </tr>\n",
              "  </tbody>\n",
              "</table>\n",
              "</div>\n",
              "      <button class=\"colab-df-convert\" onclick=\"convertToInteractive('df-2fe02640-64bc-4b3e-861f-89c6ae6dc8e0')\"\n",
              "              title=\"Convert this dataframe to an interactive table.\"\n",
              "              style=\"display:none;\">\n",
              "        \n",
              "  <svg xmlns=\"http://www.w3.org/2000/svg\" height=\"24px\"viewBox=\"0 0 24 24\"\n",
              "       width=\"24px\">\n",
              "    <path d=\"M0 0h24v24H0V0z\" fill=\"none\"/>\n",
              "    <path d=\"M18.56 5.44l.94 2.06.94-2.06 2.06-.94-2.06-.94-.94-2.06-.94 2.06-2.06.94zm-11 1L8.5 8.5l.94-2.06 2.06-.94-2.06-.94L8.5 2.5l-.94 2.06-2.06.94zm10 10l.94 2.06.94-2.06 2.06-.94-2.06-.94-.94-2.06-.94 2.06-2.06.94z\"/><path d=\"M17.41 7.96l-1.37-1.37c-.4-.4-.92-.59-1.43-.59-.52 0-1.04.2-1.43.59L10.3 9.45l-7.72 7.72c-.78.78-.78 2.05 0 2.83L4 21.41c.39.39.9.59 1.41.59.51 0 1.02-.2 1.41-.59l7.78-7.78 2.81-2.81c.8-.78.8-2.07 0-2.86zM5.41 20L4 18.59l7.72-7.72 1.47 1.35L5.41 20z\"/>\n",
              "  </svg>\n",
              "      </button>\n",
              "      \n",
              "  <style>\n",
              "    .colab-df-container {\n",
              "      display:flex;\n",
              "      flex-wrap:wrap;\n",
              "      gap: 12px;\n",
              "    }\n",
              "\n",
              "    .colab-df-convert {\n",
              "      background-color: #E8F0FE;\n",
              "      border: none;\n",
              "      border-radius: 50%;\n",
              "      cursor: pointer;\n",
              "      display: none;\n",
              "      fill: #1967D2;\n",
              "      height: 32px;\n",
              "      padding: 0 0 0 0;\n",
              "      width: 32px;\n",
              "    }\n",
              "\n",
              "    .colab-df-convert:hover {\n",
              "      background-color: #E2EBFA;\n",
              "      box-shadow: 0px 1px 2px rgba(60, 64, 67, 0.3), 0px 1px 3px 1px rgba(60, 64, 67, 0.15);\n",
              "      fill: #174EA6;\n",
              "    }\n",
              "\n",
              "    [theme=dark] .colab-df-convert {\n",
              "      background-color: #3B4455;\n",
              "      fill: #D2E3FC;\n",
              "    }\n",
              "\n",
              "    [theme=dark] .colab-df-convert:hover {\n",
              "      background-color: #434B5C;\n",
              "      box-shadow: 0px 1px 3px 1px rgba(0, 0, 0, 0.15);\n",
              "      filter: drop-shadow(0px 1px 2px rgba(0, 0, 0, 0.3));\n",
              "      fill: #FFFFFF;\n",
              "    }\n",
              "  </style>\n",
              "\n",
              "      <script>\n",
              "        const buttonEl =\n",
              "          document.querySelector('#df-2fe02640-64bc-4b3e-861f-89c6ae6dc8e0 button.colab-df-convert');\n",
              "        buttonEl.style.display =\n",
              "          google.colab.kernel.accessAllowed ? 'block' : 'none';\n",
              "\n",
              "        async function convertToInteractive(key) {\n",
              "          const element = document.querySelector('#df-2fe02640-64bc-4b3e-861f-89c6ae6dc8e0');\n",
              "          const dataTable =\n",
              "            await google.colab.kernel.invokeFunction('convertToInteractive',\n",
              "                                                     [key], {});\n",
              "          if (!dataTable) return;\n",
              "\n",
              "          const docLinkHtml = 'Like what you see? Visit the ' +\n",
              "            '<a target=\"_blank\" href=https://colab.research.google.com/notebooks/data_table.ipynb>data table notebook</a>'\n",
              "            + ' to learn more about interactive tables.';\n",
              "          element.innerHTML = '';\n",
              "          dataTable['output_type'] = 'display_data';\n",
              "          await google.colab.output.renderOutput(dataTable, element);\n",
              "          const docLink = document.createElement('div');\n",
              "          docLink.innerHTML = docLinkHtml;\n",
              "          element.appendChild(docLink);\n",
              "        }\n",
              "      </script>\n",
              "    </div>\n",
              "  </div>\n",
              "  "
            ],
            "text/plain": [
              "   index      company   body-style  ...  horsepower  average-mileage    price\n",
              "0      0  alfa-romero  convertible  ...         111               21  13495.0\n",
              "1      1  alfa-romero  convertible  ...         111               21  16500.0\n",
              "2      2  alfa-romero    hatchback  ...         154               19  16500.0\n",
              "3      3         audi        sedan  ...         102               24  13950.0\n",
              "4      4         audi        sedan  ...         115               18  17450.0\n",
              "\n",
              "[5 rows x 10 columns]"
            ]
          },
          "metadata": {},
          "execution_count": 5
        }
      ]
    },
    {
      "cell_type": "code",
      "source": [
        "df.tail()"
      ],
      "metadata": {
        "id": "TmBtflTg1A48",
        "colab": {
          "base_uri": "https://localhost:8080/",
          "height": 206
        },
        "outputId": "f83fdb96-d9c6-4351-c206-61e1e9a7b49c"
      },
      "execution_count": null,
      "outputs": [
        {
          "output_type": "execute_result",
          "data": {
            "text/html": [
              "\n",
              "  <div id=\"df-e496b382-ad17-42ee-99bb-1b9f7aa562e6\">\n",
              "    <div class=\"colab-df-container\">\n",
              "      <div>\n",
              "<style scoped>\n",
              "    .dataframe tbody tr th:only-of-type {\n",
              "        vertical-align: middle;\n",
              "    }\n",
              "\n",
              "    .dataframe tbody tr th {\n",
              "        vertical-align: top;\n",
              "    }\n",
              "\n",
              "    .dataframe thead th {\n",
              "        text-align: right;\n",
              "    }\n",
              "</style>\n",
              "<table border=\"1\" class=\"dataframe\">\n",
              "  <thead>\n",
              "    <tr style=\"text-align: right;\">\n",
              "      <th></th>\n",
              "      <th>index</th>\n",
              "      <th>company</th>\n",
              "      <th>body-style</th>\n",
              "      <th>wheel-base</th>\n",
              "      <th>length</th>\n",
              "      <th>engine-type</th>\n",
              "      <th>num-of-cylinders</th>\n",
              "      <th>horsepower</th>\n",
              "      <th>average-mileage</th>\n",
              "      <th>price</th>\n",
              "    </tr>\n",
              "  </thead>\n",
              "  <tbody>\n",
              "    <tr>\n",
              "      <th>56</th>\n",
              "      <td>81</td>\n",
              "      <td>volkswagen</td>\n",
              "      <td>sedan</td>\n",
              "      <td>97.3</td>\n",
              "      <td>171.7</td>\n",
              "      <td>ohc</td>\n",
              "      <td>four</td>\n",
              "      <td>85</td>\n",
              "      <td>27</td>\n",
              "      <td>7975.0</td>\n",
              "    </tr>\n",
              "    <tr>\n",
              "      <th>57</th>\n",
              "      <td>82</td>\n",
              "      <td>volkswagen</td>\n",
              "      <td>sedan</td>\n",
              "      <td>97.3</td>\n",
              "      <td>171.7</td>\n",
              "      <td>ohc</td>\n",
              "      <td>four</td>\n",
              "      <td>52</td>\n",
              "      <td>37</td>\n",
              "      <td>7995.0</td>\n",
              "    </tr>\n",
              "    <tr>\n",
              "      <th>58</th>\n",
              "      <td>86</td>\n",
              "      <td>volkswagen</td>\n",
              "      <td>sedan</td>\n",
              "      <td>97.3</td>\n",
              "      <td>171.7</td>\n",
              "      <td>ohc</td>\n",
              "      <td>four</td>\n",
              "      <td>100</td>\n",
              "      <td>26</td>\n",
              "      <td>9995.0</td>\n",
              "    </tr>\n",
              "    <tr>\n",
              "      <th>59</th>\n",
              "      <td>87</td>\n",
              "      <td>volvo</td>\n",
              "      <td>sedan</td>\n",
              "      <td>104.3</td>\n",
              "      <td>188.8</td>\n",
              "      <td>ohc</td>\n",
              "      <td>four</td>\n",
              "      <td>114</td>\n",
              "      <td>23</td>\n",
              "      <td>12940.0</td>\n",
              "    </tr>\n",
              "    <tr>\n",
              "      <th>60</th>\n",
              "      <td>88</td>\n",
              "      <td>volvo</td>\n",
              "      <td>wagon</td>\n",
              "      <td>104.3</td>\n",
              "      <td>188.8</td>\n",
              "      <td>ohc</td>\n",
              "      <td>four</td>\n",
              "      <td>114</td>\n",
              "      <td>23</td>\n",
              "      <td>13415.0</td>\n",
              "    </tr>\n",
              "  </tbody>\n",
              "</table>\n",
              "</div>\n",
              "      <button class=\"colab-df-convert\" onclick=\"convertToInteractive('df-e496b382-ad17-42ee-99bb-1b9f7aa562e6')\"\n",
              "              title=\"Convert this dataframe to an interactive table.\"\n",
              "              style=\"display:none;\">\n",
              "        \n",
              "  <svg xmlns=\"http://www.w3.org/2000/svg\" height=\"24px\"viewBox=\"0 0 24 24\"\n",
              "       width=\"24px\">\n",
              "    <path d=\"M0 0h24v24H0V0z\" fill=\"none\"/>\n",
              "    <path d=\"M18.56 5.44l.94 2.06.94-2.06 2.06-.94-2.06-.94-.94-2.06-.94 2.06-2.06.94zm-11 1L8.5 8.5l.94-2.06 2.06-.94-2.06-.94L8.5 2.5l-.94 2.06-2.06.94zm10 10l.94 2.06.94-2.06 2.06-.94-2.06-.94-.94-2.06-.94 2.06-2.06.94z\"/><path d=\"M17.41 7.96l-1.37-1.37c-.4-.4-.92-.59-1.43-.59-.52 0-1.04.2-1.43.59L10.3 9.45l-7.72 7.72c-.78.78-.78 2.05 0 2.83L4 21.41c.39.39.9.59 1.41.59.51 0 1.02-.2 1.41-.59l7.78-7.78 2.81-2.81c.8-.78.8-2.07 0-2.86zM5.41 20L4 18.59l7.72-7.72 1.47 1.35L5.41 20z\"/>\n",
              "  </svg>\n",
              "      </button>\n",
              "      \n",
              "  <style>\n",
              "    .colab-df-container {\n",
              "      display:flex;\n",
              "      flex-wrap:wrap;\n",
              "      gap: 12px;\n",
              "    }\n",
              "\n",
              "    .colab-df-convert {\n",
              "      background-color: #E8F0FE;\n",
              "      border: none;\n",
              "      border-radius: 50%;\n",
              "      cursor: pointer;\n",
              "      display: none;\n",
              "      fill: #1967D2;\n",
              "      height: 32px;\n",
              "      padding: 0 0 0 0;\n",
              "      width: 32px;\n",
              "    }\n",
              "\n",
              "    .colab-df-convert:hover {\n",
              "      background-color: #E2EBFA;\n",
              "      box-shadow: 0px 1px 2px rgba(60, 64, 67, 0.3), 0px 1px 3px 1px rgba(60, 64, 67, 0.15);\n",
              "      fill: #174EA6;\n",
              "    }\n",
              "\n",
              "    [theme=dark] .colab-df-convert {\n",
              "      background-color: #3B4455;\n",
              "      fill: #D2E3FC;\n",
              "    }\n",
              "\n",
              "    [theme=dark] .colab-df-convert:hover {\n",
              "      background-color: #434B5C;\n",
              "      box-shadow: 0px 1px 3px 1px rgba(0, 0, 0, 0.15);\n",
              "      filter: drop-shadow(0px 1px 2px rgba(0, 0, 0, 0.3));\n",
              "      fill: #FFFFFF;\n",
              "    }\n",
              "  </style>\n",
              "\n",
              "      <script>\n",
              "        const buttonEl =\n",
              "          document.querySelector('#df-e496b382-ad17-42ee-99bb-1b9f7aa562e6 button.colab-df-convert');\n",
              "        buttonEl.style.display =\n",
              "          google.colab.kernel.accessAllowed ? 'block' : 'none';\n",
              "\n",
              "        async function convertToInteractive(key) {\n",
              "          const element = document.querySelector('#df-e496b382-ad17-42ee-99bb-1b9f7aa562e6');\n",
              "          const dataTable =\n",
              "            await google.colab.kernel.invokeFunction('convertToInteractive',\n",
              "                                                     [key], {});\n",
              "          if (!dataTable) return;\n",
              "\n",
              "          const docLinkHtml = 'Like what you see? Visit the ' +\n",
              "            '<a target=\"_blank\" href=https://colab.research.google.com/notebooks/data_table.ipynb>data table notebook</a>'\n",
              "            + ' to learn more about interactive tables.';\n",
              "          element.innerHTML = '';\n",
              "          dataTable['output_type'] = 'display_data';\n",
              "          await google.colab.output.renderOutput(dataTable, element);\n",
              "          const docLink = document.createElement('div');\n",
              "          docLink.innerHTML = docLinkHtml;\n",
              "          element.appendChild(docLink);\n",
              "        }\n",
              "      </script>\n",
              "    </div>\n",
              "  </div>\n",
              "  "
            ],
            "text/plain": [
              "    index     company body-style  ...  horsepower  average-mileage    price\n",
              "56     81  volkswagen      sedan  ...          85               27   7975.0\n",
              "57     82  volkswagen      sedan  ...          52               37   7995.0\n",
              "58     86  volkswagen      sedan  ...         100               26   9995.0\n",
              "59     87       volvo      sedan  ...         114               23  12940.0\n",
              "60     88       volvo      wagon  ...         114               23  13415.0\n",
              "\n",
              "[5 rows x 10 columns]"
            ]
          },
          "metadata": {},
          "execution_count": 6
        }
      ]
    },
    {
      "cell_type": "markdown",
      "source": [
        "# You tube code facts"
      ],
      "metadata": {
        "id": "ubKwahAFBSDf"
      }
    },
    {
      "cell_type": "code",
      "source": [
        ""
      ],
      "metadata": {
        "id": "BwVAxqacBQ8R"
      },
      "execution_count": null,
      "outputs": []
    },
    {
      "cell_type": "code",
      "source": [
        ""
      ],
      "metadata": {
        "id": "ChJc-0MSBQ4B"
      },
      "execution_count": null,
      "outputs": []
    },
    {
      "cell_type": "code",
      "source": [
        ""
      ],
      "metadata": {
        "id": "JiCxybIlBQ2P"
      },
      "execution_count": null,
      "outputs": []
    },
    {
      "cell_type": "code",
      "source": [
        ""
      ],
      "metadata": {
        "id": "X6XpTlixBQyi"
      },
      "execution_count": null,
      "outputs": []
    },
    {
      "cell_type": "code",
      "source": [
        ""
      ],
      "metadata": {
        "id": "oH4Tru75BQwy"
      },
      "execution_count": null,
      "outputs": []
    },
    {
      "cell_type": "code",
      "source": [
        ""
      ],
      "metadata": {
        "id": "cBSulR_iSHAE"
      },
      "execution_count": null,
      "outputs": []
    },
    {
      "cell_type": "code",
      "source": [
        ""
      ],
      "metadata": {
        "id": "nETmOHSNSG-g"
      },
      "execution_count": null,
      "outputs": []
    },
    {
      "cell_type": "code",
      "source": [
        ""
      ],
      "metadata": {
        "id": "-VU2K-aoSG7B"
      },
      "execution_count": null,
      "outputs": []
    },
    {
      "cell_type": "code",
      "source": [
        ""
      ],
      "metadata": {
        "id": "I3w0-JBXSG5U"
      },
      "execution_count": null,
      "outputs": []
    },
    {
      "cell_type": "code",
      "source": [
        ""
      ],
      "metadata": {
        "id": "0xxfDKND00zT"
      },
      "execution_count": null,
      "outputs": []
    },
    {
      "cell_type": "code",
      "source": [
        ""
      ],
      "metadata": {
        "id": "VnzjVeLN00wD"
      },
      "execution_count": null,
      "outputs": []
    },
    {
      "cell_type": "code",
      "source": [
        ""
      ],
      "metadata": {
        "id": "b10ppVi600tw"
      },
      "execution_count": null,
      "outputs": []
    },
    {
      "cell_type": "code",
      "source": [
        ""
      ],
      "metadata": {
        "id": "iTjGjeGW00rL"
      },
      "execution_count": null,
      "outputs": []
    },
    {
      "cell_type": "code",
      "source": [
        ""
      ],
      "metadata": {
        "id": "HgxZuP_X00op"
      },
      "execution_count": null,
      "outputs": []
    }
  ]
}